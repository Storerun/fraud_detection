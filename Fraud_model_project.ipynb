{
 "cells": [
  {
   "cell_type": "markdown",
   "id": "ca448c5b",
   "metadata": {
    "id": "ca448c5b"
   },
   "source": [
    "# **Credit Card Fraud Detection Model**\n",
    "\n",
    "<img src=\"https://encrypted-tbn0.gstatic.com/images?q=tbn:ANd9GcS-e8zkY607O1csNcQvxRGBF_QyCmQM9aKm0Q&usqp=CAU\"  width=\"1000\" height=\"400\" />"
   ]
  },
  {
   "cell_type": "markdown",
   "id": "NcyAfc_o6Zan",
   "metadata": {
    "id": "NcyAfc_o6Zan"
   },
   "source": [
    "## **Table of Content**\n",
    "* [Project Overview](#Project-Overview)\n",
    "* [Project Objective](#Project-Overview)\n",
    "* [Importing Packages](#Importing-the-neccesary-packages)\n",
    "* [Importing Data](#Data-importation)\n",
    "* [Preprocessing](#Preprocessing)\n",
    "* [Exploratory Data Analysis](#Exploratory-data-analysis)\n",
    "* [Data preprocessing](#Data-preprocessing-for-modelling)\n",
    "    * [Data Slicing into X and y ](#Seperating-target-variable-and-predictors)\n",
    "    * [Data splitting](#Splitting-the-data-into-train_set-and-test_set)\n",
    "    * [Checking for balance](#Checking-whether-the-target-variable-is-balanced-or-not)\n",
    "    * [Correcting Imbalance](#Correcting-imbalance-data)\n",
    "* [Building Models](#Building-of-Model)\n",
    "    * [KNN](#1.-K-Nearest-Neighbors)\n",
    "    * [Logistic Regression](#2.-Logistic-regression)\n",
    "    * [SVM](#3.-Support-Vector-Machine)\n",
    "    * [Decision Tree](#4.-Decision-Tree)\n",
    "    * [Random Forest](#5.-Random-Forest)\n",
    "    * [Bagging](#6.-Bagging-(Boostrap-Aggregation))\n",
    "    * [AdaBoost](#7.-AdaBoost)\n",
    "    * [Gradient Boost](#8.-Gradient-boost)\n",
    "    * [Voting Classifier](#9.-Voting-Classifier)\n",
    "    * [XGBoost](#10.-XGBOOST)\n",
    "    * [CatBoost](#11.-CATBOOST)\n",
    "* [Model Selection](#Model-Selection)\n",
    "    * [Performance Measures](#Creating-a-DataFrame-with-Performance-measures)\n",
    "    * [Best Model](#Best-Model)\n",
    "* [Feature Importance](#Feature-Importance)\n"
   ]
  },
  {
   "cell_type": "markdown",
   "id": "0pTDu0sleefj",
   "metadata": {
    "id": "0pTDu0sleefj"
   },
   "source": [
    "## **Project Overview**\n",
    "Credit card fraud involves the illegal use of someone else's credentials to make fraudulent credit card transactions so that the individual is charged for items that they did not purchase. The person whose credit card is mishandled usually ends up with unpaid debt. He/she may be unable to obtain new credit due to a poor credit score (at least until matters are sorted out), which makes early detection of fraudulent transactions by credit card companies crucial."
   ]
  },
  {
   "cell_type": "markdown",
   "id": "-5LDzF5B6SAg",
   "metadata": {
    "id": "-5LDzF5B6SAg"
   },
   "source": [
    "## **Project Objectives**\n",
    "This project is to build a **Machine Learning Model** to assist banks and/or credit union to predict if a transaction is fraudulent or legitimate.\n",
    "\n"
   ]
  },
  {
   "cell_type": "markdown",
   "id": "50NovSsZ7BA-",
   "metadata": {
    "id": "50NovSsZ7BA-"
   },
   "source": [
    "## **Importing the neccesary packages**"
   ]
  },
  {
   "cell_type": "code",
   "execution_count": 2,
   "id": "11f16504",
   "metadata": {
    "executionInfo": {
     "elapsed": 5053,
     "status": "ok",
     "timestamp": 1669460615436,
     "user": {
      "displayName": "Mohammed Fuseini",
      "userId": "12618026182013098003"
     },
     "user_tz": 0
    },
    "id": "11f16504"
   },
   "outputs": [],
   "source": [
    "import pandas as pd\n",
    "import numpy as np\n",
    "import matplotlib.pyplot as plt\n",
    "import seaborn as sns\n",
    "%matplotlib inline\n",
    "\n",
    "#Plotly\n",
    "import plotly.express as px \n",
    "import plotly.graph_objects as go\n",
    "\n",
    "import sklearn\n",
    "\n",
    "#date library\n",
    "import datetime\n",
    "\n",
    "import warnings\n",
    "warnings.filterwarnings('ignore')"
   ]
  },
  {
   "cell_type": "code",
   "execution_count": 3,
   "id": "mSwQD3CEhp_Q",
   "metadata": {
    "colab": {
     "base_uri": "https://localhost:8080/"
    },
    "executionInfo": {
     "elapsed": 16053,
     "status": "ok",
     "timestamp": 1669460632645,
     "user": {
      "displayName": "Mohammed Fuseini",
      "userId": "12618026182013098003"
     },
     "user_tz": 0
    },
    "id": "mSwQD3CEhp_Q",
    "outputId": "5fff142e-0139-4998-f8d4-78ebb69cd3e1"
   },
   "outputs": [
    {
     "name": "stdout",
     "output_type": "stream",
     "text": [
      "Collecting catboost\n",
      "  Downloading catboost-1.1.1-cp38-none-win_amd64.whl (74.0 MB)\n",
      "Collecting graphviz\n",
      "  Downloading graphviz-0.20.1-py3-none-any.whl (47 kB)\n",
      "Requirement already satisfied: numpy>=1.16.0 in c:\\users\\hp\\anaconda3\\lib\\site-packages (from catboost) (1.20.1)\n",
      "Requirement already satisfied: scipy in c:\\users\\hp\\anaconda3\\lib\\site-packages (from catboost) (1.6.2)\n",
      "Requirement already satisfied: six in c:\\users\\hp\\anaconda3\\lib\\site-packages (from catboost) (1.15.0)\n",
      "Requirement already satisfied: pandas>=0.24.0 in c:\\users\\hp\\anaconda3\\lib\\site-packages (from catboost) (1.2.4)\n",
      "Requirement already satisfied: matplotlib in c:\\users\\hp\\anaconda3\\lib\\site-packages (from catboost) (3.3.4)\n",
      "Requirement already satisfied: plotly in c:\\users\\hp\\anaconda3\\lib\\site-packages (from catboost) (5.1.0)\n",
      "Requirement already satisfied: python-dateutil>=2.7.3 in c:\\users\\hp\\anaconda3\\lib\\site-packages (from pandas>=0.24.0->catboost) (2.8.1)\n",
      "Requirement already satisfied: pytz>=2017.3 in c:\\users\\hp\\anaconda3\\lib\\site-packages (from pandas>=0.24.0->catboost) (2021.1)\n",
      "Requirement already satisfied: pillow>=6.2.0 in c:\\users\\hp\\anaconda3\\lib\\site-packages (from matplotlib->catboost) (8.2.0)\n",
      "Requirement already satisfied: kiwisolver>=1.0.1 in c:\\users\\hp\\anaconda3\\lib\\site-packages (from matplotlib->catboost) (1.3.1)\n",
      "Requirement already satisfied: cycler>=0.10 in c:\\users\\hp\\anaconda3\\lib\\site-packages (from matplotlib->catboost) (0.10.0)\n",
      "Requirement already satisfied: pyparsing!=2.0.4,!=2.1.2,!=2.1.6,>=2.0.3 in c:\\users\\hp\\anaconda3\\lib\\site-packages (from matplotlib->catboost) (2.4.7)\n",
      "Requirement already satisfied: tenacity>=6.2.0 in c:\\users\\hp\\anaconda3\\lib\\site-packages (from plotly->catboost) (8.0.1)\n",
      "Installing collected packages: graphviz, catboost\n",
      "Successfully installed catboost-1.1.1 graphviz-0.20.1\n"
     ]
    }
   ],
   "source": [
    "!pip install catboost"
   ]
  },
  {
   "cell_type": "markdown",
   "id": "db55531d",
   "metadata": {
    "id": "db55531d"
   },
   "source": [
    "## **Importing the needed classes for building models,validation, and metrics**"
   ]
  },
  {
   "cell_type": "code",
   "execution_count": 4,
   "id": "d54d6a89",
   "metadata": {
    "executionInfo": {
     "elapsed": 468,
     "status": "ok",
     "timestamp": 1669460633104,
     "user": {
      "displayName": "Mohammed Fuseini",
      "userId": "12618026182013098003"
     },
     "user_tz": 0
    },
    "id": "d54d6a89"
   },
   "outputs": [
    {
     "ename": "ModuleNotFoundError",
     "evalue": "No module named 'imblearn'",
     "output_type": "error",
     "traceback": [
      "\u001b[1;31m---------------------------------------------------------------------------\u001b[0m",
      "\u001b[1;31mModuleNotFoundError\u001b[0m                       Traceback (most recent call last)",
      "\u001b[1;32m<ipython-input-4-0430aab1cf59>\u001b[0m in \u001b[0;36m<module>\u001b[1;34m\u001b[0m\n\u001b[0;32m     45\u001b[0m \u001b[1;33m\u001b[0m\u001b[0m\n\u001b[0;32m     46\u001b[0m \u001b[1;31m#imblearn\u001b[0m\u001b[1;33m\u001b[0m\u001b[1;33m\u001b[0m\u001b[1;33m\u001b[0m\u001b[0m\n\u001b[1;32m---> 47\u001b[1;33m \u001b[1;32mfrom\u001b[0m \u001b[0mimblearn\u001b[0m\u001b[1;33m.\u001b[0m\u001b[0mover_sampling\u001b[0m \u001b[1;32mimport\u001b[0m \u001b[0mRandomOverSampler\u001b[0m\u001b[1;33m\u001b[0m\u001b[1;33m\u001b[0m\u001b[0m\n\u001b[0m\u001b[0;32m     48\u001b[0m \u001b[1;32mfrom\u001b[0m \u001b[0mimblearn\u001b[0m\u001b[1;33m.\u001b[0m\u001b[0mover_sampling\u001b[0m \u001b[1;32mimport\u001b[0m \u001b[0mSMOTE\u001b[0m\u001b[1;33m\u001b[0m\u001b[1;33m\u001b[0m\u001b[0m\n\u001b[0;32m     49\u001b[0m \u001b[1;32mfrom\u001b[0m \u001b[0mimblearn\u001b[0m\u001b[1;33m.\u001b[0m\u001b[0mover_sampling\u001b[0m \u001b[1;32mimport\u001b[0m \u001b[0mADASYN\u001b[0m\u001b[1;33m\u001b[0m\u001b[1;33m\u001b[0m\u001b[0m\n",
      "\u001b[1;31mModuleNotFoundError\u001b[0m: No module named 'imblearn'"
     ]
    }
   ],
   "source": [
    "#model selection libraries\n",
    "from sklearn.model_selection import train_test_split\n",
    "from sklearn.model_selection import cross_val_score\n",
    "from sklearn.model_selection import GridSearchCV\n",
    "\n",
    "#classifiers\n",
    "from sklearn.linear_model import LogisticRegression\n",
    "from sklearn.tree import DecisionTreeClassifier\n",
    "from sklearn.neighbors import KNeighborsClassifier \n",
    "from sklearn.svm import SVC \n",
    "from sklearn.svm import LinearSVC\n",
    "\n",
    "#ensemble libraries\n",
    "from sklearn.ensemble import VotingClassifier\n",
    "from sklearn.ensemble import BaggingClassifier\n",
    "from sklearn.ensemble import RandomForestClassifier\n",
    "from sklearn.ensemble import GradientBoostingClassifier\n",
    "from sklearn.ensemble import AdaBoostClassifier\n",
    "\n",
    "#XGBoost\n",
    "from xgboost import XGBClassifier\n",
    "\n",
    "#Catboost\n",
    "from catboost import CatBoostClassifier\n",
    "\n",
    "\n",
    "#preprocessing libraries\n",
    "from sklearn.preprocessing import MinMaxScaler\n",
    "from sklearn.preprocessing import StandardScaler\n",
    "from sklearn.preprocessing import RobustScaler\n",
    "\n",
    "#pipipelines\n",
    "from sklearn.pipeline import Pipeline\n",
    "from sklearn.pipeline import make_pipeline\n",
    "\n",
    "#metrics\n",
    "from sklearn.metrics import confusion_matrix\n",
    "from sklearn.metrics import roc_auc_score\n",
    "from sklearn.metrics import roc_curve\n",
    "from sklearn.metrics import accuracy_score\n",
    "from sklearn.metrics import f1_score\n",
    "from sklearn.metrics import precision_score\n",
    "from sklearn.metrics import recall_score\n",
    "from sklearn.metrics import classification_report\n",
    "\n",
    "#imblearn\n",
    "from imblearn.over_sampling import RandomOverSampler\n",
    "from imblearn.over_sampling import SMOTE\n",
    "from imblearn.over_sampling import ADASYN\n",
    "from imblearn.pipeline import Pipeline\n",
    "from collections import Counter"
   ]
  },
  {
   "cell_type": "markdown",
   "id": "6bd8f297",
   "metadata": {
    "id": "6bd8f297"
   },
   "source": [
    "## **Data-importation**"
   ]
  },
  {
   "cell_type": "code",
   "execution_count": null,
   "id": "Z8r657h8ca_1",
   "metadata": {
    "colab": {
     "base_uri": "https://localhost:8080/"
    },
    "executionInfo": {
     "elapsed": 25589,
     "status": "ok",
     "timestamp": 1669460664986,
     "user": {
      "displayName": "Mohammed Fuseini",
      "userId": "12618026182013098003"
     },
     "user_tz": 0
    },
    "id": "Z8r657h8ca_1",
    "outputId": "272882c9-01e6-4e3b-99c6-cc04cf730a1c"
   },
   "outputs": [],
   "source": [
    "from google.colab import drive\n",
    "drive.mount('/content/drive')"
   ]
  },
  {
   "cell_type": "code",
   "execution_count": null,
   "id": "884760e6",
   "metadata": {
    "executionInfo": {
     "elapsed": 445,
     "status": "ok",
     "timestamp": 1669460669685,
     "user": {
      "displayName": "Mohammed Fuseini",
      "userId": "12618026182013098003"
     },
     "user_tz": 0
    },
    "id": "884760e6",
    "scrolled": true
   },
   "outputs": [],
   "source": [
    "#creating a path for our dataset\n",
    "path = \"/content/drive/MyDrive/Colab Notebooks/Fraud detection/creditcard.csv\" "
   ]
  },
  {
   "cell_type": "code",
   "execution_count": null,
   "id": "qWxKrq0beJzy",
   "metadata": {
    "colab": {
     "base_uri": "https://localhost:8080/",
     "height": 299
    },
    "executionInfo": {
     "elapsed": 4918,
     "status": "ok",
     "timestamp": 1669460676400,
     "user": {
      "displayName": "Mohammed Fuseini",
      "userId": "12618026182013098003"
     },
     "user_tz": 0
    },
    "id": "qWxKrq0beJzy",
    "outputId": "b2cf4c35-456c-431c-da4f-120f1d55ee79"
   },
   "outputs": [],
   "source": [
    "#loading the data and checking the head\n",
    "data = pd.read_csv(path)\n",
    "data.head()"
   ]
  },
  {
   "cell_type": "markdown",
   "id": "ZBCvtIIXy6b6",
   "metadata": {
    "id": "ZBCvtIIXy6b6"
   },
   "source": [
    "Due to confidentiality issue, original features V1, V2,... V28 have been transformed with PCA, however, we may guess that these features might be originally credit card number, expiry date, CVV, cardholder name, transaction location, transaction date-time, etc.\n",
    "\n",
    "The only features which have not been transformed with PCA are 'Time' and 'Amount'. Feature 'Time' contains the seconds elapsed between each transaction and the first transaction in the dataset. The feature 'Amount' is the transaction Amount, this feature can be used for example-dependant cost-sensitive learning.\n",
    "\n",
    "Feature 'Class' is the response variable and it takes value 1 in case of fraud and 0 otherwise."
   ]
  },
  {
   "cell_type": "code",
   "execution_count": null,
   "id": "cc398055",
   "metadata": {
    "colab": {
     "base_uri": "https://localhost:8080/"
    },
    "executionInfo": {
     "elapsed": 60,
     "status": "ok",
     "timestamp": 1668496135404,
     "user": {
      "displayName": "Mohammed Fuseini",
      "userId": "12618026182013098003"
     },
     "user_tz": 0
    },
    "id": "cc398055",
    "outputId": "98772083-96b4-4331-951d-e7a98957659d",
    "scrolled": true
   },
   "outputs": [],
   "source": [
    "#checking the number of rows and columns\n",
    "data.shape\n",
    "print(\"The dataset has {} rows and {} columns.\".format(data.shape[0],data.shape[1]))"
   ]
  },
  {
   "cell_type": "markdown",
   "id": "66b3fa7b",
   "metadata": {
    "id": "66b3fa7b"
   },
   "source": [
    "## **Preprocessing**"
   ]
  },
  {
   "cell_type": "markdown",
   "id": "5tJgIcUq7qeB",
   "metadata": {
    "id": "5tJgIcUq7qeB"
   },
   "source": [
    "### Checking for missing values"
   ]
  },
  {
   "cell_type": "code",
   "execution_count": null,
   "id": "ef75c8d8",
   "metadata": {
    "colab": {
     "base_uri": "https://localhost:8080/"
    },
    "executionInfo": {
     "elapsed": 57,
     "status": "ok",
     "timestamp": 1668496135408,
     "user": {
      "displayName": "Mohammed Fuseini",
      "userId": "12618026182013098003"
     },
     "user_tz": 0
    },
    "id": "ef75c8d8",
    "outputId": "3d758986-eacb-48fd-82ac-6c3bee3f6efa",
    "scrolled": false
   },
   "outputs": [],
   "source": [
    "data.isnull().sum()"
   ]
  },
  {
   "cell_type": "markdown",
   "id": "a79f9b3d",
   "metadata": {
    "id": "a79f9b3d"
   },
   "source": [
    "**Observation**\n",
    "\n",
    "There were no missing values in our data"
   ]
  },
  {
   "cell_type": "markdown",
   "id": "2d27558c",
   "metadata": {
    "id": "2d27558c"
   },
   "source": [
    "### Checking the data types of the different columns"
   ]
  },
  {
   "cell_type": "code",
   "execution_count": null,
   "id": "c03e3142",
   "metadata": {
    "colab": {
     "base_uri": "https://localhost:8080/"
    },
    "executionInfo": {
     "elapsed": 44,
     "status": "ok",
     "timestamp": 1668496135411,
     "user": {
      "displayName": "Mohammed Fuseini",
      "userId": "12618026182013098003"
     },
     "user_tz": 0
    },
    "id": "c03e3142",
    "outputId": "8041bd98-06e0-4f8a-ae51-ee4caff0cccc",
    "scrolled": false
   },
   "outputs": [],
   "source": [
    "data.info()"
   ]
  },
  {
   "cell_type": "markdown",
   "id": "addd248e",
   "metadata": {
    "id": "addd248e"
   },
   "source": [
    "### Checking for duplicates"
   ]
  },
  {
   "cell_type": "code",
   "execution_count": null,
   "id": "69b95a7b",
   "metadata": {
    "colab": {
     "base_uri": "https://localhost:8080/",
     "height": 488
    },
    "executionInfo": {
     "elapsed": 2605,
     "status": "ok",
     "timestamp": 1668496137991,
     "user": {
      "displayName": "Mohammed Fuseini",
      "userId": "12618026182013098003"
     },
     "user_tz": 0
    },
    "id": "69b95a7b",
    "outputId": "5c5a3b4e-af9f-4cc4-cd8b-60e56690327d"
   },
   "outputs": [],
   "source": [
    "data[data.duplicated()]"
   ]
  },
  {
   "cell_type": "code",
   "execution_count": null,
   "id": "88634ae4",
   "metadata": {
    "colab": {
     "base_uri": "https://localhost:8080/"
    },
    "executionInfo": {
     "elapsed": 2509,
     "status": "ok",
     "timestamp": 1669460702031,
     "user": {
      "displayName": "Mohammed Fuseini",
      "userId": "12618026182013098003"
     },
     "user_tz": 0
    },
    "id": "88634ae4",
    "outputId": "cd54c1c5-5d50-4240-d408-b410286ef4f5",
    "scrolled": true
   },
   "outputs": [],
   "source": [
    "data.duplicated().sum()\n",
    "print(\"The dataset contains {}, and we need to drop it\".format(data.duplicated().sum()))"
   ]
  },
  {
   "cell_type": "code",
   "execution_count": null,
   "id": "f08122b7",
   "metadata": {
    "colab": {
     "base_uri": "https://localhost:8080/"
    },
    "executionInfo": {
     "elapsed": 1442,
     "status": "ok",
     "timestamp": 1669460730066,
     "user": {
      "displayName": "Mohammed Fuseini",
      "userId": "12618026182013098003"
     },
     "user_tz": 0
    },
    "id": "f08122b7",
    "outputId": "366cf3b0-34c2-4133-9dfe-602b8dd8bf37"
   },
   "outputs": [],
   "source": [
    "#dropping duplicated rows\n",
    "data.drop_duplicates(inplace=True)\n",
    "print(\"The dataset after removing duplicates now has {} rows and {} columns\".format(data.shape[0],data.shape[1]))"
   ]
  },
  {
   "cell_type": "markdown",
   "id": "c1985c02",
   "metadata": {
    "id": "c1985c02"
   },
   "source": [
    "## **Exploratory-data-analysis**"
   ]
  },
  {
   "cell_type": "markdown",
   "id": "9a1a045e",
   "metadata": {
    "id": "9a1a045e"
   },
   "source": [
    "### **Samplling Data**\n",
    "We have a very large dataset hence the need to sample fraction of the dataset to aid in efficiency of running the codes."
   ]
  },
  {
   "cell_type": "code",
   "execution_count": null,
   "id": "cubCHCfckGDH",
   "metadata": {
    "colab": {
     "base_uri": "https://localhost:8080/"
    },
    "executionInfo": {
     "elapsed": 3,
     "status": "ok",
     "timestamp": 1669460731588,
     "user": {
      "displayName": "Mohammed Fuseini",
      "userId": "12618026182013098003"
     },
     "user_tz": 0
    },
    "id": "cubCHCfckGDH",
    "outputId": "e57d152f-d409-47ac-a48c-96ccb590662d"
   },
   "outputs": [],
   "source": [
    "#Sampling 5% of our the data randomly \n",
    "sample_df = data.sample(frac= 0.05, random_state = 42)\n",
    "sample_df.shape\n",
    "print(\"The sampled data has {} rows and {} columns. Random State was set to help reproductivity.\".format(sample_df.shape[0],sample_df.shape[1]))"
   ]
  },
  {
   "cell_type": "markdown",
   "id": "8Set8rp0NnPx",
   "metadata": {
    "id": "8Set8rp0NnPx"
   },
   "source": [
    "#### **Distribution of Sample data against Original data**"
   ]
  },
  {
   "cell_type": "code",
   "execution_count": null,
   "id": "tGAiAC9DoAUg",
   "metadata": {
    "colab": {
     "base_uri": "https://localhost:8080/"
    },
    "executionInfo": {
     "elapsed": 497,
     "status": "ok",
     "timestamp": 1669385504352,
     "user": {
      "displayName": "Mohammed Fuseini",
      "userId": "12618026182013098003"
     },
     "user_tz": 0
    },
    "id": "tGAiAC9DoAUg",
    "outputId": "b0fe3dc1-d600-4af3-a996-d340162d87ee"
   },
   "outputs": [],
   "source": [
    "#checking the distribution of the class from the sample data against the actual data\n",
    "print(sample_df[\"Class\"].value_counts())\n",
    "print('\\n')\n",
    "print(sample_df[\"Class\"].value_counts(normalize=True)) #normlize returns the relative frequencies of the class"
   ]
  },
  {
   "cell_type": "code",
   "execution_count": null,
   "id": "a1zYRN5-p9XD",
   "metadata": {
    "colab": {
     "base_uri": "https://localhost:8080/"
    },
    "executionInfo": {
     "elapsed": 28,
     "status": "ok",
     "timestamp": 1668496146673,
     "user": {
      "displayName": "Mohammed Fuseini",
      "userId": "12618026182013098003"
     },
     "user_tz": 0
    },
    "id": "a1zYRN5-p9XD",
    "outputId": "9f7315a2-fbc0-4248-86a3-e79697a6695d"
   },
   "outputs": [],
   "source": [
    "print(data[\"Class\"].value_counts())\n",
    "print('\\n')\n",
    "print(data[\"Class\"].value_counts(normalize=True))"
   ]
  },
  {
   "cell_type": "code",
   "execution_count": null,
   "id": "avlxPAjKrJ2d",
   "metadata": {
    "colab": {
     "base_uri": "https://localhost:8080/",
     "height": 281
    },
    "executionInfo": {
     "elapsed": 568,
     "status": "ok",
     "timestamp": 1668496147221,
     "user": {
      "displayName": "Mohammed Fuseini",
      "userId": "12618026182013098003"
     },
     "user_tz": 0
    },
    "id": "avlxPAjKrJ2d",
    "outputId": "1b47bf98-eba0-4579-e83a-50282e415169"
   },
   "outputs": [],
   "source": [
    "#visulizing both cases\n",
    "plt.figure(figsize=(8,4))\n",
    "#original Data\n",
    "plt.subplot(1,2,1)\n",
    "data[\"Class\"].value_counts(normalize=True).plot(kind='bar',rot=0)\n",
    "plt.title(\"Original Distribution of Class\")\n",
    "\n",
    "#sampled Data\n",
    "plt.subplot(1,2,2)\n",
    "sample_df[\"Class\"].value_counts(normalize=True).plot(kind='bar',rot=0)\n",
    "plt.title(\"Sampled Distribution of Class\")\n",
    "\n",
    "plt.show()"
   ]
  },
  {
   "cell_type": "markdown",
   "id": "Rir1k6Q9qgMb",
   "metadata": {
    "id": "Rir1k6Q9qgMb"
   },
   "source": [
    "This dataset has 473 frauds out of 283,726 transactions. The dataset is **highly unbalanced**, the positive class (frauds) account for 0.167% of all transactions.The sampled dataset on the other hand, had 25 frauds out of 14,161 transactions. \n",
    "\n",
    "Most of the transactions are non-fraud. If we use this dataframe as the base for our predictive models and analysis, our algorithms will probably overfit since it will \"assume\" that most transactions are not a fraud. But we don't want our model to assume, we want our model to detect patterns that give signs of fraud!"
   ]
  },
  {
   "cell_type": "code",
   "execution_count": null,
   "id": "Z2hCsAG3uDnq",
   "metadata": {
    "id": "Z2hCsAG3uDnq"
   },
   "outputs": [],
   "source": [
    "#saving sampled data for future use. \n",
    "#sample_df.to_csv(\"Sample_data.csv\",index=False)\n"
   ]
  },
  {
   "cell_type": "markdown",
   "id": "M0_SJCMwLFMR",
   "metadata": {
    "id": "M0_SJCMwLFMR"
   },
   "source": [
    "### **Univariate Analysis**"
   ]
  },
  {
   "cell_type": "markdown",
   "id": "Re3yg9STjOdg",
   "metadata": {
    "id": "Re3yg9STjOdg"
   },
   "source": [
    "#### **1. Spliting our data into Fraud and Not Fraud**"
   ]
  },
  {
   "cell_type": "code",
   "execution_count": null,
   "id": "imxQ4GifjbjN",
   "metadata": {
    "colab": {
     "base_uri": "https://localhost:8080/"
    },
    "executionInfo": {
     "elapsed": 452,
     "status": "ok",
     "timestamp": 1669385521809,
     "user": {
      "displayName": "Mohammed Fuseini",
      "userId": "12618026182013098003"
     },
     "user_tz": 0
    },
    "id": "imxQ4GifjbjN",
    "outputId": "ff363388-6da1-4a1d-c748-713da202fef5"
   },
   "outputs": [],
   "source": [
    "is_fraud = sample_df[sample_df['Class']==1]\n",
    "no_fraud = sample_df[sample_df['Class']==0]\n",
    "print(\"Observation\\n The fraud dataset has {} rows and {} columns while the legitimate transaction dataset has {} rows and {} columns.\".format(is_fraud.shape[0],is_fraud.shape[1],no_fraud.shape[0],no_fraud.shape[1]))"
   ]
  },
  {
   "cell_type": "markdown",
   "id": "gKYHABkPTQ0T",
   "metadata": {
    "id": "gKYHABkPTQ0T"
   },
   "source": [
    "#### **2. Checking the proportion of fraudulent activities**"
   ]
  },
  {
   "cell_type": "code",
   "execution_count": null,
   "id": "XeU1m-VROVgf",
   "metadata": {
    "colab": {
     "base_uri": "https://localhost:8080/",
     "height": 373
    },
    "executionInfo": {
     "elapsed": 664,
     "status": "ok",
     "timestamp": 1669386311616,
     "user": {
      "displayName": "Mohammed Fuseini",
      "userId": "12618026182013098003"
     },
     "user_tz": 0
    },
    "id": "XeU1m-VROVgf",
    "outputId": "8b1f7505-bbed-4ffc-e4d4-b376ffd607ff"
   },
   "outputs": [],
   "source": [
    "plt.figure(figsize=(10,6))\n",
    "labels=['Not Fraud' , 'Frauds']\n",
    "explode = [0,0.1]\n",
    "color=['royalblue' , 'yellow']\n",
    "sizes=sample_df.Class.value_counts().values\n",
    "\n",
    "plt.pie(sizes,explode = explode,labels,autopct=\"%1.1f%%\", colors = color)\n",
    "plt.title('Propoertion of Fraud Dectected')\n",
    "plt.show()"
   ]
  },
  {
   "cell_type": "markdown",
   "id": "uF5_NtgiQ9XZ",
   "metadata": {
    "id": "uF5_NtgiQ9XZ"
   },
   "source": [
    "**Observation**\n",
    "\n",
    "It is observed that 99.8% of the transaction  is legitimate (No Fraud) and 0.2% transactions is fraudulent. There is still the need to reduce the amount of fraudulent activity desipte the fact that it is less than 1%. "
   ]
  },
  {
   "cell_type": "markdown",
   "id": "ve1MdLhCSyCP",
   "metadata": {
    "id": "ve1MdLhCSyCP"
   },
   "source": [
    "#### **3. Amount distribution**"
   ]
  },
  {
   "cell_type": "code",
   "execution_count": null,
   "id": "LLhifJrSTz6C",
   "metadata": {
    "colab": {
     "base_uri": "https://localhost:8080/",
     "height": 295
    },
    "executionInfo": {
     "elapsed": 690,
     "status": "ok",
     "timestamp": 1668496148911,
     "user": {
      "displayName": "Mohammed Fuseini",
      "userId": "12618026182013098003"
     },
     "user_tz": 0
    },
    "id": "LLhifJrSTz6C",
    "outputId": "9bd7705f-cb7a-4a28-c70a-a9c61fea081c"
   },
   "outputs": [
    {
     "data": {
      "image/png": "[encoded data removed]",
      "text/plain": [
       "<Figure size 432x288 with 1 Axes>"
      ]
     },
     "metadata": {
      "needs_background": "light"
     },
     "output_type": "display_data"
    }
   ],
   "source": [
    "#Using boxplot to check the distribution of the amount coulmn(Overall Dataset). \n",
    "sns.boxplot(x=sample_df[\"Amount\"])\n",
    "plt.title('Distribution of Amount')\n",
    "plt.show()"
   ]
  },
  {
   "cell_type": "markdown",
   "id": "TJxr5tpod6Rn",
   "metadata": {
    "id": "TJxr5tpod6Rn"
   },
   "source": [
    "**Observation**\n",
    "\n",
    "It is observed that the data contains outliers. The highest amount is over 7000. "
   ]
  },
  {
   "cell_type": "code",
   "execution_count": null,
   "id": "TTA7hRpSihAs",
   "metadata": {
    "colab": {
     "base_uri": "https://localhost:8080/"
    },
    "executionInfo": {
     "elapsed": 47,
     "status": "ok",
     "timestamp": 1668496148918,
     "user": {
      "displayName": "Mohammed Fuseini",
      "userId": "12618026182013098003"
     },
     "user_tz": 0
    },
    "id": "TTA7hRpSihAs",
    "outputId": "d8e9b80d-48b6-4fac-998d-dcb0fae4757f"
   },
   "outputs": [
    {
     "data": {
      "text/plain": [
       "count      25.000000\n",
       "mean      221.875600\n",
       "std       421.664106\n",
       "min         0.010000\n",
       "25%         1.000000\n",
       "50%        19.730000\n",
       "75%       130.440000\n",
       "max      1504.930000\n",
       "Name: Amount, dtype: float64"
      ]
     },
     "execution_count": 21,
     "metadata": {},
     "output_type": "execute_result"
    }
   ],
   "source": [
    "#Checking the descriptive statistics for Fraudulent cases\n",
    "is_fraud[\"Amount\"].describe()"
   ]
  },
  {
   "cell_type": "code",
   "execution_count": null,
   "id": "RsSB8B22yu0G",
   "metadata": {
    "colab": {
     "base_uri": "https://localhost:8080/"
    },
    "executionInfo": {
     "elapsed": 44,
     "status": "ok",
     "timestamp": 1668496148927,
     "user": {
      "displayName": "Mohammed Fuseini",
      "userId": "12618026182013098003"
     },
     "user_tz": 0
    },
    "id": "RsSB8B22yu0G",
    "outputId": "3a84061a-17b9-45d8-af4e-77b68efe5ce6"
   },
   "outputs": [
    {
     "data": {
      "text/plain": [
       "count    14161.000000\n",
       "mean        86.400479\n",
       "std        220.963812\n",
       "min          0.000000\n",
       "25%          5.930000\n",
       "50%         22.540000\n",
       "75%         77.980000\n",
       "max       7862.390000\n",
       "Name: Amount, dtype: float64"
      ]
     },
     "execution_count": 22,
     "metadata": {},
     "output_type": "execute_result"
    }
   ],
   "source": [
    "#Checking the descriptive statistics for Non-Fraudulent cases\n",
    "no_fraud[\"Amount\"].describe()"
   ]
  },
  {
   "cell_type": "code",
   "execution_count": null,
   "id": "c2yNjzaTz3YB",
   "metadata": {
    "colab": {
     "base_uri": "https://localhost:8080/",
     "height": 308
    },
    "executionInfo": {
     "elapsed": 1621,
     "status": "ok",
     "timestamp": 1668496150512,
     "user": {
      "displayName": "Mohammed Fuseini",
      "userId": "12618026182013098003"
     },
     "user_tz": 0
    },
    "id": "c2yNjzaTz3YB",
    "outputId": "206427e3-486a-4eda-bd80-e47ee6c72849"
   },
   "outputs": [
    {
     "data": {
      "image/png": "[encoded data removed]",
      "text/plain": [
       "<Figure size 432x288 with 2 Axes>"
      ]
     },
     "metadata": {
      "needs_background": "light"
     },
     "output_type": "display_data"
    }
   ],
   "source": [
    "#Plotting the distribution for both\n",
    "f,(ax1,ax2)=plt.subplots(2,1,sharex=True)\n",
    "f.suptitle('Amount per transaction by class')\n",
    "bins =10\n",
    "ax1.hist(is_fraud.Amount , bins=bins)\n",
    "ax1.set_title('Fraud')\n",
    "\n",
    "ax2.hist(no_fraud.Amount,bins=bins)\n",
    "ax2.set_title('Not Fraud')\n",
    "\n",
    "plt.xlabel('amount in $')\n",
    "plt.ylabel('Frequency')\n",
    "\n",
    "plt.xlim(0,20000)\n",
    "plt.yscale('log')\n",
    "plt.show()"
   ]
  },
  {
   "cell_type": "markdown",
   "id": "Y4TaanVelr33",
   "metadata": {
    "id": "Y4TaanVelr33"
   },
   "source": [
    "**Observation**\n",
    "\n",
    "It is observed that the highest amount in our data which is USD 7583.32 is not a Fraudulent transaction. Because the highest fraudulent transaction was USD 723.21. Hence amount alone wouldnt be enough to detect a fruadulent activity. "
   ]
  },
  {
   "cell_type": "markdown",
   "id": "3DdH-Lpx_tuH",
   "metadata": {
    "id": "3DdH-Lpx_tuH"
   },
   "source": [
    "#### **4. Time distribution**"
   ]
  },
  {
   "cell_type": "code",
   "execution_count": null,
   "id": "4QcGrt3B_3xy",
   "metadata": {
    "colab": {
     "base_uri": "https://localhost:8080/",
     "height": 385
    },
    "executionInfo": {
     "elapsed": 708,
     "status": "ok",
     "timestamp": 1668496151212,
     "user": {
      "displayName": "Mohammed Fuseini",
      "userId": "12618026182013098003"
     },
     "user_tz": 0
    },
    "id": "4QcGrt3B_3xy",
    "outputId": "d01c4eb7-50bd-4485-f297-fe6b0afbffe2"
   },
   "outputs": [
    {
     "data": {
      "image/png": "[encoded data removed]",
      "text/plain": [
       "<Figure size 360x360 with 1 Axes>"
      ]
     },
     "metadata": {
      "needs_background": "light"
     },
     "output_type": "display_data"
    }
   ],
   "source": [
    "#Using boxplot to check the distribution of the amount coulmn. \n",
    "sns.displot(data=sample_df, x=\"Time\", kde=True)\n",
    "plt.title('Distribution of Time')\n",
    "plt.xlabel('Time')\n",
    "plt.ylabel('Frequency')\n",
    "plt.show()"
   ]
  },
  {
   "cell_type": "markdown",
   "id": "E_Oz5zQp3Fc0",
   "metadata": {
    "id": "E_Oz5zQp3Fc0"
   },
   "source": [
    "**Observation**\n",
    "\n",
    "By seeing the graph, we can see there are two peaks in the graph and even there are some local peaks. We can think of these as the time of the day like the peak is the day time when most people do the transactions and the depth is the night time when most people just sleeps."
   ]
  },
  {
   "cell_type": "code",
   "execution_count": null,
   "id": "QqYiM5VZC48r",
   "metadata": {
    "colab": {
     "base_uri": "https://localhost:8080/"
    },
    "executionInfo": {
     "elapsed": 41,
     "status": "ok",
     "timestamp": 1668496151218,
     "user": {
      "displayName": "Mohammed Fuseini",
      "userId": "12618026182013098003"
     },
     "user_tz": 0
    },
    "id": "QqYiM5VZC48r",
    "outputId": "ceafa4d4-d70a-4365-cffb-63c630b8a2a9"
   },
   "outputs": [
    {
     "data": {
      "text/plain": [
       "count        25.000000\n",
       "mean      89614.000000\n",
       "std       45407.904945\n",
       "min       17520.000000\n",
       "25%       48884.000000\n",
       "50%       87883.000000\n",
       "75%      133184.000000\n",
       "max      155359.000000\n",
       "Name: Time, dtype: float64"
      ]
     },
     "execution_count": 25,
     "metadata": {},
     "output_type": "execute_result"
    }
   ],
   "source": [
    "#Checking the descriptive statistics for Fraudulent cases\n",
    "is_fraud[\"Time\"].describe()"
   ]
  },
  {
   "cell_type": "code",
   "execution_count": null,
   "id": "EhrcHR1rDDOQ",
   "metadata": {
    "colab": {
     "base_uri": "https://localhost:8080/"
    },
    "executionInfo": {
     "elapsed": 38,
     "status": "ok",
     "timestamp": 1668496151227,
     "user": {
      "displayName": "Mohammed Fuseini",
      "userId": "12618026182013098003"
     },
     "user_tz": 0
    },
    "id": "EhrcHR1rDDOQ",
    "outputId": "00af32d9-156a-44f2-b906-3756c77d6e26"
   },
   "outputs": [
    {
     "data": {
      "text/plain": [
       "count     14161.000000\n",
       "mean      94972.031848\n",
       "std       47362.856141\n",
       "min          12.000000\n",
       "25%       54463.000000\n",
       "50%       84751.000000\n",
       "75%      139551.000000\n",
       "max      172759.000000\n",
       "Name: Time, dtype: float64"
      ]
     },
     "execution_count": 26,
     "metadata": {},
     "output_type": "execute_result"
    }
   ],
   "source": [
    "#Checking the descriptive statistics for Fraudulent cases\n",
    "no_fraud[\"Time\"].describe()"
   ]
  },
  {
   "cell_type": "code",
   "execution_count": null,
   "id": "Tkuw0Fzv3_66",
   "metadata": {
    "colab": {
     "base_uri": "https://localhost:8080/",
     "height": 295
    },
    "executionInfo": {
     "elapsed": 1566,
     "status": "ok",
     "timestamp": 1669301951985,
     "user": {
      "displayName": "Mohammed Fuseini",
      "userId": "12618026182013098003"
     },
     "user_tz": 0
    },
    "id": "Tkuw0Fzv3_66",
    "outputId": "8d71aa66-63ed-49bf-e72e-184c8f67d2c3"
   },
   "outputs": [
    {
     "data": {
      "image/png": "[encoded data removed]",
      "text/plain": [
       "<Figure size 1152x288 with 2 Axes>"
      ]
     },
     "metadata": {
      "needs_background": "light"
     },
     "output_type": "display_data"
    }
   ],
   "source": [
    "fig, axs = plt.subplots(ncols=2, figsize=(16,4))\n",
    "\n",
    "sns.distplot(sample_df[(sample_df['Class'] == 1)]['Time'], bins=100, color='red', ax=axs[0])\n",
    "axs[0].set_title(\"Distribution of Fraud Transactions\")\n",
    "\n",
    "sns.distplot(sample_df[(sample_df['Class'] == 0)]['Time'], bins=100, color='blue', ax=axs[1])\n",
    "axs[1].set_title(\"Distribution of No Fraud Transactions\")\n",
    "\n",
    "plt.show()"
   ]
  },
  {
   "cell_type": "markdown",
   "id": "cZUhAVf03L0t",
   "metadata": {
    "id": "cZUhAVf03L0t"
   },
   "source": [
    "### **Multi-variate Analysis**"
   ]
  },
  {
   "cell_type": "markdown",
   "id": "wdkd3d033ngo",
   "metadata": {
    "id": "wdkd3d033ngo"
   },
   "source": [
    "#### **Relationship Between Time and Amount**"
   ]
  },
  {
   "cell_type": "code",
   "execution_count": null,
   "id": "l0P6YIpJ778d",
   "metadata": {
    "colab": {
     "base_uri": "https://localhost:8080/",
     "height": 404
    },
    "executionInfo": {
     "elapsed": 1434,
     "status": "ok",
     "timestamp": 1669387818565,
     "user": {
      "displayName": "Mohammed Fuseini",
      "userId": "12618026182013098003"
     },
     "user_tz": 0
    },
    "id": "l0P6YIpJ778d",
    "outputId": "2ac40a4d-8e20-47b6-e288-2c99077548fc"
   },
   "outputs": [
    {
     "data": {
      "image/png": "[encoded data removed]",
      "text/plain": [
       "<Figure size 1152x432 with 2 Axes>"
      ]
     },
     "metadata": {
      "needs_background": "light"
     },
     "output_type": "display_data"
    }
   ],
   "source": [
    "fig, axs = plt.subplots(nrows=2,sharex=True,figsize=(16,6))\n",
    "\n",
    "sns.scatterplot(x='Time',y='Amount', data=is_fraud, ax=axs[0],color=\"red\",alpha = 0.5)\n",
    "axs[0].set_title(\"Distribution of Fraud Transactions\")\n",
    "\n",
    "sns.scatterplot(x='Time',y='Amount', data=no_fraud, ax=axs[1],color=\"blue\",alpha = 0.5)\n",
    "axs[1].set_title(\"Distribution of No Fraud Transactions\")\n",
    "\n",
    "plt.show()"
   ]
  },
  {
   "cell_type": "markdown",
   "id": "rhS4Bk804l86",
   "metadata": {
    "id": "rhS4Bk804l86"
   },
   "source": [
    "**Observation**\n",
    "\n",
    "It is observed that there is a wide varation between the different points in the fraud dataset. However, the no fraud dataset have little varation between the data points, except points with amount greater than 2500. "
   ]
  },
  {
   "cell_type": "markdown",
   "id": "lKH6j3WEB0_U",
   "metadata": {
    "id": "lKH6j3WEB0_U"
   },
   "source": [
    "## **Data-preprocessing-for-modelling**"
   ]
  },
  {
   "cell_type": "markdown",
   "id": "MMsRauKQ4xOl",
   "metadata": {
    "id": "MMsRauKQ4xOl"
   },
   "source": [
    "### **Seperating target variable and predictors**"
   ]
  },
  {
   "cell_type": "code",
   "execution_count": 12,
   "id": "NDAjtuhm5s9j",
   "metadata": {
    "executionInfo": {
     "elapsed": 330,
     "status": "ok",
     "timestamp": 1669460771750,
     "user": {
      "displayName": "Mohammed Fuseini",
      "userId": "12618026182013098003"
     },
     "user_tz": 0
    },
    "id": "NDAjtuhm5s9j"
   },
   "outputs": [],
   "source": [
    "#predictor\n",
    "X = sample_df.drop(\"Class\", axis=1)\n",
    "\n",
    "#target variable\n",
    "y = sample_df[\"Class\"]"
   ]
  },
  {
   "cell_type": "code",
   "execution_count": null,
   "id": "aN-ceMqu6vau",
   "metadata": {
    "colab": {
     "base_uri": "https://localhost:8080/",
     "height": 299
    },
    "executionInfo": {
     "elapsed": 53,
     "status": "ok",
     "timestamp": 1668496155172,
     "user": {
      "displayName": "Mohammed Fuseini",
      "userId": "12618026182013098003"
     },
     "user_tz": 0
    },
    "id": "aN-ceMqu6vau",
    "outputId": "47cae942-5539-431a-86af-2eb231915768"
   },
   "outputs": [
    {
     "data": {
      "text/html": [
       "\n",
       "  <div id=\"df-fd56891c-8eb2-44ee-8845-a376432c2284\">\n",
       "    <div class=\"colab-df-container\">\n",
       "      <div>\n",
       "<style scoped>\n",
       "    .dataframe tbody tr th:only-of-type {\n",
       "        vertical-align: middle;\n",
       "    }\n",
       "\n",
       "    .dataframe tbody tr th {\n",
       "        vertical-align: top;\n",
       "    }\n",
       "\n",
       "    .dataframe thead th {\n",
       "        text-align: right;\n",
       "    }\n",
       "</style>\n",
       "<table border=\"1\" class=\"dataframe\">\n",
       "  <thead>\n",
       "    <tr style=\"text-align: right;\">\n",
       "      <th></th>\n",
       "      <th>Time</th>\n",
       "      <th>V1</th>\n",
       "      <th>V2</th>\n",
       "      <th>V3</th>\n",
       "      <th>V4</th>\n",
       "      <th>V5</th>\n",
       "      <th>V6</th>\n",
       "      <th>V7</th>\n",
       "      <th>V8</th>\n",
       "      <th>V9</th>\n",
       "      <th>...</th>\n",
       "      <th>V20</th>\n",
       "      <th>V21</th>\n",
       "      <th>V22</th>\n",
       "      <th>V23</th>\n",
       "      <th>V24</th>\n",
       "      <th>V25</th>\n",
       "      <th>V26</th>\n",
       "      <th>V27</th>\n",
       "      <th>V28</th>\n",
       "      <th>Amount</th>\n",
       "    </tr>\n",
       "  </thead>\n",
       "  <tbody>\n",
       "    <tr>\n",
       "      <th>104697</th>\n",
       "      <td>69195.0</td>\n",
       "      <td>1.054379</td>\n",
       "      <td>-0.764756</td>\n",
       "      <td>0.160168</td>\n",
       "      <td>0.665587</td>\n",
       "      <td>1.113466</td>\n",
       "      <td>4.771656</td>\n",
       "      <td>-1.536609</td>\n",
       "      <td>1.306483</td>\n",
       "      <td>1.565054</td>\n",
       "      <td>...</td>\n",
       "      <td>0.050995</td>\n",
       "      <td>-0.097138</td>\n",
       "      <td>-0.029759</td>\n",
       "      <td>-0.171596</td>\n",
       "      <td>1.047201</td>\n",
       "      <td>0.698595</td>\n",
       "      <td>-0.217939</td>\n",
       "      <td>0.101970</td>\n",
       "      <td>0.040152</td>\n",
       "      <td>56.42</td>\n",
       "    </tr>\n",
       "    <tr>\n",
       "      <th>134356</th>\n",
       "      <td>80769.0</td>\n",
       "      <td>-4.805134</td>\n",
       "      <td>4.351191</td>\n",
       "      <td>-0.916135</td>\n",
       "      <td>-0.900752</td>\n",
       "      <td>-0.870777</td>\n",
       "      <td>-0.782946</td>\n",
       "      <td>0.328104</td>\n",
       "      <td>0.582501</td>\n",
       "      <td>2.749336</td>\n",
       "      <td>...</td>\n",
       "      <td>2.160193</td>\n",
       "      <td>-0.854486</td>\n",
       "      <td>-0.758266</td>\n",
       "      <td>0.147005</td>\n",
       "      <td>-0.021274</td>\n",
       "      <td>0.552660</td>\n",
       "      <td>0.008318</td>\n",
       "      <td>0.431835</td>\n",
       "      <td>-0.436239</td>\n",
       "      <td>9.82</td>\n",
       "    </tr>\n",
       "    <tr>\n",
       "      <th>42637</th>\n",
       "      <td>41182.0</td>\n",
       "      <td>-1.549833</td>\n",
       "      <td>-0.261143</td>\n",
       "      <td>1.556289</td>\n",
       "      <td>-2.037817</td>\n",
       "      <td>-0.366315</td>\n",
       "      <td>-1.334314</td>\n",
       "      <td>0.165406</td>\n",
       "      <td>-0.025782</td>\n",
       "      <td>-1.472751</td>\n",
       "      <td>...</td>\n",
       "      <td>-0.347365</td>\n",
       "      <td>-0.405656</td>\n",
       "      <td>-0.951005</td>\n",
       "      <td>-0.147752</td>\n",
       "      <td>0.424100</td>\n",
       "      <td>0.081845</td>\n",
       "      <td>1.103559</td>\n",
       "      <td>-0.502271</td>\n",
       "      <td>-0.248822</td>\n",
       "      <td>46.08</td>\n",
       "    </tr>\n",
       "    <tr>\n",
       "      <th>882</th>\n",
       "      <td>666.0</td>\n",
       "      <td>0.216344</td>\n",
       "      <td>0.663182</td>\n",
       "      <td>1.303520</td>\n",
       "      <td>0.169219</td>\n",
       "      <td>-0.404266</td>\n",
       "      <td>-0.517288</td>\n",
       "      <td>-0.036938</td>\n",
       "      <td>-0.838221</td>\n",
       "      <td>-0.528675</td>\n",
       "      <td>...</td>\n",
       "      <td>-0.184929</td>\n",
       "      <td>0.552788</td>\n",
       "      <td>-0.961206</td>\n",
       "      <td>-0.014642</td>\n",
       "      <td>0.525962</td>\n",
       "      <td>0.750877</td>\n",
       "      <td>0.141543</td>\n",
       "      <td>0.045107</td>\n",
       "      <td>0.127321</td>\n",
       "      <td>3.58</td>\n",
       "    </tr>\n",
       "    <tr>\n",
       "      <th>263275</th>\n",
       "      <td>160870.0</td>\n",
       "      <td>-0.273365</td>\n",
       "      <td>0.825649</td>\n",
       "      <td>0.555674</td>\n",
       "      <td>0.384915</td>\n",
       "      <td>1.343842</td>\n",
       "      <td>1.984159</td>\n",
       "      <td>0.321808</td>\n",
       "      <td>0.510275</td>\n",
       "      <td>-0.891463</td>\n",
       "      <td>...</td>\n",
       "      <td>0.172188</td>\n",
       "      <td>0.346482</td>\n",
       "      <td>1.162889</td>\n",
       "      <td>-0.557535</td>\n",
       "      <td>-0.896146</td>\n",
       "      <td>0.503553</td>\n",
       "      <td>0.555129</td>\n",
       "      <td>0.129099</td>\n",
       "      <td>0.047571</td>\n",
       "      <td>2.84</td>\n",
       "    </tr>\n",
       "  </tbody>\n",
       "</table>\n",
       "<p>5 rows × 30 columns</p>\n",
       "</div>\n",
       "      <button class=\"colab-df-convert\" onclick=\"convertToInteractive('df-fd56891c-8eb2-44ee-8845-a376432c2284')\"\n",
       "              title=\"Convert this dataframe to an interactive table.\"\n",
       "              style=\"display:none;\">\n",
       "        \n",
       "  <svg xmlns=\"http://www.w3.org/2000/svg\" height=\"24px\"viewBox=\"0 0 24 24\"\n",
       "       width=\"24px\">\n",
       "    <path d=\"M0 0h24v24H0V0z\" fill=\"none\"/>\n",
       "    <path d=\"M18.56 5.44l.94 2.06.94-2.06 2.06-.94-2.06-.94-.94-2.06-.94 2.06-2.06.94zm-11 1L8.5 8.5l.94-2.06 2.06-.94-2.06-.94L8.5 2.5l-.94 2.06-2.06.94zm10 10l.94 2.06.94-2.06 2.06-.94-2.06-.94-.94-2.06-.94 2.06-2.06.94z\"/><path d=\"M17.41 7.96l-1.37-1.37c-.4-.4-.92-.59-1.43-.59-.52 0-1.04.2-1.43.59L10.3 9.45l-7.72 7.72c-.78.78-.78 2.05 0 2.83L4 21.41c.39.39.9.59 1.41.59.51 0 1.02-.2 1.41-.59l7.78-7.78 2.81-2.81c.8-.78.8-2.07 0-2.86zM5.41 20L4 18.59l7.72-7.72 1.47 1.35L5.41 20z\"/>\n",
       "  </svg>\n",
       "      </button>\n",
       "      \n",
       "  <style>\n",
       "    .colab-df-container {\n",
       "      display:flex;\n",
       "      flex-wrap:wrap;\n",
       "      gap: 12px;\n",
       "    }\n",
       "\n",
       "    .colab-df-convert {\n",
       "      background-color: #E8F0FE;\n",
       "      border: none;\n",
       "      border-radius: 50%;\n",
       "      cursor: pointer;\n",
       "      display: none;\n",
       "      fill: #1967D2;\n",
       "      height: 32px;\n",
       "      padding: 0 0 0 0;\n",
       "      width: 32px;\n",
       "    }\n",
       "\n",
       "    .colab-df-convert:hover {\n",
       "      background-color: #E2EBFA;\n",
       "      box-shadow: 0px 1px 2px rgba(60, 64, 67, 0.3), 0px 1px 3px 1px rgba(60, 64, 67, 0.15);\n",
       "      fill: #174EA6;\n",
       "    }\n",
       "\n",
       "    [theme=dark] .colab-df-convert {\n",
       "      background-color: #3B4455;\n",
       "      fill: #D2E3FC;\n",
       "    }\n",
       "\n",
       "    [theme=dark] .colab-df-convert:hover {\n",
       "      background-color: #434B5C;\n",
       "      box-shadow: 0px 1px 3px 1px rgba(0, 0, 0, 0.15);\n",
       "      filter: drop-shadow(0px 1px 2px rgba(0, 0, 0, 0.3));\n",
       "      fill: #FFFFFF;\n",
       "    }\n",
       "  </style>\n",
       "\n",
       "      <script>\n",
       "        const buttonEl =\n",
       "          document.querySelector('#df-fd56891c-8eb2-44ee-8845-a376432c2284 button.colab-df-convert');\n",
       "        buttonEl.style.display =\n",
       "          google.colab.kernel.accessAllowed ? 'block' : 'none';\n",
       "\n",
       "        async function convertToInteractive(key) {\n",
       "          const element = document.querySelector('#df-fd56891c-8eb2-44ee-8845-a376432c2284');\n",
       "          const dataTable =\n",
       "            await google.colab.kernel.invokeFunction('convertToInteractive',\n",
       "                                                     [key], {});\n",
       "          if (!dataTable) return;\n",
       "\n",
       "          const docLinkHtml = 'Like what you see? Visit the ' +\n",
       "            '<a target=\"_blank\" href=https://colab.research.google.com/notebooks/data_table.ipynb>data table notebook</a>'\n",
       "            + ' to learn more about interactive tables.';\n",
       "          element.innerHTML = '';\n",
       "          dataTable['output_type'] = 'display_data';\n",
       "          await google.colab.output.renderOutput(dataTable, element);\n",
       "          const docLink = document.createElement('div');\n",
       "          docLink.innerHTML = docLinkHtml;\n",
       "          element.appendChild(docLink);\n",
       "        }\n",
       "      </script>\n",
       "    </div>\n",
       "  </div>\n",
       "  "
      ],
      "text/plain": [
       "            Time        V1        V2        V3        V4        V5        V6  \\\n",
       "104697   69195.0  1.054379 -0.764756  0.160168  0.665587  1.113466  4.771656   \n",
       "134356   80769.0 -4.805134  4.351191 -0.916135 -0.900752 -0.870777 -0.782946   \n",
       "42637    41182.0 -1.549833 -0.261143  1.556289 -2.037817 -0.366315 -1.334314   \n",
       "882        666.0  0.216344  0.663182  1.303520  0.169219 -0.404266 -0.517288   \n",
       "263275  160870.0 -0.273365  0.825649  0.555674  0.384915  1.343842  1.984159   \n",
       "\n",
       "              V7        V8        V9  ...       V20       V21       V22  \\\n",
       "104697 -1.536609  1.306483  1.565054  ...  0.050995 -0.097138 -0.029759   \n",
       "134356  0.328104  0.582501  2.749336  ...  2.160193 -0.854486 -0.758266   \n",
       "42637   0.165406 -0.025782 -1.472751  ... -0.347365 -0.405656 -0.951005   \n",
       "882    -0.036938 -0.838221 -0.528675  ... -0.184929  0.552788 -0.961206   \n",
       "263275  0.321808  0.510275 -0.891463  ...  0.172188  0.346482  1.162889   \n",
       "\n",
       "             V23       V24       V25       V26       V27       V28  Amount  \n",
       "104697 -0.171596  1.047201  0.698595 -0.217939  0.101970  0.040152   56.42  \n",
       "134356  0.147005 -0.021274  0.552660  0.008318  0.431835 -0.436239    9.82  \n",
       "42637  -0.147752  0.424100  0.081845  1.103559 -0.502271 -0.248822   46.08  \n",
       "882    -0.014642  0.525962  0.750877  0.141543  0.045107  0.127321    3.58  \n",
       "263275 -0.557535 -0.896146  0.503553  0.555129  0.129099  0.047571    2.84  \n",
       "\n",
       "[5 rows x 30 columns]"
      ]
     },
     "execution_count": 30,
     "metadata": {},
     "output_type": "execute_result"
    }
   ],
   "source": [
    "X.head()"
   ]
  },
  {
   "cell_type": "code",
   "execution_count": null,
   "id": "0AngvUuG7h8Q",
   "metadata": {
    "colab": {
     "base_uri": "https://localhost:8080/"
    },
    "executionInfo": {
     "elapsed": 53,
     "status": "ok",
     "timestamp": 1668496155175,
     "user": {
      "displayName": "Mohammed Fuseini",
      "userId": "12618026182013098003"
     },
     "user_tz": 0
    },
    "id": "0AngvUuG7h8Q",
    "outputId": "664282f0-6f38-4343-a0ae-a6df3b501a5b"
   },
   "outputs": [
    {
     "data": {
      "text/plain": [
       "104697    0\n",
       "134356    0\n",
       "42637     0\n",
       "882       0\n",
       "263275    0\n",
       "Name: Class, dtype: int64"
      ]
     },
     "execution_count": 31,
     "metadata": {},
     "output_type": "execute_result"
    }
   ],
   "source": [
    "y.head()"
   ]
  },
  {
   "cell_type": "markdown",
   "id": "1hhKAqsR7lTq",
   "metadata": {
    "id": "1hhKAqsR7lTq"
   },
   "source": [
    "### **Splitting the data into train_set and test_set**"
   ]
  },
  {
   "cell_type": "code",
   "execution_count": 13,
   "id": "SM8FGroc73KB",
   "metadata": {
    "executionInfo": {
     "elapsed": 342,
     "status": "ok",
     "timestamp": 1669460781129,
     "user": {
      "displayName": "Mohammed Fuseini",
      "userId": "12618026182013098003"
     },
     "user_tz": 0
    },
    "id": "SM8FGroc73KB"
   },
   "outputs": [],
   "source": [
    "#split 80 - 20. 80 for training and 20 for testing\n",
    "X_train, X_test, y_train, y_test = train_test_split(X, y, test_size = 0.2, stratify = y, random_state=42)"
   ]
  },
  {
   "cell_type": "markdown",
   "id": "kjzdwFBX8opH",
   "metadata": {
    "id": "kjzdwFBX8opH"
   },
   "source": [
    "### **Checking whether the target variable is balanced or not**"
   ]
  },
  {
   "cell_type": "code",
   "execution_count": null,
   "id": "dl-9QA0-D7tM",
   "metadata": {
    "colab": {
     "base_uri": "https://localhost:8080/",
     "height": 295
    },
    "executionInfo": {
     "elapsed": 520,
     "status": "ok",
     "timestamp": 1669387776614,
     "user": {
      "displayName": "Mohammed Fuseini",
      "userId": "12618026182013098003"
     },
     "user_tz": 0
    },
    "id": "dl-9QA0-D7tM",
    "outputId": "c5297c44-01d4-4111-8522-c966ba377196"
   },
   "outputs": [
    {
     "data": {
      "image/png": "[encoded data removed]",
      "text/plain": [
       "<Figure size 432x288 with 1 Axes>"
      ]
     },
     "metadata": {
      "needs_background": "light"
     },
     "output_type": "display_data"
    }
   ],
   "source": [
    "sns.countplot(y_train,palette= [\"#0000FF\",\"#FF0000\"],alpha=0.7)\n",
    "plt.title('Count plot before oversampling')\n",
    "plt.show()"
   ]
  },
  {
   "cell_type": "markdown",
   "id": "9D5Y98RJEDeE",
   "metadata": {
    "id": "9D5Y98RJEDeE"
   },
   "source": [
    "**Observation**\n",
    "\n",
    "The graph above shows that the class target variable is highly imbalanced. Building a model with imbalanced data can lead to bias towards the class target variable with higher variables.\n",
    "\n",
    "When dealing with imbalance data, accuracy is not necessarily the appropriate metric. Therefore, accuracy would not be a useful criterion for evaluating the effectiveness of models developed using this data.\n",
    "\n",
    "In this situation, alternative metrics must be used, or the data must be balanced statistically. It is highly recommended to balance the data to avoid bias."
   ]
  },
  {
   "cell_type": "code",
   "execution_count": null,
   "id": "yM4g6u7Bdewl",
   "metadata": {
    "colab": {
     "base_uri": "https://localhost:8080/"
    },
    "executionInfo": {
     "elapsed": 53,
     "status": "ok",
     "timestamp": 1668496155189,
     "user": {
      "displayName": "Mohammed Fuseini",
      "userId": "12618026182013098003"
     },
     "user_tz": 0
    },
    "id": "yM4g6u7Bdewl",
    "outputId": "aa4ad02f-e61e-47b3-fb39-f7261495a5ee"
   },
   "outputs": [
    {
     "name": "stdout",
     "output_type": "stream",
     "text": [
      "X_train -  (11348, 30)\n",
      "y_train -  (11348,)\n",
      "X_test -  (2838, 30)\n",
      "y_test -  (2838,)\n"
     ]
    }
   ],
   "source": [
    "# Quick sanity check with the shapes of Training and testing datasets\n",
    "print(\"X_train - \",X_train.shape)\n",
    "print(\"y_train - \",y_train.shape)\n",
    "print(\"X_test - \",X_test.shape)\n",
    "print(\"y_test - \",y_test.shape)"
   ]
  },
  {
   "cell_type": "markdown",
   "id": "L13a0K2-KZDy",
   "metadata": {
    "id": "L13a0K2-KZDy"
   },
   "source": [
    "### **Correcting imbalance data**\n",
    "\n",
    "When we talk about imbalanced data, we usually mean a classification issue where the classes are not equally represented. When classifiers are applied to the dataset, everything is likely to be predicted as belonging to the dominant class. This is frequently considered a challenge when learning from severely unbalanced datasets.\n",
    "\n",
    "**Techniques** used to correct the imbalanced dataset is Random Oversampling Technique"
   ]
  },
  {
   "cell_type": "markdown",
   "id": "Dei6rywZKfHo",
   "metadata": {
    "id": "Dei6rywZKfHo"
   },
   "source": [
    "**Inistantiating Sampling Technique**"
   ]
  },
  {
   "cell_type": "code",
   "execution_count": 15,
   "id": "nTPA0x3JaTbD",
   "metadata": {
    "colab": {
     "base_uri": "https://localhost:8080/"
    },
    "executionInfo": {
     "elapsed": 346,
     "status": "ok",
     "timestamp": 1669460814578,
     "user": {
      "displayName": "Mohammed Fuseini",
      "userId": "12618026182013098003"
     },
     "user_tz": 0
    },
    "id": "nTPA0x3JaTbD",
    "outputId": "a741258e-900c-4856-852f-f5e5ba23d70e"
   },
   "outputs": [
    {
     "name": "stdout",
     "output_type": "stream",
     "text": [
      "Before RandomOverSampler: Counter({0: 11328, 1: 20})\n",
      "After RandomOverSampler: Counter({0: 11328, 1: 11328})\n"
     ]
    }
   ],
   "source": [
    "#Instantiating ROS\n",
    "ros = RandomOverSampler(random_state = 42)\n",
    "X_train_ros, y_train_ros = ros.fit_resample(X_train,y_train)\n",
    "\n",
    "print(\"Before RandomOverSampler:\", Counter(y_train))\n",
    "print(\"After RandomOverSampler:\", Counter(y_train_ros))"
   ]
  },
  {
   "cell_type": "code",
   "execution_count": null,
   "id": "WFA4zF7QJ-EN",
   "metadata": {
    "colab": {
     "base_uri": "https://localhost:8080/",
     "height": 295
    },
    "executionInfo": {
     "elapsed": 15,
     "status": "ok",
     "timestamp": 1669387757210,
     "user": {
      "displayName": "Mohammed Fuseini",
      "userId": "12618026182013098003"
     },
     "user_tz": 0
    },
    "id": "WFA4zF7QJ-EN",
    "outputId": "e6fa5934-762a-48d4-9d5f-9ec7381e5aaa"
   },
   "outputs": [
    {
     "data": {
      "image/png": "[encoded data removed]",
      "text/plain": [
       "<Figure size 432x288 with 1 Axes>"
      ]
     },
     "metadata": {
      "needs_background": "light"
     },
     "output_type": "display_data"
    }
   ],
   "source": [
    "sns.countplot(y_train_ros,palette= [\"#0000FF\",\"#FF0000\"],alpha=0.7)\n",
    "plt.title('Count plot after oversampling')\n",
    "plt.show()"
   ]
  },
  {
   "cell_type": "markdown",
   "id": "e5GdXqx6DaGQ",
   "metadata": {
    "id": "e5GdXqx6DaGQ"
   },
   "source": [
    "## **Building of Model**"
   ]
  },
  {
   "cell_type": "markdown",
   "id": "zH6v9C0UDl6k",
   "metadata": {
    "id": "zH6v9C0UDl6k"
   },
   "source": [
    "**Models**\n",
    "\n",
    "1. K nearest neighbors\n",
    "2. Logistic regression\n",
    "3. SVC or SVM\n",
    "4. Decision trees\n",
    "5. Voting Classifier\n",
    "6. Bagging (Boostrap Aggregation)\n",
    "7. Random forest\n",
    "8. AdaBoost\n",
    "9. Gradient boost\n",
    "\n",
    "**In order to optimize the models, gridsearch with cross validation is applied to tune the hyperparameters of the different algorithms. Then, we test the balanced dataset's performance once more with the best parameters.**"
   ]
  },
  {
   "cell_type": "markdown",
   "id": "hAGxDeMpF3z_",
   "metadata": {
    "id": "hAGxDeMpF3z_"
   },
   "source": [
    "### **1. Using K Nearest Neighbors as the based model**"
   ]
  },
  {
   "cell_type": "markdown",
   "id": "oXShIc-N1NpQ",
   "metadata": {
    "id": "oXShIc-N1NpQ"
   },
   "source": [
    "**1.1 Hyperparameter tuning for KNN using Random Oversampling Data**"
   ]
  },
  {
   "cell_type": "code",
   "execution_count": null,
   "id": "doKYGCQwFc3u",
   "metadata": {
    "colab": {
     "base_uri": "https://localhost:8080/"
    },
    "executionInfo": {
     "elapsed": 312145,
     "status": "ok",
     "timestamp": 1668496467763,
     "user": {
      "displayName": "Mohammed Fuseini",
      "userId": "12618026182013098003"
     },
     "user_tz": 0
    },
    "id": "doKYGCQwFc3u",
    "outputId": "34f2ba43-5c6d-4706-fca1-4a6bdb896f5c"
   },
   "outputs": [
    {
     "name": "stdout",
     "output_type": "stream",
     "text": [
      "Best cross-validation acuracy: 1.00\n",
      "Best test score: 0.44\n",
      "Best parameters: {'knn__n_neighbors': 1}\n"
     ]
    }
   ],
   "source": [
    "#Instantiating the model and setting up grid\n",
    "steps = [('scaler', StandardScaler()),('knn',KNeighborsClassifier())]\n",
    "pipeline =Pipeline(steps)\n",
    "parameters ={'knn__n_neighbors': np.arange(1,35)}\n",
    "grid_knn = GridSearchCV(pipeline,param_grid=parameters,cv=5, scoring=\"f1\")\n",
    "\n",
    "#Fitting the model with X_train, y_train\n",
    "grid_knn.fit(X_train_ros,y_train_ros)\n",
    "\n",
    "#checking for the test score, best parameters and cross-validation accuracies\n",
    "print('Best cross-validation acuracy: {:.2f}'.format(grid_knn.best_score_))\n",
    "print('Best test score: {:.2f}'.format(grid_knn.score(X_test,y_test)))\n",
    "print('Best parameters:',grid_knn.best_params_)"
   ]
  },
  {
   "cell_type": "markdown",
   "id": "pQxZ4KszxNVz",
   "metadata": {
    "id": "pQxZ4KszxNVz"
   },
   "source": [
    "**1.2 K-Nearest Neighbors Model**"
   ]
  },
  {
   "cell_type": "code",
   "execution_count": 16,
   "id": "GHSaRpNrxRAD",
   "metadata": {
    "colab": {
     "base_uri": "https://localhost:8080/"
    },
    "executionInfo": {
     "elapsed": 12948,
     "status": "ok",
     "timestamp": 1669460835516,
     "user": {
      "displayName": "Mohammed Fuseini",
      "userId": "12618026182013098003"
     },
     "user_tz": 0
    },
    "id": "GHSaRpNrxRAD",
    "outputId": "2f862530-1eb9-4a40-b124-09b7e35ef575"
   },
   "outputs": [
    {
     "name": "stdout",
     "output_type": "stream",
     "text": [
      "Test score:1.00\n",
      "Train score:1.00\n",
      "\n",
      "Classifcation report:\n",
      "               precision    recall  f1-score   support\n",
      "\n",
      "           0       1.00      1.00      1.00      2833\n",
      "           1       0.50      0.60      0.55         5\n",
      "\n",
      "    accuracy                           1.00      2838\n",
      "   macro avg       0.75      0.80      0.77      2838\n",
      "weighted avg       1.00      1.00      1.00      2838\n",
      "\n",
      "Confusion matrix:\n",
      " [[2830    3]\n",
      " [   2    3]]\n",
      "\n",
      "\n",
      "Accuracy :1.00\n",
      "AUC : 0.80\n",
      "Precision : 0.50\n",
      "Recall : 0.60\n",
      "F1 : 0.55\n",
      "\n",
      "\n"
     ]
    }
   ],
   "source": [
    "#Instantiating a pipeline\n",
    "steps = [('scaler', StandardScaler()),('knn',KNeighborsClassifier(n_neighbors=11))]\n",
    "pipeline =Pipeline(steps)\n",
    "\n",
    "#Fitting the model with X_train_ros, y_train_ros\n",
    "pipeline.fit(X_train_ros, y_train_ros)\n",
    "knn_y_pred_ros = pipeline.predict(X_test)\n",
    "\n",
    "#checking for the test and train accuracies\n",
    "print(\"Test score:{:.2f}\".format(pipeline.score(X_test,y_test)))\n",
    "print(\"Train score:{:.2f}\\n\".format(pipeline.score(X_train_ros,y_train_ros)))\n",
    "\n",
    "# Obtain the results from the classification report and confusion matrix \n",
    "print('Classifcation report:\\n', classification_report(y_test, knn_y_pred_ros))\n",
    "print(\"Confusion matrix:\\n\",confusion_matrix(y_true=y_test, y_pred=knn_y_pred_ros))\n",
    "\n",
    "print(\"\\n\")\n",
    "# Obtain metrics\n",
    "print('Accuracy :{0:0.2f}'.format(accuracy_score(knn_y_pred_ros , y_test))) \n",
    "print('AUC : {0:0.2f}'.format(roc_auc_score(y_test , knn_y_pred_ros)))\n",
    "print('Precision : {0:0.2f}'.format(precision_score(y_test , knn_y_pred_ros)))\n",
    "print('Recall : {0:0.2f}'.format(recall_score(y_test , knn_y_pred_ros)))\n",
    "print('F1 : {0:0.2f}'.format(f1_score(y_test , knn_y_pred_ros)))\n",
    "print(\"\\n\")"
   ]
  },
  {
   "cell_type": "markdown",
   "id": "iyA7Ls1_GKd5",
   "metadata": {
    "id": "iyA7Ls1_GKd5"
   },
   "source": [
    "### **2. Logistic regression**"
   ]
  },
  {
   "cell_type": "markdown",
   "id": "6Glh6RjmQ6Qf",
   "metadata": {
    "id": "6Glh6RjmQ6Qf"
   },
   "source": [
    "**2.1 Hyperparameter tuning for Logistic Regression using Random Oversampling Data**"
   ]
  },
  {
   "cell_type": "code",
   "execution_count": null,
   "id": "PCcBxlyhGVkL",
   "metadata": {
    "colab": {
     "base_uri": "https://localhost:8080/"
    },
    "executionInfo": {
     "elapsed": 10617,
     "status": "ok",
     "timestamp": 1668496491908,
     "user": {
      "displayName": "Mohammed Fuseini",
      "userId": "12618026182013098003"
     },
     "user_tz": 0
    },
    "id": "PCcBxlyhGVkL",
    "outputId": "108f9ecc-b78b-4cf5-a2b9-76af8deefb31"
   },
   "outputs": [
    {
     "name": "stdout",
     "output_type": "stream",
     "text": [
      "Best cross-validation acuracy: 1.00\n",
      "Best test score: 0.62\n",
      "Best parameters: {'lr__C': 100, 'lr__class_weight': 'balanced'}\n"
     ]
    }
   ],
   "source": [
    "#Instantiating the model and setting up grid\n",
    "steps = [('scaler', StandardScaler()),('lr',LogisticRegression())]\n",
    "pipeline =Pipeline(steps)\n",
    "\n",
    "param_grid = {'lr__C': [100, 10, 1.0, 0.1, 0.01], 'lr__class_weight': [None,'balanced']}\n",
    "grid_logit = GridSearchCV(pipeline, param_grid=param_grid, cv=5, scoring = 'f1', n_jobs=-1)\n",
    "\n",
    "#Fitting the model with X_train, y_train\n",
    "grid_logit.fit(X_train_ros,y_train_ros)\n",
    "\n",
    "#checking for the test score, best parameters and cross-validation accuracies\n",
    "print('Best cross-validation acuracy: {:.2f}'.format(grid_logit.best_score_))\n",
    "print('Best test score: {:.2f}'.format(grid_logit.score(X_test,y_test)))\n",
    "print('Best parameters:',grid_logit.best_params_)"
   ]
  },
  {
   "cell_type": "markdown",
   "id": "0s4EG9pFRncn",
   "metadata": {
    "id": "0s4EG9pFRncn"
   },
   "source": [
    "**2.2 Logistic Regression Model**"
   ]
  },
  {
   "cell_type": "code",
   "execution_count": 17,
   "id": "AuBdICVloKd8",
   "metadata": {
    "colab": {
     "base_uri": "https://localhost:8080/"
    },
    "executionInfo": {
     "elapsed": 481,
     "status": "ok",
     "timestamp": 1669460835987,
     "user": {
      "displayName": "Mohammed Fuseini",
      "userId": "12618026182013098003"
     },
     "user_tz": 0
    },
    "id": "AuBdICVloKd8",
    "outputId": "57674b98-4446-4563-d5f7-a726afffdfce"
   },
   "outputs": [
    {
     "name": "stdout",
     "output_type": "stream",
     "text": [
      "Test score:1.00\n",
      "Train score:1.00\n",
      "\n",
      "Classifcation report:\n",
      "               precision    recall  f1-score   support\n",
      "\n",
      "           0       1.00      1.00      1.00      2833\n",
      "           1       0.45      1.00      0.62         5\n",
      "\n",
      "    accuracy                           1.00      2838\n",
      "   macro avg       0.73      1.00      0.81      2838\n",
      "weighted avg       1.00      1.00      1.00      2838\n",
      "\n",
      "Confusion matrix:\n",
      " [[2827    6]\n",
      " [   0    5]]\n",
      "\n",
      "\n",
      "Accuracy :1.00\n",
      "AUC : 1.00\n",
      "Precision : 0.45\n",
      "Recall : 1.00\n",
      "F1 : 0.62\n",
      "\n",
      "\n"
     ]
    }
   ],
   "source": [
    "#Instantiating the model with best parameters\n",
    "steps = [('scaler', StandardScaler()),('logit',LogisticRegression(C=100, class_weight='balanced'))]\n",
    "pipeline =Pipeline(steps)\n",
    "\n",
    "#Fitting the model with X_train_ros, y_train_ros\n",
    "pipeline.fit(X_train_ros, y_train_ros)\n",
    "logit_y_pred_ros = pipeline.predict(X_test)\n",
    "\n",
    "#checking for the test and train accuracies\n",
    "print(\"Test score:{:.2f}\".format(pipeline.score(X_test,y_test)))\n",
    "print(\"Train score:{:.2f}\\n\".format(pipeline.score(X_train_ros,y_train_ros)))\n",
    "\n",
    "# Obtain the results from the classification report and confusion matrix \n",
    "print('Classifcation report:\\n', classification_report(y_test, logit_y_pred_ros))\n",
    "print(\"Confusion matrix:\\n\",confusion_matrix(y_true=y_test, y_pred=logit_y_pred_ros))\n",
    "\n",
    "print(\"\\n\")\n",
    "# Obtain metrics\n",
    "print('Accuracy :{0:0.2f}'.format(accuracy_score(logit_y_pred_ros , y_test))) \n",
    "print('AUC : {0:0.2f}'.format(roc_auc_score(y_test ,logit_y_pred_ros)))\n",
    "print('Precision : {0:0.2f}'.format(precision_score(y_test , logit_y_pred_ros)))\n",
    "print('Recall : {0:0.2f}'.format(recall_score(y_test , logit_y_pred_ros)))\n",
    "print('F1 : {0:0.2f}'.format(f1_score(y_test , logit_y_pred_ros)))\n",
    "print(\"\\n\")"
   ]
  },
  {
   "cell_type": "markdown",
   "id": "nsa_sK0WGX9h",
   "metadata": {
    "id": "nsa_sK0WGX9h"
   },
   "source": [
    "### **3. Support Vector Machine**"
   ]
  },
  {
   "cell_type": "markdown",
   "id": "CP7o6FDHp4OB",
   "metadata": {
    "id": "CP7o6FDHp4OB"
   },
   "source": [
    "**3.1 Hyperparameter tuning for Support Vector Classifier using Random Oversampling Data**"
   ]
  },
  {
   "cell_type": "code",
   "execution_count": null,
   "id": "Oubk10dpY4hj",
   "metadata": {
    "colab": {
     "base_uri": "https://localhost:8080/"
    },
    "executionInfo": {
     "elapsed": 13100295,
     "status": "ok",
     "timestamp": 1668514223379,
     "user": {
      "displayName": "Mohammed Fuseini",
      "userId": "12618026182013098003"
     },
     "user_tz": 0
    },
    "id": "Oubk10dpY4hj",
    "outputId": "3dafbcc4-2f37-4212-b203-bb65511c6189"
   },
   "outputs": [
    {
     "name": "stdout",
     "output_type": "stream",
     "text": [
      "Best cross-validation acuracy: 1.00\n",
      "Best test score: 0.00\n",
      "Best parameters: {'SVC__C': 0.01, 'SVC__gamma': 1}\n"
     ]
    }
   ],
   "source": [
    "#Instantiating the model and setting up grid search\n",
    "pipe = Pipeline([('Scaler',StandardScaler()),('SVC',SVC(probability=True))])\n",
    "param_grid = {'SVC__C':[0.001,0.01,0.1,1,10],\n",
    "            'SVC__gamma':[0.001,0.01,0.1,1,10]}\n",
    "grid_svc = GridSearchCV(pipe, param_grid = param_grid,cv =5,scoring=\"f1\")\n",
    "\n",
    "#Fitting the model with X_train, y_train\n",
    "grid_svc.fit(X_train_ros,y_train_ros)\n",
    "\n",
    "#checking for the test score, best parameters and cross-validation accuracies\n",
    "print('Best cross-validation acuracy: {:.2f}'.format(grid_svc.best_score_))\n",
    "print('Best test score: {:.2f}'.format(grid_svc.score(X_test,y_test)))\n",
    "print('Best parameters:',grid_svc.best_params_)"
   ]
  },
  {
   "cell_type": "markdown",
   "id": "iMvorvYIQnJP",
   "metadata": {
    "id": "iMvorvYIQnJP"
   },
   "source": [
    "**3.2 Support Vector Classifier Model**"
   ]
  },
  {
   "cell_type": "code",
   "execution_count": 18,
   "id": "IHVVadMIQy_H",
   "metadata": {
    "colab": {
     "base_uri": "https://localhost:8080/"
    },
    "executionInfo": {
     "elapsed": 283401,
     "status": "ok",
     "timestamp": 1669461122858,
     "user": {
      "displayName": "Mohammed Fuseini",
      "userId": "12618026182013098003"
     },
     "user_tz": 0
    },
    "id": "IHVVadMIQy_H",
    "outputId": "b68c346a-81df-425d-8303-baff5df7caee"
   },
   "outputs": [
    {
     "name": "stdout",
     "output_type": "stream",
     "text": [
      "Test score:1.00\n",
      "Train score:1.00\n",
      "\n",
      "Classifcation report:\n",
      "               precision    recall  f1-score   support\n",
      "\n",
      "           0       1.00      1.00      1.00      2833\n",
      "           1       0.00      0.00      0.00         5\n",
      "\n",
      "    accuracy                           1.00      2838\n",
      "   macro avg       0.50      0.50      0.50      2838\n",
      "weighted avg       1.00      1.00      1.00      2838\n",
      "\n",
      "Confusion matrix:\n",
      " [[2833    0]\n",
      " [   5    0]]\n",
      "\n",
      "\n",
      "Accuracy :1.00\n",
      "AUC : 0.50\n",
      "Precision : 0.00\n",
      "Recall : 0.00\n",
      "F1 : 0.00\n",
      "\n",
      "\n"
     ]
    }
   ],
   "source": [
    "#Instantiating the model with best parameters\n",
    "pipeline = Pipeline([('Scaler',StandardScaler()),('SVC',SVC(C= 0.01,gamma =1,probability=True))])\n",
    "\n",
    "#Fitting the model with X_train_ros, y_train_ros\n",
    "pipeline.fit(X_train_ros, y_train_ros)\n",
    "svc_y_pred_ros = pipeline.predict(X_test)\n",
    "\n",
    "#checking for the test and train accuracies\n",
    "print(\"Test score:{:.2f}\".format(pipeline.score(X_test,y_test)))\n",
    "print(\"Train score:{:.2f}\\n\".format(pipeline.score(X_train_ros,y_train_ros)))\n",
    "\n",
    "# Obtain the results from the classification report and confusion matrix \n",
    "print('Classifcation report:\\n', classification_report(y_test, svc_y_pred_ros))\n",
    "print(\"Confusion matrix:\\n\",confusion_matrix(y_true=y_test, y_pred=svc_y_pred_ros))\n",
    "\n",
    "print(\"\\n\")\n",
    "# Obtain metrics\n",
    "print('Accuracy :{0:0.2f}'.format(accuracy_score(svc_y_pred_ros , y_test))) \n",
    "print('AUC : {0:0.2f}'.format(roc_auc_score(y_test ,svc_y_pred_ros)))\n",
    "print('Precision : {0:0.2f}'.format(precision_score(y_test , svc_y_pred_ros)))\n",
    "print('Recall : {0:0.2f}'.format(recall_score(y_test , svc_y_pred_ros)))\n",
    "print('F1 : {0:0.2f}'.format(f1_score(y_test , svc_y_pred_ros)))\n",
    "print(\"\\n\")"
   ]
  },
  {
   "cell_type": "markdown",
   "id": "y6RzQCkpGrcy",
   "metadata": {
    "id": "y6RzQCkpGrcy"
   },
   "source": [
    "### **4. Decision Tree**"
   ]
  },
  {
   "cell_type": "markdown",
   "id": "2UlEEAy02Wah",
   "metadata": {
    "id": "2UlEEAy02Wah"
   },
   "source": [
    "**4.1 Hyperparameter tuning for Decision Tree using Random Oversampling Data**"
   ]
  },
  {
   "cell_type": "code",
   "execution_count": null,
   "id": "V6sYd9WXLe2H",
   "metadata": {
    "colab": {
     "base_uri": "https://localhost:8080/"
    },
    "executionInfo": {
     "elapsed": 13105,
     "status": "ok",
     "timestamp": 1668501123136,
     "user": {
      "displayName": "Mohammed Fuseini",
      "userId": "12618026182013098003"
     },
     "user_tz": 0
    },
    "id": "V6sYd9WXLe2H",
    "outputId": "9a441d54-3bb1-4395-fa12-9a430df9a54a"
   },
   "outputs": [
    {
     "name": "stdout",
     "output_type": "stream",
     "text": [
      "Best cross-validation acuracy: 0.98\n",
      "Best test score: 0.08\n",
      "Best parameters: {'max_depth': 3, 'max_features': 0.8, 'min_samples_leaf': 0.04}\n"
     ]
    }
   ],
   "source": [
    "#Instantiating the model and setting up grid search\n",
    "dt = DecisionTreeClassifier(random_state=42)\n",
    "params_dt = {'max_depth': [3, 4,5, 6],'min_samples_leaf': [0.04, 0.06, 0.08],'max_features': [0.2, 0.4,0.6, 0.8]}\n",
    "grid_tree = GridSearchCV(estimator=dt,param_grid=params_dt,scoring='f1',cv=5,n_jobs=-1)\n",
    "\n",
    "#Fitting the model with X_train_smote, y_train_smote\n",
    "grid_tree.fit(X_train_ros,y_train_ros)\n",
    "\n",
    "#checking for the test score, best parameters and cross-validation accuracies\n",
    "print('Best cross-validation acuracy: {:.2f}'.format(grid_tree.best_score_))\n",
    "print('Best test score: {:.2f}'.format(grid_tree.score(X_test,y_test)))\n",
    "print('Best parameters:',grid_tree.best_params_)"
   ]
  },
  {
   "cell_type": "markdown",
   "id": "uWLfvlVLkQlB",
   "metadata": {
    "id": "uWLfvlVLkQlB"
   },
   "source": [
    "**4.2 Decision Tree Model**"
   ]
  },
  {
   "cell_type": "code",
   "execution_count": 19,
   "id": "sxqcb6rOkXgy",
   "metadata": {
    "colab": {
     "base_uri": "https://localhost:8080/"
    },
    "executionInfo": {
     "elapsed": 34,
     "status": "ok",
     "timestamp": 1669461122858,
     "user": {
      "displayName": "Mohammed Fuseini",
      "userId": "12618026182013098003"
     },
     "user_tz": 0
    },
    "id": "sxqcb6rOkXgy",
    "outputId": "41815df1-3b13-4181-cafd-afa90b6d2ac9"
   },
   "outputs": [
    {
     "name": "stdout",
     "output_type": "stream",
     "text": [
      "Test score:0.98\n",
      "Train score:0.99\n",
      "\n",
      "Classifcation report:\n",
      "               precision    recall  f1-score   support\n",
      "\n",
      "           0       1.00      0.98      0.99      2833\n",
      "           1       0.07      1.00      0.14         5\n",
      "\n",
      "    accuracy                           0.98      2838\n",
      "   macro avg       0.54      0.99      0.56      2838\n",
      "weighted avg       1.00      0.98      0.99      2838\n",
      "\n",
      "Confusion matrix:\n",
      " [[2769   64]\n",
      " [   0    5]]\n",
      "\n",
      "\n",
      "Accuracy :0.98\n",
      "AUC : 0.99\n",
      "Precision : 0.07\n",
      "Recall : 1.00\n",
      "F1 : 0.14\n",
      "\n",
      "\n"
     ]
    }
   ],
   "source": [
    "#Instantiating the model with best parameters\n",
    "tree= DecisionTreeClassifier(max_depth=3, min_samples_leaf=0.04, max_features=0.8)\n",
    "\n",
    "#Fitting the model with X_train_ros, y_train_ros\n",
    "tree.fit(X_train_ros, y_train_ros)\n",
    "tree_y_pred_ros = tree.predict(X_test)\n",
    "\n",
    "#checking for the test and train accuracies\n",
    "print(\"Test score:{:.2f}\".format(tree.score(X_test,y_test)))\n",
    "print(\"Train score:{:.2f}\\n\".format(tree.score(X_train_ros,y_train_ros)))\n",
    "\n",
    "# Obtain the results from the classification report and confusion matrix \n",
    "print('Classifcation report:\\n', classification_report(y_test, tree_y_pred_ros))\n",
    "print(\"Confusion matrix:\\n\",confusion_matrix(y_true=y_test, y_pred=tree_y_pred_ros))\n",
    "\n",
    "print(\"\\n\")\n",
    "# Obtain metrics\n",
    "print('Accuracy :{0:0.2f}'.format(accuracy_score(tree_y_pred_ros , y_test))) \n",
    "print('AUC : {0:0.2f}'.format(roc_auc_score(y_test ,tree_y_pred_ros)))\n",
    "print('Precision : {0:0.2f}'.format(precision_score(y_test , tree_y_pred_ros)))\n",
    "print('Recall : {0:0.2f}'.format(recall_score(y_test , tree_y_pred_ros)))\n",
    "print('F1 : {0:0.2f}'.format(f1_score(y_test , tree_y_pred_ros)))\n",
    "print(\"\\n\")"
   ]
  },
  {
   "cell_type": "markdown",
   "id": "gZQ2eMvbLs_G",
   "metadata": {
    "id": "gZQ2eMvbLs_G"
   },
   "source": [
    "### **5. Random Forest**"
   ]
  },
  {
   "cell_type": "markdown",
   "id": "mEEx0cxXIEJJ",
   "metadata": {
    "id": "mEEx0cxXIEJJ"
   },
   "source": [
    "**5.1 Hyperparameter tuning for Random Forest using Random Oversampling Data**"
   ]
  },
  {
   "cell_type": "code",
   "execution_count": null,
   "id": "DCq2lVw_IQ8b",
   "metadata": {
    "colab": {
     "base_uri": "https://localhost:8080/"
    },
    "executionInfo": {
     "elapsed": 567418,
     "status": "ok",
     "timestamp": 1668501110076,
     "user": {
      "displayName": "Mohammed Fuseini",
      "userId": "12618026182013098003"
     },
     "user_tz": 0
    },
    "id": "DCq2lVw_IQ8b",
    "outputId": "a41b2833-e0e8-4476-ebaf-9ee396c40025"
   },
   "outputs": [
    {
     "name": "stdout",
     "output_type": "stream",
     "text": [
      "Best cross-validation acuracy: 1.00\n",
      "Best test score: 0.91\n",
      "Best parameters: {'max_features': 5, 'max_leaf_nodes': 9}\n"
     ]
    }
   ],
   "source": [
    "#Instantiating the model and setting up grid search\n",
    "rf = RandomForestClassifier(random_state = 42)\n",
    "param_grid = {'max_features': [1,2,3,4,5,6,7,8,9,10],\n",
    "              'max_leaf_nodes':[1,2, 3,4,5,6,7,8,9,10]}\n",
    "grid_rfc = GridSearchCV(rf, param_grid = param_grid,cv =5,scoring = 'f1', n_jobs=-1)\n",
    "\n",
    "#Fitting the model with X_train, y_train\n",
    "grid_rfc.fit(X_train_ros,y_train_ros)\n",
    "\n",
    "#checking for the test score, best parameters and cross-validation accuracies\n",
    "print('Best cross-validation acuracy: {:.2f}'.format(grid_rfc.best_score_))\n",
    "print('Best test score: {:.2f}'.format(grid_rfc.score(X_test,y_test)))\n",
    "print('Best parameters:',grid_rfc.best_params_)"
   ]
  },
  {
   "cell_type": "markdown",
   "id": "qkMNQ1YlJHxd",
   "metadata": {
    "id": "qkMNQ1YlJHxd"
   },
   "source": [
    "**5.2 Random Forest Model**"
   ]
  },
  {
   "cell_type": "code",
   "execution_count": 20,
   "id": "Hqdng0NaJGaP",
   "metadata": {
    "colab": {
     "base_uri": "https://localhost:8080/"
    },
    "executionInfo": {
     "elapsed": 1831,
     "status": "ok",
     "timestamp": 1669461124664,
     "user": {
      "displayName": "Mohammed Fuseini",
      "userId": "12618026182013098003"
     },
     "user_tz": 0
    },
    "id": "Hqdng0NaJGaP",
    "outputId": "6d497e09-f505-4847-d7f7-914285d655c5"
   },
   "outputs": [
    {
     "name": "stdout",
     "output_type": "stream",
     "text": [
      "Test score:1.00\n",
      "Train score:1.00\n",
      "\n",
      "Classifcation report:\n",
      "               precision    recall  f1-score   support\n",
      "\n",
      "           0       1.00      1.00      1.00      2833\n",
      "           1       0.83      1.00      0.91         5\n",
      "\n",
      "    accuracy                           1.00      2838\n",
      "   macro avg       0.92      1.00      0.95      2838\n",
      "weighted avg       1.00      1.00      1.00      2838\n",
      "\n",
      "Confusion matrix:\n",
      " [[2832    1]\n",
      " [   0    5]]\n",
      "\n",
      "\n",
      "Accuracy :1.00\n",
      "AUC : 1.00\n",
      "Precision : 0.83\n",
      "Recall : 1.00\n",
      "F1 : 0.91\n",
      "\n",
      "\n"
     ]
    }
   ],
   "source": [
    "#Instantiating the model with best parameters\n",
    "rfc = RandomForestClassifier(max_features = 3, max_leaf_nodes =10, random_state = 42)\n",
    "\n",
    "#Fitting the model with X_train_ros, y_train_ros\n",
    "rfc.fit(X_train_ros, y_train_ros)\n",
    "rfc_y_pred_ros = rfc.predict(X_test)\n",
    "\n",
    "#checking for the test and train accuracies\n",
    "print(\"Test score:{:.2f}\".format(rfc.score(X_test,y_test)))\n",
    "print(\"Train score:{:.2f}\\n\".format(rfc.score(X_train_ros,y_train_ros)))\n",
    "\n",
    "# Obtain the results from the classification report and confusion matrix \n",
    "print('Classifcation report:\\n', classification_report(y_test, rfc_y_pred_ros))\n",
    "print(\"Confusion matrix:\\n\",confusion_matrix(y_true=y_test, y_pred=rfc_y_pred_ros))\n",
    "\n",
    "print(\"\\n\")\n",
    "# Obtain metrics\n",
    "print('Accuracy :{0:0.2f}'.format(accuracy_score(rfc_y_pred_ros , y_test))) \n",
    "print('AUC : {0:0.2f}'.format(roc_auc_score(y_test ,rfc_y_pred_ros)))\n",
    "print('Precision : {0:0.2f}'.format(precision_score(y_test , rfc_y_pred_ros)))\n",
    "print('Recall : {0:0.2f}'.format(recall_score(y_test , rfc_y_pred_ros)))\n",
    "print('F1 : {0:0.2f}'.format(f1_score(y_test , rfc_y_pred_ros)))\n",
    "print(\"\\n\")"
   ]
  },
  {
   "cell_type": "markdown",
   "id": "A8X8s-BkLmin",
   "metadata": {
    "id": "A8X8s-BkLmin"
   },
   "source": [
    "### **6. Bagging (Boostrap Aggregation)**\n",
    "bagging (bootstrap aggregation) uses a technique known as the bootstrap, where the ensemble is formed by models that use the same training data. These models are not trained on the entire training set. Instead, each model is trained on a different subset of the data. Overall, Bagging has the effect of reducing the variance of individual models in the ensemble.\n",
    "In the training phase, bagging consists of drawing N different bootstrap samples from the training set. Each of these bootstrap samples are then used to train N models that use the same algorithm\n",
    "We will instantiate DecisionTreeClassifier as our base estimator."
   ]
  },
  {
   "cell_type": "markdown",
   "id": "BGIKQRjyvXhC",
   "metadata": {
    "id": "BGIKQRjyvXhC"
   },
   "source": [
    "**6.1 Bagging Model**"
   ]
  },
  {
   "cell_type": "code",
   "execution_count": 21,
   "id": "14G2Ofu2xdd1",
   "metadata": {
    "colab": {
     "base_uri": "https://localhost:8080/"
    },
    "executionInfo": {
     "elapsed": 32094,
     "status": "ok",
     "timestamp": 1669461156752,
     "user": {
      "displayName": "Mohammed Fuseini",
      "userId": "12618026182013098003"
     },
     "user_tz": 0
    },
    "id": "14G2Ofu2xdd1",
    "outputId": "a4e72cf8-0142-43db-f123-c8cf9fb4de52"
   },
   "outputs": [
    {
     "name": "stdout",
     "output_type": "stream",
     "text": [
      "Test score:1.00\n",
      "Train score:1.00\n",
      "\n",
      "Classifcation report:\n",
      "               precision    recall  f1-score   support\n",
      "\n",
      "           0       1.00      1.00      1.00      2833\n",
      "           1       0.67      0.80      0.73         5\n",
      "\n",
      "    accuracy                           1.00      2838\n",
      "   macro avg       0.83      0.90      0.86      2838\n",
      "weighted avg       1.00      1.00      1.00      2838\n",
      "\n",
      "Confusion matrix:\n",
      " [[2831    2]\n",
      " [   1    4]]\n",
      "\n",
      "\n",
      "Accuracy :1.00\n",
      "AUC : 0.90\n",
      "Precision : 0.67\n",
      "Recall : 0.80\n",
      "F1 : 0.73\n",
      "\n",
      "\n"
     ]
    }
   ],
   "source": [
    "# instantiate a base model as DecisionTreeClassifier and Bagging classifier\n",
    "dt = DecisionTreeClassifier(random_state =123)\n",
    "bc = BaggingClassifier(base_estimator=dt,n_estimators=400,n_jobs = -1)\n",
    "# fit model on training data\n",
    "bc.fit(X_train_ros,y_train_ros)\n",
    "\n",
    "# predict model and calculate accuracy\n",
    "bc_y_pred_ros = bc.predict(X_test)\n",
    "\n",
    "\n",
    "#checking for the test and train accuracies\n",
    "print(\"Test score:{:.2f}\".format(bc.score(X_test,y_test)))\n",
    "print(\"Train score:{:.2f}\\n\".format(bc.score(X_train_ros,y_train_ros)))\n",
    "\n",
    "# Obtain the results from the classification report and confusion matrix \n",
    "print('Classifcation report:\\n', classification_report(y_test, bc_y_pred_ros))\n",
    "print(\"Confusion matrix:\\n\",confusion_matrix(y_true=y_test, y_pred=bc_y_pred_ros))\n",
    "\n",
    "print(\"\\n\")\n",
    "# Obtain metrics\n",
    "print('Accuracy :{0:0.2f}'.format(accuracy_score(bc_y_pred_ros , y_test))) \n",
    "print('AUC : {0:0.2f}'.format(roc_auc_score(y_test ,bc_y_pred_ros)))\n",
    "print('Precision : {0:0.2f}'.format(precision_score(y_test , bc_y_pred_ros)))\n",
    "print('Recall : {0:0.2f}'.format(recall_score(y_test , bc_y_pred_ros)))\n",
    "print('F1 : {0:0.2f}'.format(f1_score(y_test , bc_y_pred_ros)))\n",
    "print(\"\\n\")"
   ]
  },
  {
   "cell_type": "markdown",
   "id": "5usN3iIer4Nu",
   "metadata": {
    "id": "5usN3iIer4Nu"
   },
   "source": [
    "Out of bag evaluation. In bagging, some instances may be sampled several times for one model while others may not be sampled at all. The instances that are not sampled are called out of bag instances. Since OOB instances are not seen by a model during training, these can be used to estimate the performance of the ensemble without the need for cross-validation. This method is called out of bag evaluation(OOB evaluation).\n",
    "Finally, evaluate the OOB-accuracy of bc by extracting the attribute oob_score_ from the trained instance"
   ]
  },
  {
   "cell_type": "markdown",
   "id": "C3I14Sjbhxi1",
   "metadata": {
    "id": "C3I14Sjbhxi1"
   },
   "source": [
    "**6.2 Out Of Bagging Model**"
   ]
  },
  {
   "cell_type": "code",
   "execution_count": 22,
   "id": "C_ypKsR2iyka",
   "metadata": {
    "colab": {
     "base_uri": "https://localhost:8080/"
    },
    "executionInfo": {
     "elapsed": 30030,
     "status": "ok",
     "timestamp": 1669461186741,
     "user": {
      "displayName": "Mohammed Fuseini",
      "userId": "12618026182013098003"
     },
     "user_tz": 0
    },
    "id": "C_ypKsR2iyka",
    "outputId": "7682e8c9-d91d-4cef-a844-59c23e8db87d"
   },
   "outputs": [
    {
     "name": "stdout",
     "output_type": "stream",
     "text": [
      "Test set accuracy: 0.999\n",
      "OOB accuracy: 1.000\n",
      "Classifcation report:\n",
      "               precision    recall  f1-score   support\n",
      "\n",
      "           0       1.00      1.00      1.00      2833\n",
      "           1       0.71      1.00      0.83         5\n",
      "\n",
      "    accuracy                           1.00      2838\n",
      "   macro avg       0.86      1.00      0.92      2838\n",
      "weighted avg       1.00      1.00      1.00      2838\n",
      "\n",
      "Confusion matrix:\n",
      " [[2831    2]\n",
      " [   0    5]]\n",
      "\n",
      "\n",
      "Accuracy :1.00\n",
      "AUC : 1.00\n",
      "Precision : 0.71\n",
      "Recall : 1.00\n",
      "F1 : 0.83\n",
      "\n",
      "\n"
     ]
    }
   ],
   "source": [
    "# instantiate a base model as DecisionTreeClassifier and Bagging classifier. \n",
    "#Add parameter oob_score to True in order to evaluate the OOB-accuracy of bc after training.\n",
    "dt = DecisionTreeClassifier(random_state =123)\n",
    "bc = BaggingClassifier(base_estimator=dt,n_estimators=400,n_jobs = -1, oob_score=True)\n",
    "# fit model on training data\n",
    "bc.fit(X_train_ros,y_train_ros)\n",
    "\n",
    "# predict model and calculate accuracy\n",
    "y_pred_oob_ros = bc.predict(X_test)\n",
    "# Evaluate test set accuracy\n",
    "test_accuracy = accuracy_score(y_test, y_pred_oob_ros)\n",
    "# Extract the OOB accuracy from 'bc'\n",
    "oob_accuracy = bc.oob_score_\n",
    "# Print test set accuracy\n",
    "print('Test set accuracy: {:.3f}'.format(test_accuracy))\n",
    "# Print OOB accuracy\n",
    "print('OOB accuracy: {:.3f}'.format(oob_accuracy))\n",
    "\n",
    "# Obtain the results from the classification report and confusion matrix \n",
    "print('Classifcation report:\\n', classification_report(y_test, y_pred_oob_ros))\n",
    "print(\"Confusion matrix:\\n\",confusion_matrix(y_true=y_test, y_pred=y_pred_oob_ros))\n",
    "\n",
    "print(\"\\n\")\n",
    "# Obtain metrics\n",
    "print('Accuracy :{0:0.2f}'.format(accuracy_score(y_pred_oob_ros , y_test))) \n",
    "print('AUC : {0:0.2f}'.format(roc_auc_score(y_test ,y_pred_oob_ros)))\n",
    "print('Precision : {0:0.2f}'.format(precision_score(y_test , y_pred_oob_ros)))\n",
    "print('Recall : {0:0.2f}'.format(recall_score(y_test , y_pred_oob_ros)))\n",
    "print('F1 : {0:0.2f}'.format(f1_score(y_test , y_pred_oob_ros)))\n",
    "print(\"\\n\")"
   ]
  },
  {
   "cell_type": "markdown",
   "id": "rhdaw2wnL5a8",
   "metadata": {
    "id": "rhdaw2wnL5a8"
   },
   "source": [
    "### **7. AdaBoost**"
   ]
  },
  {
   "cell_type": "markdown",
   "id": "aPXgBYYyQwwO",
   "metadata": {
    "id": "aPXgBYYyQwwO"
   },
   "source": [
    "The core principle of AdaBoost is to fit a sequence of weak learners (i.e., models that are only slightly better than random guessing, such as small decision trees) on repeatedly modified versions of the data"
   ]
  },
  {
   "cell_type": "markdown",
   "id": "MAMXpnxGjGpp",
   "metadata": {
    "id": "MAMXpnxGjGpp"
   },
   "source": [
    "**7.1 AdaBoost Model**"
   ]
  },
  {
   "cell_type": "code",
   "execution_count": 23,
   "id": "GdjKelpjjDtw",
   "metadata": {
    "colab": {
     "base_uri": "https://localhost:8080/"
    },
    "executionInfo": {
     "elapsed": 5137,
     "status": "ok",
     "timestamp": 1669461191862,
     "user": {
      "displayName": "Mohammed Fuseini",
      "userId": "12618026182013098003"
     },
     "user_tz": 0
    },
    "id": "GdjKelpjjDtw",
    "outputId": "9857cb1c-de6e-4a22-a7a2-5fc6088a16ce"
   },
   "outputs": [
    {
     "name": "stdout",
     "output_type": "stream",
     "text": [
      "Test score:1.00\n",
      "Train score:1.00\n",
      "\n",
      "Classifcation report:\n",
      "               precision    recall  f1-score   support\n",
      "\n",
      "           0       1.00      1.00      1.00      2833\n",
      "           1       0.75      0.60      0.67         5\n",
      "\n",
      "    accuracy                           1.00      2838\n",
      "   macro avg       0.87      0.80      0.83      2838\n",
      "weighted avg       1.00      1.00      1.00      2838\n",
      "\n",
      "Confusion matrix:\n",
      " [[2832    1]\n",
      " [   2    3]]\n",
      "\n",
      "\n",
      "Accuracy :1.00\n",
      "AUC : 0.80\n",
      "Precision : 0.75\n",
      "Recall : 0.60\n",
      "F1 : 0.67\n",
      "\n",
      "\n"
     ]
    }
   ],
   "source": [
    "# Instantiate a decition tree classifier as the weaker model\n",
    "dtc= DecisionTreeClassifier(max_depth=3, min_samples_leaf=0.04, max_features=0.2)\n",
    "\n",
    "#Instantiating and fitting the model\n",
    "adb = AdaBoostClassifier(base_estimator = dtc,n_estimators=100, random_state=42)\n",
    "adb.fit(X_train_ros,y_train_ros)\n",
    "adb_y_pred_ros = adb.predict(X_test)\n",
    "\n",
    "#checking for the test and train accuracies\n",
    "print(\"Test score:{:.2f}\".format(adb.score(X_test,y_test)))\n",
    "print(\"Train score:{:.2f}\\n\".format(adb.score(X_train_ros,y_train_ros)))\n",
    "\n",
    "# Obtain the results from the classification report and confusion matrix \n",
    "print('Classifcation report:\\n', classification_report(y_test, adb_y_pred_ros))\n",
    "print(\"Confusion matrix:\\n\",confusion_matrix(y_true=y_test, y_pred=adb_y_pred_ros))\n",
    "\n",
    "print(\"\\n\")\n",
    "# Obtain metrics\n",
    "print('Accuracy :{0:0.2f}'.format(accuracy_score(adb_y_pred_ros , y_test))) \n",
    "print('AUC : {0:0.2f}'.format(roc_auc_score(y_test , adb_y_pred_ros)))\n",
    "print('Precision : {0:0.2f}'.format(precision_score(y_test , adb_y_pred_ros)))\n",
    "print('Recall : {0:0.2f}'.format(recall_score(y_test , adb_y_pred_ros)))\n",
    "print('F1 : {0:0.2f}'.format(f1_score(y_test , adb_y_pred_ros)))\n",
    "print(\"\\n\")"
   ]
  },
  {
   "cell_type": "markdown",
   "id": "EpYYScEzMFDh",
   "metadata": {
    "id": "EpYYScEzMFDh"
   },
   "source": [
    "### **8. Gradient boost**"
   ]
  },
  {
   "cell_type": "markdown",
   "id": "TyD9eys_M-Gz",
   "metadata": {
    "id": "TyD9eys_M-Gz"
   },
   "source": [
    "**8.1 Hyperparameter for Gradient Boosting Classifier using Random Oversampling**"
   ]
  },
  {
   "cell_type": "code",
   "execution_count": null,
   "id": "V3GEu9qINCq9",
   "metadata": {
    "colab": {
     "base_uri": "https://localhost:8080/"
    },
    "executionInfo": {
     "elapsed": 1063564,
     "status": "ok",
     "timestamp": 1668500542707,
     "user": {
      "displayName": "Mohammed Fuseini",
      "userId": "12618026182013098003"
     },
     "user_tz": 0
    },
    "id": "V3GEu9qINCq9",
    "outputId": "528fa250-e571-45e1-e207-1f69791de5d0"
   },
   "outputs": [
    {
     "name": "stdout",
     "output_type": "stream",
     "text": [
      "Best cross-validation acuracy: 1.00\n",
      "Best test score: 0.77\n",
      "Best parameters: {'max_features': 2, 'max_leaf_nodes': 2}\n"
     ]
    }
   ],
   "source": [
    "#Instantiating the model and setting up grid search\n",
    "graboost = GradientBoostingClassifier(n_estimators=300, max_depth=1, random_state=42)\n",
    "param_grid = {'max_features': [1,2,3,4,5,6,7,8,9,10],'max_leaf_nodes':[1,2, 3,4,5,6,7,8,9,10]}\n",
    "grid_gbc = GridSearchCV(graboost, param_grid = param_grid,cv =5,scoring=\"f1\",n_jobs=-1)\n",
    "\n",
    "#Fitting the model with X_train, y_train\n",
    "grid_gbc.fit(X_train_ros,y_train_ros)\n",
    "\n",
    "#checking for the test score, best parameters and cross-validation accuracies\n",
    "print('Best cross-validation acuracy: {:.2f}'.format(grid_gbc.best_score_))\n",
    "print('Best test score: {:.2f}'.format(grid_gbc.score(X_test,y_test)))\n",
    "print('Best parameters:',grid_gbc.best_params_)"
   ]
  },
  {
   "cell_type": "markdown",
   "id": "rFcgTknHPjZt",
   "metadata": {
    "id": "rFcgTknHPjZt"
   },
   "source": [
    "**8.2 Gradient Boosting Classifier Model**"
   ]
  },
  {
   "cell_type": "code",
   "execution_count": 24,
   "id": "88JDFCKlPtU0",
   "metadata": {
    "colab": {
     "base_uri": "https://localhost:8080/"
    },
    "executionInfo": {
     "elapsed": 3368,
     "status": "ok",
     "timestamp": 1669461195227,
     "user": {
      "displayName": "Mohammed Fuseini",
      "userId": "12618026182013098003"
     },
     "user_tz": 0
    },
    "id": "88JDFCKlPtU0",
    "outputId": "a5bf4c9a-d9bf-4a87-fb8a-3367e5c2a78f"
   },
   "outputs": [
    {
     "name": "stdout",
     "output_type": "stream",
     "text": [
      "Test score:1.00\n",
      "Train score:1.00\n",
      "\n",
      "Classifcation report:\n",
      "               precision    recall  f1-score   support\n",
      "\n",
      "           0       1.00      1.00      1.00      2833\n",
      "           1       0.62      1.00      0.77         5\n",
      "\n",
      "    accuracy                           1.00      2838\n",
      "   macro avg       0.81      1.00      0.88      2838\n",
      "weighted avg       1.00      1.00      1.00      2838\n",
      "\n",
      "Confusion matrix:\n",
      " [[2830    3]\n",
      " [   0    5]]\n",
      "\n",
      "\n",
      "Accuracy :1.00\n",
      "AUC : 1.00\n",
      "Precision : 0.62\n",
      "Recall : 1.00\n",
      "F1 : 0.77\n",
      "\n",
      "\n"
     ]
    }
   ],
   "source": [
    "#Instantiating the model with best parameters\n",
    "gbc = GradientBoostingClassifier(n_estimators=300,max_features=2, max_leaf_nodes= 2, random_state=42)\n",
    "\n",
    "#Fitting the model with X_train_ros, y_train_ros\n",
    "gbc.fit(X_train_ros, y_train_ros)\n",
    "gbc_y_pred_ros = gbc.predict(X_test)\n",
    "\n",
    "#checking for the test and train accuracies\n",
    "print(\"Test score:{:.2f}\".format(gbc.score(X_test,y_test)))\n",
    "print(\"Train score:{:.2f}\\n\".format(gbc.score(X_train_ros,y_train_ros)))\n",
    "\n",
    "# Obtain the results from the classification report and confusion matrix \n",
    "print('Classifcation report:\\n', classification_report(y_test, gbc_y_pred_ros))\n",
    "print(\"Confusion matrix:\\n\",confusion_matrix(y_true=y_test, y_pred=gbc_y_pred_ros))\n",
    "\n",
    "print(\"\\n\")\n",
    "# Obtain metrics\n",
    "print('Accuracy :{0:0.2f}'.format(accuracy_score(gbc_y_pred_ros , y_test))) \n",
    "print('AUC : {0:0.2f}'.format(roc_auc_score(y_test , gbc_y_pred_ros)))\n",
    "print('Precision : {0:0.2f}'.format(precision_score(y_test , gbc_y_pred_ros)))\n",
    "print('Recall : {0:0.2f}'.format(recall_score(y_test , gbc_y_pred_ros)))\n",
    "print('F1 : {0:0.2f}'.format(f1_score(y_test , gbc_y_pred_ros)))\n",
    "print(\"\\n\")"
   ]
  },
  {
   "cell_type": "markdown",
   "id": "YupALLV2LfOK",
   "metadata": {
    "id": "YupALLV2LfOK"
   },
   "source": [
    "### **9. Voting Classifier**"
   ]
  },
  {
   "cell_type": "code",
   "execution_count": 25,
   "id": "p3PVhOL5LlbB",
   "metadata": {
    "executionInfo": {
     "elapsed": 22,
     "status": "ok",
     "timestamp": 1669461195228,
     "user": {
      "displayName": "Mohammed Fuseini",
      "userId": "12618026182013098003"
     },
     "user_tz": 0
    },
    "id": "p3PVhOL5LlbB"
   },
   "outputs": [],
   "source": [
    "# Instantiate individual classifiers\n",
    "lr = LogisticRegression(C=0.1, class_weight=None, random_state=42)\n",
    "knn = KNeighborsClassifier(n_neighbors =3)\n",
    "rfc = RandomForestClassifier(max_features = 9, max_leaf_nodes =7, random_state = 42)\n",
    "dtr = DecisionTreeClassifier(max_depth=6, min_samples_leaf=0.04, max_features=0.2, random_state=42)\n",
    "svc = SVC(C= 1,gamma =0.001)\n",
    "# Define a list called classifier that contains the tuples (classifier_name, classifier)\n",
    "classifiers = [('Logistic Regression', lr),\n",
    "('K Nearest Neighbors', knn),\n",
    "('Random Forest', rfc),\n",
    "('Decision Tree', dtr), ('SVC', svc)]\n"
   ]
  },
  {
   "cell_type": "markdown",
   "id": "C3xBkWC6-wme",
   "metadata": {
    "id": "C3xBkWC6-wme"
   },
   "source": [
    "**9.1 Checking the accuracies with Random Oversampling Technique**"
   ]
  },
  {
   "cell_type": "code",
   "execution_count": 26,
   "id": "43WHlNaU_L7Q",
   "metadata": {
    "colab": {
     "base_uri": "https://localhost:8080/"
    },
    "executionInfo": {
     "elapsed": 34280,
     "status": "ok",
     "timestamp": 1669461229488,
     "user": {
      "displayName": "Mohammed Fuseini",
      "userId": "12618026182013098003"
     },
     "user_tz": 0
    },
    "id": "43WHlNaU_L7Q",
    "outputId": "56ddf900-06fd-4c72-a308-6547d5acd92b"
   },
   "outputs": [
    {
     "name": "stdout",
     "output_type": "stream",
     "text": [
      "Logistic Regression : 0.97\n",
      "K Nearest Neighbors : 1.00\n",
      "Random Forest : 1.00\n",
      "Decision Tree : 0.93\n",
      "SVC : 1.00\n"
     ]
    }
   ],
   "source": [
    "# Iterate over the defined list of tuples containing the classifiers\n",
    "for model_name, model in classifiers:\n",
    "        #fit model to the training set (ROS)\n",
    "        model.fit(X_train_ros,y_train_ros)\n",
    "        # Predict the labels of the test set\n",
    "        model_y_pred_ros = model.predict(X_test)\n",
    "        # Evaluate the accuracy of model on the test set\n",
    "        print('{:s} : {:.2f}'.format(model_name, accuracy_score(y_test, model_y_pred_ros)))"
   ]
  },
  {
   "cell_type": "markdown",
   "id": "8Xh6wSWv_hWS",
   "metadata": {
    "id": "8Xh6wSWv_hWS"
   },
   "source": [
    "**9.2 Building Voting Classifier Model with Random Oversapled data**"
   ]
  },
  {
   "cell_type": "code",
   "execution_count": 27,
   "id": "0tpEBjpyLmEh",
   "metadata": {
    "colab": {
     "base_uri": "https://localhost:8080/"
    },
    "executionInfo": {
     "elapsed": 63029,
     "status": "ok",
     "timestamp": 1669461292475,
     "user": {
      "displayName": "Mohammed Fuseini",
      "userId": "12618026182013098003"
     },
     "user_tz": 0
    },
    "id": "0tpEBjpyLmEh",
    "outputId": "2ae1bacb-c6bd-47a5-e5ce-b7c67f73f068"
   },
   "outputs": [
    {
     "name": "stdout",
     "output_type": "stream",
     "text": [
      "Test score:1.00\n",
      "Train score:1.00\n",
      "\n",
      "Classifcation report:\n",
      "               precision    recall  f1-score   support\n",
      "\n",
      "           0       1.00      1.00      1.00      2833\n",
      "           1       0.80      0.80      0.80         5\n",
      "\n",
      "    accuracy                           1.00      2838\n",
      "   macro avg       0.90      0.90      0.90      2838\n",
      "weighted avg       1.00      1.00      1.00      2838\n",
      "\n",
      "Confusion matrix:\n",
      " [[2832    1]\n",
      " [   1    4]]\n",
      "\n",
      "\n",
      "Accuracy :1.00\n",
      "AUC : 0.90\n",
      "Precision : 0.80\n",
      "Recall : 0.80\n",
      "F1 : 0.80\n",
      "\n",
      "\n"
     ]
    }
   ],
   "source": [
    "#Instantiating  votting classifier model \n",
    "vc = VotingClassifier(estimators=classifiers,voting = 'hard')\n",
    "\n",
    "# Fit 'vc' to the traing set and predict test set labels (ROS)\n",
    "vc.fit(X_train_ros, y_train_ros)\n",
    "vc_y_pred_ros = vc.predict(X_test)\n",
    "\n",
    "#checking for the test and train accuracies\n",
    "print(\"Test score:{:.2f}\".format(vc.score(X_test,y_test)))\n",
    "print(\"Train score:{:.2f}\\n\".format(vc.score(X_train_ros,y_train_ros)))\n",
    "\n",
    "# Obtain the results from the classification report and confusion matrix \n",
    "print('Classifcation report:\\n', classification_report(y_test, vc_y_pred_ros))\n",
    "print(\"Confusion matrix:\\n\",confusion_matrix(y_true=y_test, y_pred=vc_y_pred_ros))\n",
    "\n",
    "print(\"\\n\")\n",
    "# Obtain metrics\n",
    "print('Accuracy :{0:0.2f}'.format(accuracy_score(vc_y_pred_ros , y_test))) \n",
    "print('AUC : {0:0.2f}'.format(roc_auc_score(y_test , vc_y_pred_ros)))\n",
    "print('Precision : {0:0.2f}'.format(precision_score(y_test , vc_y_pred_ros)))\n",
    "print('Recall : {0:0.2f}'.format(recall_score(y_test , vc_y_pred_ros)))\n",
    "print('F1 : {0:0.2f}'.format(f1_score(y_test , vc_y_pred_ros)))\n",
    "print(\"\\n\")"
   ]
  },
  {
   "cell_type": "markdown",
   "id": "xq9fuYx5eWw5",
   "metadata": {
    "id": "xq9fuYx5eWw5"
   },
   "source": [
    "### **10. XGBOOST** "
   ]
  },
  {
   "cell_type": "markdown",
   "id": "_l7zqdLdeegg",
   "metadata": {
    "id": "_l7zqdLdeegg"
   },
   "source": [
    "**XGBOSST Model**"
   ]
  },
  {
   "cell_type": "code",
   "execution_count": 28,
   "id": "uNHG7951elfa",
   "metadata": {
    "colab": {
     "base_uri": "https://localhost:8080/"
    },
    "executionInfo": {
     "elapsed": 3276,
     "status": "ok",
     "timestamp": 1669461295709,
     "user": {
      "displayName": "Mohammed Fuseini",
      "userId": "12618026182013098003"
     },
     "user_tz": 0
    },
    "id": "uNHG7951elfa",
    "outputId": "2eb9692e-5600-44ac-fe87-2491fc280124"
   },
   "outputs": [
    {
     "name": "stdout",
     "output_type": "stream",
     "text": [
      "Test score:1.00\n",
      "Train score:1.00\n",
      "\n",
      "Classifcation report:\n",
      "               precision    recall  f1-score   support\n",
      "\n",
      "           0       1.00      1.00      1.00      2833\n",
      "           1       0.83      1.00      0.91         5\n",
      "\n",
      "    accuracy                           1.00      2838\n",
      "   macro avg       0.92      1.00      0.95      2838\n",
      "weighted avg       1.00      1.00      1.00      2838\n",
      "\n",
      "Confusion matrix:\n",
      " [[2832    1]\n",
      " [   0    5]]\n",
      "\n",
      "\n",
      "Accuracy :1.00\n",
      "AUC : 1.00\n",
      "Precision : 0.83\n",
      "Recall : 1.00\n",
      "F1 : 0.91\n",
      "\n",
      "\n"
     ]
    }
   ],
   "source": [
    "#instantiating and fitting the model\n",
    "xgboost = XGBClassifier()\n",
    "xgboost.fit(X_train_ros, y_train_ros)\n",
    "xgb_pred_ros = xgboost.predict(X_test)\n",
    "\n",
    "#checking for the test and train accuracies\n",
    "print(\"Test score:{:.2f}\".format(xgboost.score(X_test,y_test)))\n",
    "print(\"Train score:{:.2f}\\n\".format(xgboost.score(X_train_ros,y_train_ros)))\n",
    "\n",
    "# Obtain the results from the classification report and confusion matrix \n",
    "print('Classifcation report:\\n', classification_report(y_test, xgb_pred_ros))\n",
    "print(\"Confusion matrix:\\n\",confusion_matrix(y_true=y_test, y_pred=xgb_pred_ros))\n",
    "\n",
    "print(\"\\n\")\n",
    "# Obtain metrics\n",
    "print('Accuracy :{0:0.2f}'.format(accuracy_score(xgb_pred_ros , y_test)))\n",
    "print('AUC : {0:0.2f}'.format(roc_auc_score(y_test , xgb_pred_ros)))\n",
    "print('Precision : {0:0.2f}'.format(precision_score(y_test , xgb_pred_ros)))\n",
    "print('Recall : {0:0.2f}'.format(recall_score(y_test , xgb_pred_ros)))\n",
    "print('F1 : {0:0.2f}'.format(f1_score(y_test , xgb_pred_ros)))\n",
    "print(\"\\n\")"
   ]
  },
  {
   "cell_type": "markdown",
   "id": "Hp5zPNuoftL1",
   "metadata": {
    "id": "Hp5zPNuoftL1"
   },
   "source": [
    "### **11. CAT BOOST**"
   ]
  },
  {
   "cell_type": "code",
   "execution_count": 29,
   "id": "raKUdMRJfoPu",
   "metadata": {
    "colab": {
     "base_uri": "https://localhost:8080/"
    },
    "executionInfo": {
     "elapsed": 15779,
     "status": "ok",
     "timestamp": 1669461311453,
     "user": {
      "displayName": "Mohammed Fuseini",
      "userId": "12618026182013098003"
     },
     "user_tz": 0
    },
    "id": "raKUdMRJfoPu",
    "outputId": "7e2a4a37-c209-45d6-fad1-c679e95dd699"
   },
   "outputs": [
    {
     "name": "stdout",
     "output_type": "stream",
     "text": [
      "Learning rate set to 0.039048\n",
      "0:\tlearn: 0.5617518\ttotal: 67.8ms\tremaining: 1m 7s\n",
      "1:\tlearn: 0.4689803\ttotal: 84.5ms\tremaining: 42.2s\n",
      "2:\tlearn: 0.3855018\ttotal: 99.9ms\tremaining: 33.2s\n",
      "3:\tlearn: 0.3236448\ttotal: 117ms\tremaining: 29s\n",
      "4:\tlearn: 0.2683068\ttotal: 133ms\tremaining: 26.5s\n",
      "5:\tlearn: 0.2204382\ttotal: 149ms\tremaining: 24.7s\n",
      "6:\tlearn: 0.1834049\ttotal: 164ms\tremaining: 23.3s\n",
      "7:\tlearn: 0.1488867\ttotal: 180ms\tremaining: 22.4s\n",
      "8:\tlearn: 0.1270780\ttotal: 202ms\tremaining: 22.3s\n",
      "9:\tlearn: 0.1043963\ttotal: 218ms\tremaining: 21.6s\n",
      "10:\tlearn: 0.0908845\ttotal: 238ms\tremaining: 21.4s\n",
      "11:\tlearn: 0.0749884\ttotal: 255ms\tremaining: 21s\n",
      "12:\tlearn: 0.0648328\ttotal: 273ms\tremaining: 20.8s\n",
      "13:\tlearn: 0.0552431\ttotal: 291ms\tremaining: 20.5s\n",
      "14:\tlearn: 0.0467046\ttotal: 307ms\tremaining: 20.2s\n",
      "15:\tlearn: 0.0398856\ttotal: 323ms\tremaining: 19.9s\n",
      "16:\tlearn: 0.0341295\ttotal: 338ms\tremaining: 19.6s\n",
      "17:\tlearn: 0.0301108\ttotal: 354ms\tremaining: 19.3s\n",
      "18:\tlearn: 0.0261791\ttotal: 370ms\tremaining: 19.1s\n",
      "19:\tlearn: 0.0223898\ttotal: 386ms\tremaining: 18.9s\n",
      "20:\tlearn: 0.0194596\ttotal: 406ms\tremaining: 18.9s\n",
      "21:\tlearn: 0.0170960\ttotal: 422ms\tremaining: 18.8s\n",
      "22:\tlearn: 0.0148233\ttotal: 452ms\tremaining: 19.2s\n",
      "23:\tlearn: 0.0132647\ttotal: 467ms\tremaining: 19s\n",
      "24:\tlearn: 0.0117585\ttotal: 487ms\tremaining: 19s\n",
      "25:\tlearn: 0.0104975\ttotal: 503ms\tremaining: 18.9s\n",
      "26:\tlearn: 0.0093910\ttotal: 519ms\tremaining: 18.7s\n",
      "27:\tlearn: 0.0085752\ttotal: 534ms\tremaining: 18.5s\n",
      "28:\tlearn: 0.0078478\ttotal: 549ms\tremaining: 18.4s\n",
      "29:\tlearn: 0.0071511\ttotal: 565ms\tremaining: 18.3s\n",
      "30:\tlearn: 0.0065275\ttotal: 580ms\tremaining: 18.1s\n",
      "31:\tlearn: 0.0059327\ttotal: 600ms\tremaining: 18.2s\n",
      "32:\tlearn: 0.0054866\ttotal: 621ms\tremaining: 18.2s\n",
      "33:\tlearn: 0.0050713\ttotal: 636ms\tremaining: 18.1s\n",
      "34:\tlearn: 0.0045815\ttotal: 652ms\tremaining: 18s\n",
      "35:\tlearn: 0.0041993\ttotal: 668ms\tremaining: 17.9s\n",
      "36:\tlearn: 0.0038956\ttotal: 684ms\tremaining: 17.8s\n",
      "37:\tlearn: 0.0036515\ttotal: 704ms\tremaining: 17.8s\n",
      "38:\tlearn: 0.0033734\ttotal: 718ms\tremaining: 17.7s\n",
      "39:\tlearn: 0.0031578\ttotal: 737ms\tremaining: 17.7s\n",
      "40:\tlearn: 0.0029045\ttotal: 752ms\tremaining: 17.6s\n",
      "41:\tlearn: 0.0027317\ttotal: 767ms\tremaining: 17.5s\n",
      "42:\tlearn: 0.0025485\ttotal: 783ms\tremaining: 17.4s\n",
      "43:\tlearn: 0.0024124\ttotal: 799ms\tremaining: 17.4s\n",
      "44:\tlearn: 0.0022922\ttotal: 815ms\tremaining: 17.3s\n",
      "45:\tlearn: 0.0021536\ttotal: 833ms\tremaining: 17.3s\n",
      "46:\tlearn: 0.0020425\ttotal: 849ms\tremaining: 17.2s\n",
      "47:\tlearn: 0.0019379\ttotal: 865ms\tremaining: 17.1s\n",
      "48:\tlearn: 0.0018538\ttotal: 880ms\tremaining: 17.1s\n",
      "49:\tlearn: 0.0017766\ttotal: 895ms\tremaining: 17s\n",
      "50:\tlearn: 0.0017069\ttotal: 915ms\tremaining: 17s\n",
      "51:\tlearn: 0.0016335\ttotal: 939ms\tremaining: 17.1s\n",
      "52:\tlearn: 0.0015732\ttotal: 954ms\tremaining: 17s\n",
      "53:\tlearn: 0.0015241\ttotal: 971ms\tremaining: 17s\n",
      "54:\tlearn: 0.0014531\ttotal: 987ms\tremaining: 16.9s\n",
      "55:\tlearn: 0.0014099\ttotal: 1s\tremaining: 16.9s\n",
      "56:\tlearn: 0.0013704\ttotal: 1.02s\tremaining: 16.8s\n",
      "57:\tlearn: 0.0013211\ttotal: 1.04s\tremaining: 16.9s\n",
      "58:\tlearn: 0.0012656\ttotal: 1.05s\tremaining: 16.8s\n",
      "59:\tlearn: 0.0012188\ttotal: 1.07s\tremaining: 16.8s\n",
      "60:\tlearn: 0.0011935\ttotal: 1.09s\tremaining: 16.7s\n",
      "61:\tlearn: 0.0011582\ttotal: 1.1s\tremaining: 16.7s\n",
      "62:\tlearn: 0.0011281\ttotal: 1.13s\tremaining: 16.8s\n",
      "63:\tlearn: 0.0010969\ttotal: 1.14s\tremaining: 16.7s\n",
      "64:\tlearn: 0.0010652\ttotal: 1.16s\tremaining: 16.7s\n",
      "65:\tlearn: 0.0010297\ttotal: 1.18s\tremaining: 16.7s\n",
      "66:\tlearn: 0.0010059\ttotal: 1.19s\tremaining: 16.6s\n",
      "67:\tlearn: 0.0009921\ttotal: 1.21s\tremaining: 16.6s\n",
      "68:\tlearn: 0.0009665\ttotal: 1.23s\tremaining: 16.5s\n",
      "69:\tlearn: 0.0009394\ttotal: 1.25s\tremaining: 16.5s\n",
      "70:\tlearn: 0.0009266\ttotal: 1.26s\tremaining: 16.5s\n",
      "71:\tlearn: 0.0009007\ttotal: 1.27s\tremaining: 16.4s\n",
      "72:\tlearn: 0.0008824\ttotal: 1.29s\tremaining: 16.4s\n",
      "73:\tlearn: 0.0008540\ttotal: 1.3s\tremaining: 16.3s\n",
      "74:\tlearn: 0.0008405\ttotal: 1.32s\tremaining: 16.3s\n",
      "75:\tlearn: 0.0008237\ttotal: 1.34s\tremaining: 16.3s\n",
      "76:\tlearn: 0.0008085\ttotal: 1.35s\tremaining: 16.2s\n",
      "77:\tlearn: 0.0007905\ttotal: 1.37s\tremaining: 16.2s\n",
      "78:\tlearn: 0.0007777\ttotal: 1.38s\tremaining: 16.1s\n",
      "79:\tlearn: 0.0007632\ttotal: 1.4s\tremaining: 16.1s\n",
      "80:\tlearn: 0.0007394\ttotal: 1.42s\tremaining: 16.1s\n",
      "81:\tlearn: 0.0007194\ttotal: 1.44s\tremaining: 16.1s\n",
      "82:\tlearn: 0.0006996\ttotal: 1.47s\tremaining: 16.2s\n",
      "83:\tlearn: 0.0006893\ttotal: 1.48s\tremaining: 16.2s\n",
      "84:\tlearn: 0.0006682\ttotal: 1.5s\tremaining: 16.1s\n",
      "85:\tlearn: 0.0006506\ttotal: 1.51s\tremaining: 16.1s\n",
      "86:\tlearn: 0.0006345\ttotal: 1.53s\tremaining: 16s\n",
      "87:\tlearn: 0.0006305\ttotal: 1.55s\tremaining: 16s\n",
      "88:\tlearn: 0.0006117\ttotal: 1.56s\tremaining: 16s\n",
      "89:\tlearn: 0.0006031\ttotal: 1.58s\tremaining: 16s\n",
      "90:\tlearn: 0.0006031\ttotal: 1.6s\tremaining: 15.9s\n",
      "91:\tlearn: 0.0005915\ttotal: 1.61s\tremaining: 15.9s\n",
      "92:\tlearn: 0.0005793\ttotal: 1.63s\tremaining: 15.9s\n",
      "93:\tlearn: 0.0005692\ttotal: 1.64s\tremaining: 15.8s\n",
      "94:\tlearn: 0.0005666\ttotal: 1.66s\tremaining: 15.8s\n",
      "95:\tlearn: 0.0005667\ttotal: 1.68s\tremaining: 15.8s\n",
      "96:\tlearn: 0.0005529\ttotal: 1.69s\tremaining: 15.7s\n",
      "97:\tlearn: 0.0005530\ttotal: 1.7s\tremaining: 15.7s\n",
      "98:\tlearn: 0.0005530\ttotal: 1.72s\tremaining: 15.6s\n",
      "99:\tlearn: 0.0005460\ttotal: 1.73s\tremaining: 15.6s\n",
      "100:\tlearn: 0.0005461\ttotal: 1.75s\tremaining: 15.6s\n",
      "101:\tlearn: 0.0005368\ttotal: 1.77s\tremaining: 15.6s\n",
      "102:\tlearn: 0.0005243\ttotal: 1.78s\tremaining: 15.5s\n",
      "103:\tlearn: 0.0005243\ttotal: 1.8s\tremaining: 15.5s\n",
      "104:\tlearn: 0.0005243\ttotal: 1.82s\tremaining: 15.5s\n",
      "105:\tlearn: 0.0005130\ttotal: 1.83s\tremaining: 15.5s\n",
      "106:\tlearn: 0.0005130\ttotal: 1.85s\tremaining: 15.4s\n",
      "107:\tlearn: 0.0005130\ttotal: 1.86s\tremaining: 15.4s\n",
      "108:\tlearn: 0.0005130\ttotal: 1.88s\tremaining: 15.4s\n",
      "109:\tlearn: 0.0005130\ttotal: 1.89s\tremaining: 15.3s\n",
      "110:\tlearn: 0.0005130\ttotal: 1.91s\tremaining: 15.3s\n",
      "111:\tlearn: 0.0005131\ttotal: 1.92s\tremaining: 15.2s\n",
      "112:\tlearn: 0.0005038\ttotal: 1.94s\tremaining: 15.2s\n",
      "113:\tlearn: 0.0005017\ttotal: 1.96s\tremaining: 15.2s\n",
      "114:\tlearn: 0.0004943\ttotal: 1.97s\tremaining: 15.2s\n",
      "115:\tlearn: 0.0004867\ttotal: 1.99s\tremaining: 15.1s\n",
      "116:\tlearn: 0.0004793\ttotal: 2s\tremaining: 15.1s\n",
      "117:\tlearn: 0.0004793\ttotal: 2.02s\tremaining: 15.1s\n",
      "118:\tlearn: 0.0004792\ttotal: 2.03s\tremaining: 15s\n",
      "119:\tlearn: 0.0004774\ttotal: 2.04s\tremaining: 15s\n",
      "120:\tlearn: 0.0004774\ttotal: 2.06s\tremaining: 15s\n",
      "121:\tlearn: 0.0004773\ttotal: 2.07s\tremaining: 14.9s\n",
      "122:\tlearn: 0.0004760\ttotal: 2.09s\tremaining: 14.9s\n",
      "123:\tlearn: 0.0004645\ttotal: 2.11s\tremaining: 14.9s\n",
      "124:\tlearn: 0.0004550\ttotal: 2.12s\tremaining: 14.9s\n",
      "125:\tlearn: 0.0004435\ttotal: 2.14s\tremaining: 14.9s\n",
      "126:\tlearn: 0.0004435\ttotal: 2.16s\tremaining: 14.9s\n",
      "127:\tlearn: 0.0004351\ttotal: 2.18s\tremaining: 14.8s\n",
      "128:\tlearn: 0.0004350\ttotal: 2.19s\tremaining: 14.8s\n",
      "129:\tlearn: 0.0004350\ttotal: 2.21s\tremaining: 14.8s\n",
      "130:\tlearn: 0.0004286\ttotal: 2.22s\tremaining: 14.7s\n",
      "131:\tlearn: 0.0004174\ttotal: 2.23s\tremaining: 14.7s\n",
      "132:\tlearn: 0.0004174\ttotal: 2.25s\tremaining: 14.7s\n",
      "133:\tlearn: 0.0004174\ttotal: 2.26s\tremaining: 14.6s\n",
      "134:\tlearn: 0.0004174\ttotal: 2.28s\tremaining: 14.6s\n",
      "135:\tlearn: 0.0004174\ttotal: 2.29s\tremaining: 14.6s\n",
      "136:\tlearn: 0.0004176\ttotal: 2.31s\tremaining: 14.5s\n",
      "137:\tlearn: 0.0004174\ttotal: 2.32s\tremaining: 14.5s\n",
      "138:\tlearn: 0.0004173\ttotal: 2.34s\tremaining: 14.5s\n",
      "139:\tlearn: 0.0004173\ttotal: 2.35s\tremaining: 14.4s\n",
      "140:\tlearn: 0.0004174\ttotal: 2.37s\tremaining: 14.4s\n",
      "141:\tlearn: 0.0004174\ttotal: 2.38s\tremaining: 14.4s\n",
      "142:\tlearn: 0.0004121\ttotal: 2.4s\tremaining: 14.4s\n",
      "143:\tlearn: 0.0004121\ttotal: 2.41s\tremaining: 14.3s\n",
      "144:\tlearn: 0.0004120\ttotal: 2.42s\tremaining: 14.3s\n",
      "145:\tlearn: 0.0004024\ttotal: 2.45s\tremaining: 14.3s\n",
      "146:\tlearn: 0.0004024\ttotal: 2.47s\tremaining: 14.3s\n",
      "147:\tlearn: 0.0004024\ttotal: 2.48s\tremaining: 14.3s\n",
      "148:\tlearn: 0.0004024\ttotal: 2.5s\tremaining: 14.3s\n",
      "149:\tlearn: 0.0004024\ttotal: 2.52s\tremaining: 14.3s\n",
      "150:\tlearn: 0.0004023\ttotal: 2.53s\tremaining: 14.2s\n",
      "151:\tlearn: 0.0004025\ttotal: 2.54s\tremaining: 14.2s\n",
      "152:\tlearn: 0.0003982\ttotal: 2.56s\tremaining: 14.2s\n",
      "153:\tlearn: 0.0003982\ttotal: 2.58s\tremaining: 14.2s\n",
      "154:\tlearn: 0.0003913\ttotal: 2.59s\tremaining: 14.1s\n",
      "155:\tlearn: 0.0003913\ttotal: 2.61s\tremaining: 14.1s\n",
      "156:\tlearn: 0.0003913\ttotal: 2.62s\tremaining: 14.1s\n",
      "157:\tlearn: 0.0003913\ttotal: 2.64s\tremaining: 14.1s\n",
      "158:\tlearn: 0.0003913\ttotal: 2.65s\tremaining: 14s\n",
      "159:\tlearn: 0.0003912\ttotal: 2.67s\tremaining: 14s\n",
      "160:\tlearn: 0.0003912\ttotal: 2.68s\tremaining: 14s\n",
      "161:\tlearn: 0.0003913\ttotal: 2.69s\tremaining: 13.9s\n",
      "162:\tlearn: 0.0003913\ttotal: 2.71s\tremaining: 13.9s\n",
      "163:\tlearn: 0.0003913\ttotal: 2.72s\tremaining: 13.9s\n",
      "164:\tlearn: 0.0003912\ttotal: 2.74s\tremaining: 13.9s\n",
      "165:\tlearn: 0.0003912\ttotal: 2.75s\tremaining: 13.8s\n",
      "166:\tlearn: 0.0003912\ttotal: 2.77s\tremaining: 13.8s\n",
      "167:\tlearn: 0.0003912\ttotal: 2.79s\tremaining: 13.8s\n",
      "168:\tlearn: 0.0003912\ttotal: 2.8s\tremaining: 13.8s\n",
      "169:\tlearn: 0.0003912\ttotal: 2.81s\tremaining: 13.7s\n",
      "170:\tlearn: 0.0003912\ttotal: 2.83s\tremaining: 13.7s\n",
      "171:\tlearn: 0.0003912\ttotal: 2.84s\tremaining: 13.7s\n",
      "172:\tlearn: 0.0003912\ttotal: 2.86s\tremaining: 13.7s\n",
      "173:\tlearn: 0.0003912\ttotal: 2.87s\tremaining: 13.6s\n",
      "174:\tlearn: 0.0003912\ttotal: 2.88s\tremaining: 13.6s\n",
      "175:\tlearn: 0.0003912\ttotal: 2.9s\tremaining: 13.6s\n",
      "176:\tlearn: 0.0003913\ttotal: 2.92s\tremaining: 13.6s\n",
      "177:\tlearn: 0.0003912\ttotal: 2.93s\tremaining: 13.5s\n",
      "178:\tlearn: 0.0003853\ttotal: 2.95s\tremaining: 13.5s\n",
      "179:\tlearn: 0.0003854\ttotal: 2.96s\tremaining: 13.5s\n",
      "180:\tlearn: 0.0003853\ttotal: 2.97s\tremaining: 13.5s\n",
      "181:\tlearn: 0.0003853\ttotal: 2.99s\tremaining: 13.4s\n",
      "182:\tlearn: 0.0003853\ttotal: 3s\tremaining: 13.4s\n",
      "183:\tlearn: 0.0003853\ttotal: 3.02s\tremaining: 13.4s\n",
      "184:\tlearn: 0.0003853\ttotal: 3.03s\tremaining: 13.4s\n",
      "185:\tlearn: 0.0003852\ttotal: 3.05s\tremaining: 13.3s\n",
      "186:\tlearn: 0.0003852\ttotal: 3.06s\tremaining: 13.3s\n",
      "187:\tlearn: 0.0003753\ttotal: 3.08s\tremaining: 13.3s\n",
      "188:\tlearn: 0.0003753\ttotal: 3.09s\tremaining: 13.3s\n",
      "189:\tlearn: 0.0003752\ttotal: 3.1s\tremaining: 13.2s\n",
      "190:\tlearn: 0.0003752\ttotal: 3.12s\tremaining: 13.2s\n",
      "191:\tlearn: 0.0003752\ttotal: 3.13s\tremaining: 13.2s\n",
      "192:\tlearn: 0.0003753\ttotal: 3.15s\tremaining: 13.2s\n",
      "193:\tlearn: 0.0003751\ttotal: 3.16s\tremaining: 13.1s\n",
      "194:\tlearn: 0.0003752\ttotal: 3.18s\tremaining: 13.1s\n",
      "195:\tlearn: 0.0003752\ttotal: 3.21s\tremaining: 13.2s\n",
      "196:\tlearn: 0.0003752\ttotal: 3.23s\tremaining: 13.2s\n",
      "197:\tlearn: 0.0003752\ttotal: 3.24s\tremaining: 13.1s\n",
      "198:\tlearn: 0.0003752\ttotal: 3.25s\tremaining: 13.1s\n",
      "199:\tlearn: 0.0003752\ttotal: 3.27s\tremaining: 13.1s\n",
      "200:\tlearn: 0.0003752\ttotal: 3.28s\tremaining: 13.1s\n",
      "201:\tlearn: 0.0003710\ttotal: 3.3s\tremaining: 13s\n",
      "202:\tlearn: 0.0003711\ttotal: 3.31s\tremaining: 13s\n",
      "203:\tlearn: 0.0003711\ttotal: 3.33s\tremaining: 13s\n",
      "204:\tlearn: 0.0003711\ttotal: 3.35s\tremaining: 13s\n",
      "205:\tlearn: 0.0003628\ttotal: 3.36s\tremaining: 13s\n",
      "206:\tlearn: 0.0003628\ttotal: 3.37s\tremaining: 12.9s\n",
      "207:\tlearn: 0.0003628\ttotal: 3.39s\tremaining: 12.9s\n",
      "208:\tlearn: 0.0003628\ttotal: 3.4s\tremaining: 12.9s\n",
      "209:\tlearn: 0.0003628\ttotal: 3.42s\tremaining: 12.9s\n",
      "210:\tlearn: 0.0003614\ttotal: 3.45s\tremaining: 12.9s\n",
      "211:\tlearn: 0.0003614\ttotal: 3.46s\tremaining: 12.9s\n",
      "212:\tlearn: 0.0003613\ttotal: 3.48s\tremaining: 12.8s\n",
      "213:\tlearn: 0.0003613\ttotal: 3.49s\tremaining: 12.8s\n",
      "214:\tlearn: 0.0003613\ttotal: 3.5s\tremaining: 12.8s\n",
      "215:\tlearn: 0.0003613\ttotal: 3.52s\tremaining: 12.8s\n",
      "216:\tlearn: 0.0003614\ttotal: 3.54s\tremaining: 12.8s\n",
      "217:\tlearn: 0.0003614\ttotal: 3.56s\tremaining: 12.8s\n",
      "218:\tlearn: 0.0003552\ttotal: 3.57s\tremaining: 12.7s\n",
      "219:\tlearn: 0.0003551\ttotal: 3.59s\tremaining: 12.7s\n",
      "220:\tlearn: 0.0003552\ttotal: 3.6s\tremaining: 12.7s\n",
      "221:\tlearn: 0.0003536\ttotal: 3.62s\tremaining: 12.7s\n",
      "222:\tlearn: 0.0003536\ttotal: 3.63s\tremaining: 12.7s\n",
      "223:\tlearn: 0.0003535\ttotal: 3.65s\tremaining: 12.6s\n",
      "224:\tlearn: 0.0003535\ttotal: 3.66s\tremaining: 12.6s\n",
      "225:\tlearn: 0.0003537\ttotal: 3.68s\tremaining: 12.6s\n",
      "226:\tlearn: 0.0003537\ttotal: 3.69s\tremaining: 12.6s\n",
      "227:\tlearn: 0.0003537\ttotal: 3.7s\tremaining: 12.5s\n",
      "228:\tlearn: 0.0003537\ttotal: 3.72s\tremaining: 12.5s\n",
      "229:\tlearn: 0.0003490\ttotal: 3.73s\tremaining: 12.5s\n",
      "230:\tlearn: 0.0003489\ttotal: 3.75s\tremaining: 12.5s\n",
      "231:\tlearn: 0.0003491\ttotal: 3.77s\tremaining: 12.5s\n",
      "232:\tlearn: 0.0003491\ttotal: 3.78s\tremaining: 12.4s\n",
      "233:\tlearn: 0.0003491\ttotal: 3.79s\tremaining: 12.4s\n",
      "234:\tlearn: 0.0003491\ttotal: 3.81s\tremaining: 12.4s\n",
      "235:\tlearn: 0.0003490\ttotal: 3.82s\tremaining: 12.4s\n",
      "236:\tlearn: 0.0003490\ttotal: 3.84s\tremaining: 12.4s\n",
      "237:\tlearn: 0.0003445\ttotal: 3.86s\tremaining: 12.3s\n",
      "238:\tlearn: 0.0003445\ttotal: 3.87s\tremaining: 12.3s\n",
      "239:\tlearn: 0.0003367\ttotal: 3.89s\tremaining: 12.3s\n",
      "240:\tlearn: 0.0003366\ttotal: 3.9s\tremaining: 12.3s\n",
      "241:\tlearn: 0.0003368\ttotal: 3.92s\tremaining: 12.3s\n",
      "242:\tlearn: 0.0003367\ttotal: 3.93s\tremaining: 12.3s\n",
      "243:\tlearn: 0.0003366\ttotal: 3.95s\tremaining: 12.2s\n",
      "244:\tlearn: 0.0003292\ttotal: 3.97s\tremaining: 12.2s\n",
      "245:\tlearn: 0.0003292\ttotal: 3.98s\tremaining: 12.2s\n",
      "246:\tlearn: 0.0003292\ttotal: 4s\tremaining: 12.2s\n",
      "247:\tlearn: 0.0003293\ttotal: 4.01s\tremaining: 12.2s\n",
      "248:\tlearn: 0.0003292\ttotal: 4.02s\tremaining: 12.1s\n",
      "249:\tlearn: 0.0003292\ttotal: 4.04s\tremaining: 12.1s\n",
      "250:\tlearn: 0.0003292\ttotal: 4.06s\tremaining: 12.1s\n",
      "251:\tlearn: 0.0003292\ttotal: 4.07s\tremaining: 12.1s\n",
      "252:\tlearn: 0.0003291\ttotal: 4.08s\tremaining: 12.1s\n",
      "253:\tlearn: 0.0003291\ttotal: 4.1s\tremaining: 12s\n",
      "254:\tlearn: 0.0003292\ttotal: 4.12s\tremaining: 12s\n",
      "255:\tlearn: 0.0003293\ttotal: 4.13s\tremaining: 12s\n",
      "256:\tlearn: 0.0003292\ttotal: 4.14s\tremaining: 12s\n",
      "257:\tlearn: 0.0003292\ttotal: 4.16s\tremaining: 12s\n",
      "258:\tlearn: 0.0003292\ttotal: 4.18s\tremaining: 11.9s\n",
      "259:\tlearn: 0.0003292\ttotal: 4.19s\tremaining: 11.9s\n",
      "260:\tlearn: 0.0003292\ttotal: 4.2s\tremaining: 11.9s\n",
      "261:\tlearn: 0.0003292\ttotal: 4.22s\tremaining: 11.9s\n",
      "262:\tlearn: 0.0003292\ttotal: 4.24s\tremaining: 11.9s\n",
      "263:\tlearn: 0.0003290\ttotal: 4.26s\tremaining: 11.9s\n",
      "264:\tlearn: 0.0003289\ttotal: 4.27s\tremaining: 11.8s\n",
      "265:\tlearn: 0.0003290\ttotal: 4.28s\tremaining: 11.8s\n",
      "266:\tlearn: 0.0003289\ttotal: 4.3s\tremaining: 11.8s\n",
      "267:\tlearn: 0.0003289\ttotal: 4.31s\tremaining: 11.8s\n",
      "268:\tlearn: 0.0003289\ttotal: 4.33s\tremaining: 11.8s\n",
      "269:\tlearn: 0.0003290\ttotal: 4.34s\tremaining: 11.7s\n",
      "270:\tlearn: 0.0003290\ttotal: 4.36s\tremaining: 11.7s\n",
      "271:\tlearn: 0.0003290\ttotal: 4.37s\tremaining: 11.7s\n",
      "272:\tlearn: 0.0003289\ttotal: 4.39s\tremaining: 11.7s\n",
      "273:\tlearn: 0.0003289\ttotal: 4.4s\tremaining: 11.7s\n",
      "274:\tlearn: 0.0003289\ttotal: 4.42s\tremaining: 11.6s\n",
      "275:\tlearn: 0.0003289\ttotal: 4.45s\tremaining: 11.7s\n",
      "276:\tlearn: 0.0003289\ttotal: 4.46s\tremaining: 11.6s\n",
      "277:\tlearn: 0.0003289\ttotal: 4.47s\tremaining: 11.6s\n",
      "278:\tlearn: 0.0003289\ttotal: 4.49s\tremaining: 11.6s\n",
      "279:\tlearn: 0.0003289\ttotal: 4.5s\tremaining: 11.6s\n",
      "280:\tlearn: 0.0003289\ttotal: 4.52s\tremaining: 11.6s\n",
      "281:\tlearn: 0.0003289\ttotal: 4.53s\tremaining: 11.5s\n",
      "282:\tlearn: 0.0003289\ttotal: 4.54s\tremaining: 11.5s\n",
      "283:\tlearn: 0.0003291\ttotal: 4.56s\tremaining: 11.5s\n",
      "284:\tlearn: 0.0003289\ttotal: 4.58s\tremaining: 11.5s\n",
      "285:\tlearn: 0.0003289\ttotal: 4.6s\tremaining: 11.5s\n",
      "286:\tlearn: 0.0003290\ttotal: 4.61s\tremaining: 11.5s\n",
      "287:\tlearn: 0.0003289\ttotal: 4.63s\tremaining: 11.4s\n",
      "288:\tlearn: 0.0003289\ttotal: 4.64s\tremaining: 11.4s\n",
      "289:\tlearn: 0.0003289\ttotal: 4.66s\tremaining: 11.4s\n",
      "290:\tlearn: 0.0003290\ttotal: 4.67s\tremaining: 11.4s\n",
      "291:\tlearn: 0.0003290\ttotal: 4.69s\tremaining: 11.4s\n",
      "292:\tlearn: 0.0003289\ttotal: 4.7s\tremaining: 11.3s\n",
      "293:\tlearn: 0.0003289\ttotal: 4.72s\tremaining: 11.3s\n",
      "294:\tlearn: 0.0003289\ttotal: 4.73s\tremaining: 11.3s\n",
      "295:\tlearn: 0.0003290\ttotal: 4.75s\tremaining: 11.3s\n",
      "296:\tlearn: 0.0003289\ttotal: 4.76s\tremaining: 11.3s\n",
      "297:\tlearn: 0.0003289\ttotal: 4.77s\tremaining: 11.2s\n",
      "298:\tlearn: 0.0003289\ttotal: 4.79s\tremaining: 11.2s\n",
      "299:\tlearn: 0.0003289\ttotal: 4.8s\tremaining: 11.2s\n",
      "300:\tlearn: 0.0003289\ttotal: 4.82s\tremaining: 11.2s\n",
      "301:\tlearn: 0.0003289\ttotal: 4.83s\tremaining: 11.2s\n",
      "302:\tlearn: 0.0003289\ttotal: 4.85s\tremaining: 11.2s\n",
      "303:\tlearn: 0.0003290\ttotal: 4.87s\tremaining: 11.1s\n",
      "304:\tlearn: 0.0003290\ttotal: 4.88s\tremaining: 11.1s\n",
      "305:\tlearn: 0.0003290\ttotal: 4.9s\tremaining: 11.1s\n",
      "306:\tlearn: 0.0003289\ttotal: 4.92s\tremaining: 11.1s\n",
      "307:\tlearn: 0.0003289\ttotal: 4.93s\tremaining: 11.1s\n",
      "308:\tlearn: 0.0003240\ttotal: 4.95s\tremaining: 11.1s\n",
      "309:\tlearn: 0.0003240\ttotal: 4.96s\tremaining: 11s\n",
      "310:\tlearn: 0.0003241\ttotal: 4.98s\tremaining: 11s\n",
      "311:\tlearn: 0.0003240\ttotal: 4.99s\tremaining: 11s\n",
      "312:\tlearn: 0.0003240\ttotal: 5.01s\tremaining: 11s\n",
      "313:\tlearn: 0.0003240\ttotal: 5.03s\tremaining: 11s\n",
      "314:\tlearn: 0.0003240\ttotal: 5.04s\tremaining: 11s\n",
      "315:\tlearn: 0.0003240\ttotal: 5.05s\tremaining: 10.9s\n",
      "316:\tlearn: 0.0003240\ttotal: 5.07s\tremaining: 10.9s\n",
      "317:\tlearn: 0.0003241\ttotal: 5.09s\tremaining: 10.9s\n",
      "318:\tlearn: 0.0003240\ttotal: 5.1s\tremaining: 10.9s\n",
      "319:\tlearn: 0.0003240\ttotal: 5.12s\tremaining: 10.9s\n",
      "320:\tlearn: 0.0003240\ttotal: 5.13s\tremaining: 10.9s\n",
      "321:\tlearn: 0.0003240\ttotal: 5.14s\tremaining: 10.8s\n",
      "322:\tlearn: 0.0003239\ttotal: 5.16s\tremaining: 10.8s\n",
      "323:\tlearn: 0.0003238\ttotal: 5.17s\tremaining: 10.8s\n",
      "324:\tlearn: 0.0003238\ttotal: 5.18s\tremaining: 10.8s\n",
      "325:\tlearn: 0.0003239\ttotal: 5.2s\tremaining: 10.7s\n",
      "326:\tlearn: 0.0003239\ttotal: 5.22s\tremaining: 10.7s\n",
      "327:\tlearn: 0.0003239\ttotal: 5.23s\tremaining: 10.7s\n",
      "328:\tlearn: 0.0003240\ttotal: 5.25s\tremaining: 10.7s\n",
      "329:\tlearn: 0.0003239\ttotal: 5.26s\tremaining: 10.7s\n",
      "330:\tlearn: 0.0003240\ttotal: 5.28s\tremaining: 10.7s\n",
      "331:\tlearn: 0.0003240\ttotal: 5.29s\tremaining: 10.7s\n",
      "332:\tlearn: 0.0003240\ttotal: 5.31s\tremaining: 10.6s\n",
      "333:\tlearn: 0.0003240\ttotal: 5.32s\tremaining: 10.6s\n",
      "334:\tlearn: 0.0003240\ttotal: 5.33s\tremaining: 10.6s\n",
      "335:\tlearn: 0.0003240\ttotal: 5.35s\tremaining: 10.6s\n",
      "336:\tlearn: 0.0003239\ttotal: 5.36s\tremaining: 10.6s\n",
      "337:\tlearn: 0.0003239\ttotal: 5.38s\tremaining: 10.5s\n",
      "338:\tlearn: 0.0003239\ttotal: 5.39s\tremaining: 10.5s\n",
      "339:\tlearn: 0.0003240\ttotal: 5.4s\tremaining: 10.5s\n",
      "340:\tlearn: 0.0003239\ttotal: 5.42s\tremaining: 10.5s\n",
      "341:\tlearn: 0.0003239\ttotal: 5.45s\tremaining: 10.5s\n",
      "342:\tlearn: 0.0003238\ttotal: 5.46s\tremaining: 10.5s\n",
      "343:\tlearn: 0.0003239\ttotal: 5.48s\tremaining: 10.5s\n",
      "344:\tlearn: 0.0003240\ttotal: 5.5s\tremaining: 10.4s\n",
      "345:\tlearn: 0.0003238\ttotal: 5.51s\tremaining: 10.4s\n",
      "346:\tlearn: 0.0003239\ttotal: 5.52s\tremaining: 10.4s\n",
      "347:\tlearn: 0.0003239\ttotal: 5.54s\tremaining: 10.4s\n",
      "348:\tlearn: 0.0003239\ttotal: 5.55s\tremaining: 10.4s\n",
      "349:\tlearn: 0.0003239\ttotal: 5.57s\tremaining: 10.3s\n",
      "350:\tlearn: 0.0003240\ttotal: 5.58s\tremaining: 10.3s\n",
      "351:\tlearn: 0.0003240\ttotal: 5.59s\tremaining: 10.3s\n",
      "352:\tlearn: 0.0003240\ttotal: 5.61s\tremaining: 10.3s\n",
      "353:\tlearn: 0.0003240\ttotal: 5.63s\tremaining: 10.3s\n",
      "354:\tlearn: 0.0003240\ttotal: 5.64s\tremaining: 10.3s\n",
      "355:\tlearn: 0.0003240\ttotal: 5.66s\tremaining: 10.2s\n",
      "356:\tlearn: 0.0003239\ttotal: 5.67s\tremaining: 10.2s\n",
      "357:\tlearn: 0.0003239\ttotal: 5.69s\tremaining: 10.2s\n",
      "358:\tlearn: 0.0003238\ttotal: 5.7s\tremaining: 10.2s\n",
      "359:\tlearn: 0.0003239\ttotal: 5.72s\tremaining: 10.2s\n",
      "360:\tlearn: 0.0003238\ttotal: 5.73s\tremaining: 10.1s\n",
      "361:\tlearn: 0.0003239\ttotal: 5.75s\tremaining: 10.1s\n",
      "362:\tlearn: 0.0003238\ttotal: 5.76s\tremaining: 10.1s\n",
      "363:\tlearn: 0.0003239\ttotal: 5.77s\tremaining: 10.1s\n",
      "364:\tlearn: 0.0003238\ttotal: 5.79s\tremaining: 10.1s\n",
      "365:\tlearn: 0.0003239\ttotal: 5.8s\tremaining: 10.1s\n",
      "366:\tlearn: 0.0003238\ttotal: 5.82s\tremaining: 10s\n",
      "367:\tlearn: 0.0003238\ttotal: 5.83s\tremaining: 10s\n",
      "368:\tlearn: 0.0003239\ttotal: 5.85s\tremaining: 10s\n",
      "369:\tlearn: 0.0003238\ttotal: 5.86s\tremaining: 9.98s\n",
      "370:\tlearn: 0.0003238\ttotal: 5.88s\tremaining: 9.96s\n",
      "371:\tlearn: 0.0003238\ttotal: 5.89s\tremaining: 9.95s\n",
      "372:\tlearn: 0.0003239\ttotal: 5.91s\tremaining: 9.93s\n",
      "373:\tlearn: 0.0003239\ttotal: 5.92s\tremaining: 9.91s\n",
      "374:\tlearn: 0.0003238\ttotal: 5.94s\tremaining: 9.89s\n",
      "375:\tlearn: 0.0003239\ttotal: 5.95s\tremaining: 9.88s\n",
      "376:\tlearn: 0.0003238\ttotal: 5.96s\tremaining: 9.86s\n",
      "377:\tlearn: 0.0003239\ttotal: 5.98s\tremaining: 9.84s\n",
      "378:\tlearn: 0.0003238\ttotal: 5.99s\tremaining: 9.82s\n",
      "379:\tlearn: 0.0003239\ttotal: 6.01s\tremaining: 9.81s\n",
      "380:\tlearn: 0.0003240\ttotal: 6.03s\tremaining: 9.79s\n",
      "381:\tlearn: 0.0003238\ttotal: 6.05s\tremaining: 9.79s\n",
      "382:\tlearn: 0.0003238\ttotal: 6.06s\tremaining: 9.77s\n",
      "383:\tlearn: 0.0003237\ttotal: 6.08s\tremaining: 9.75s\n",
      "384:\tlearn: 0.0003237\ttotal: 6.09s\tremaining: 9.73s\n",
      "385:\tlearn: 0.0003237\ttotal: 6.11s\tremaining: 9.72s\n",
      "386:\tlearn: 0.0003237\ttotal: 6.12s\tremaining: 9.7s\n",
      "387:\tlearn: 0.0003238\ttotal: 6.14s\tremaining: 9.68s\n",
      "388:\tlearn: 0.0003237\ttotal: 6.15s\tremaining: 9.66s\n",
      "389:\tlearn: 0.0003238\ttotal: 6.17s\tremaining: 9.65s\n",
      "390:\tlearn: 0.0003238\ttotal: 6.18s\tremaining: 9.63s\n",
      "391:\tlearn: 0.0003239\ttotal: 6.2s\tremaining: 9.61s\n",
      "392:\tlearn: 0.0003238\ttotal: 6.21s\tremaining: 9.59s\n",
      "393:\tlearn: 0.0003238\ttotal: 6.22s\tremaining: 9.57s\n",
      "394:\tlearn: 0.0003238\ttotal: 6.24s\tremaining: 9.55s\n",
      "395:\tlearn: 0.0003238\ttotal: 6.25s\tremaining: 9.54s\n",
      "396:\tlearn: 0.0003237\ttotal: 6.27s\tremaining: 9.52s\n",
      "397:\tlearn: 0.0003237\ttotal: 6.28s\tremaining: 9.51s\n",
      "398:\tlearn: 0.0003238\ttotal: 6.3s\tremaining: 9.49s\n",
      "399:\tlearn: 0.0003237\ttotal: 6.31s\tremaining: 9.47s\n",
      "400:\tlearn: 0.0003238\ttotal: 6.33s\tremaining: 9.46s\n",
      "401:\tlearn: 0.0003237\ttotal: 6.34s\tremaining: 9.44s\n",
      "402:\tlearn: 0.0003238\ttotal: 6.36s\tremaining: 9.42s\n",
      "403:\tlearn: 0.0003237\ttotal: 6.38s\tremaining: 9.4s\n",
      "404:\tlearn: 0.0003237\ttotal: 6.39s\tremaining: 9.39s\n",
      "405:\tlearn: 0.0003238\ttotal: 6.4s\tremaining: 9.37s\n",
      "406:\tlearn: 0.0003236\ttotal: 6.42s\tremaining: 9.35s\n",
      "407:\tlearn: 0.0003237\ttotal: 6.45s\tremaining: 9.35s\n",
      "408:\tlearn: 0.0003237\ttotal: 6.46s\tremaining: 9.34s\n",
      "409:\tlearn: 0.0003237\ttotal: 6.48s\tremaining: 9.32s\n",
      "410:\tlearn: 0.0003237\ttotal: 6.49s\tremaining: 9.3s\n",
      "411:\tlearn: 0.0003237\ttotal: 6.51s\tremaining: 9.29s\n",
      "412:\tlearn: 0.0003237\ttotal: 6.52s\tremaining: 9.27s\n",
      "413:\tlearn: 0.0003237\ttotal: 6.54s\tremaining: 9.26s\n",
      "414:\tlearn: 0.0003237\ttotal: 6.55s\tremaining: 9.24s\n",
      "415:\tlearn: 0.0003237\ttotal: 6.57s\tremaining: 9.22s\n",
      "416:\tlearn: 0.0003235\ttotal: 6.58s\tremaining: 9.2s\n",
      "417:\tlearn: 0.0003236\ttotal: 6.59s\tremaining: 9.18s\n",
      "418:\tlearn: 0.0003236\ttotal: 6.61s\tremaining: 9.17s\n",
      "419:\tlearn: 0.0003237\ttotal: 6.63s\tremaining: 9.15s\n",
      "420:\tlearn: 0.0003236\ttotal: 6.64s\tremaining: 9.13s\n",
      "421:\tlearn: 0.0003237\ttotal: 6.65s\tremaining: 9.11s\n",
      "422:\tlearn: 0.0003236\ttotal: 6.67s\tremaining: 9.1s\n",
      "423:\tlearn: 0.0003237\ttotal: 6.69s\tremaining: 9.08s\n",
      "424:\tlearn: 0.0003236\ttotal: 6.7s\tremaining: 9.07s\n",
      "425:\tlearn: 0.0003237\ttotal: 6.71s\tremaining: 9.05s\n",
      "426:\tlearn: 0.0003237\ttotal: 6.74s\tremaining: 9.04s\n",
      "427:\tlearn: 0.0003235\ttotal: 6.75s\tremaining: 9.03s\n",
      "428:\tlearn: 0.0003236\ttotal: 6.77s\tremaining: 9.01s\n",
      "429:\tlearn: 0.0003237\ttotal: 6.78s\tremaining: 8.99s\n",
      "430:\tlearn: 0.0003236\ttotal: 6.79s\tremaining: 8.97s\n",
      "431:\tlearn: 0.0003236\ttotal: 6.81s\tremaining: 8.95s\n",
      "432:\tlearn: 0.0003235\ttotal: 6.82s\tremaining: 8.93s\n",
      "433:\tlearn: 0.0003236\ttotal: 6.84s\tremaining: 8.92s\n",
      "434:\tlearn: 0.0003235\ttotal: 6.85s\tremaining: 8.9s\n",
      "435:\tlearn: 0.0003237\ttotal: 6.86s\tremaining: 8.88s\n",
      "436:\tlearn: 0.0003235\ttotal: 6.88s\tremaining: 8.87s\n",
      "437:\tlearn: 0.0003236\ttotal: 6.9s\tremaining: 8.85s\n",
      "438:\tlearn: 0.0003236\ttotal: 6.91s\tremaining: 8.83s\n",
      "439:\tlearn: 0.0003235\ttotal: 6.92s\tremaining: 8.81s\n",
      "440:\tlearn: 0.0003235\ttotal: 6.94s\tremaining: 8.8s\n",
      "441:\tlearn: 0.0003235\ttotal: 6.96s\tremaining: 8.78s\n",
      "442:\tlearn: 0.0003236\ttotal: 6.97s\tremaining: 8.77s\n",
      "443:\tlearn: 0.0003236\ttotal: 6.99s\tremaining: 8.75s\n",
      "444:\tlearn: 0.0003236\ttotal: 7s\tremaining: 8.73s\n",
      "445:\tlearn: 0.0003235\ttotal: 7.01s\tremaining: 8.71s\n",
      "446:\tlearn: 0.0003235\ttotal: 7.03s\tremaining: 8.7s\n",
      "447:\tlearn: 0.0003236\ttotal: 7.04s\tremaining: 8.68s\n",
      "448:\tlearn: 0.0003236\ttotal: 7.06s\tremaining: 8.66s\n",
      "449:\tlearn: 0.0003236\ttotal: 7.07s\tremaining: 8.64s\n",
      "450:\tlearn: 0.0003235\ttotal: 7.09s\tremaining: 8.63s\n",
      "451:\tlearn: 0.0003235\ttotal: 7.11s\tremaining: 8.62s\n",
      "452:\tlearn: 0.0003235\ttotal: 7.12s\tremaining: 8.6s\n",
      "453:\tlearn: 0.0003235\ttotal: 7.14s\tremaining: 8.58s\n",
      "454:\tlearn: 0.0003235\ttotal: 7.15s\tremaining: 8.57s\n",
      "455:\tlearn: 0.0003235\ttotal: 7.17s\tremaining: 8.55s\n",
      "456:\tlearn: 0.0003235\ttotal: 7.18s\tremaining: 8.54s\n",
      "457:\tlearn: 0.0003234\ttotal: 7.2s\tremaining: 8.52s\n",
      "458:\tlearn: 0.0003234\ttotal: 7.21s\tremaining: 8.5s\n",
      "459:\tlearn: 0.0003234\ttotal: 7.22s\tremaining: 8.48s\n",
      "460:\tlearn: 0.0003235\ttotal: 7.24s\tremaining: 8.46s\n",
      "461:\tlearn: 0.0003234\ttotal: 7.25s\tremaining: 8.45s\n",
      "462:\tlearn: 0.0003235\ttotal: 7.27s\tremaining: 8.43s\n",
      "463:\tlearn: 0.0003235\ttotal: 7.28s\tremaining: 8.41s\n",
      "464:\tlearn: 0.0003235\ttotal: 7.3s\tremaining: 8.4s\n",
      "465:\tlearn: 0.0003234\ttotal: 7.31s\tremaining: 8.38s\n",
      "466:\tlearn: 0.0003234\ttotal: 7.33s\tremaining: 8.36s\n",
      "467:\tlearn: 0.0003234\ttotal: 7.34s\tremaining: 8.35s\n",
      "468:\tlearn: 0.0003234\ttotal: 7.36s\tremaining: 8.33s\n",
      "469:\tlearn: 0.0003235\ttotal: 7.37s\tremaining: 8.31s\n",
      "470:\tlearn: 0.0003235\ttotal: 7.39s\tremaining: 8.3s\n",
      "471:\tlearn: 0.0003234\ttotal: 7.4s\tremaining: 8.28s\n",
      "472:\tlearn: 0.0003234\ttotal: 7.42s\tremaining: 8.26s\n",
      "473:\tlearn: 0.0003234\ttotal: 7.44s\tremaining: 8.26s\n",
      "474:\tlearn: 0.0003234\ttotal: 7.45s\tremaining: 8.24s\n",
      "475:\tlearn: 0.0003234\ttotal: 7.47s\tremaining: 8.22s\n",
      "476:\tlearn: 0.0003234\ttotal: 7.49s\tremaining: 8.21s\n",
      "477:\tlearn: 0.0003233\ttotal: 7.5s\tremaining: 8.2s\n",
      "478:\tlearn: 0.0003235\ttotal: 7.52s\tremaining: 8.18s\n",
      "479:\tlearn: 0.0003234\ttotal: 7.53s\tremaining: 8.16s\n",
      "480:\tlearn: 0.0003233\ttotal: 7.55s\tremaining: 8.14s\n",
      "481:\tlearn: 0.0003233\ttotal: 7.56s\tremaining: 8.13s\n",
      "482:\tlearn: 0.0003233\ttotal: 7.58s\tremaining: 8.11s\n",
      "483:\tlearn: 0.0003233\ttotal: 7.59s\tremaining: 8.09s\n",
      "484:\tlearn: 0.0003233\ttotal: 7.61s\tremaining: 8.08s\n",
      "485:\tlearn: 0.0003233\ttotal: 7.62s\tremaining: 8.06s\n",
      "486:\tlearn: 0.0003233\ttotal: 7.63s\tremaining: 8.04s\n",
      "487:\tlearn: 0.0003233\ttotal: 7.65s\tremaining: 8.02s\n",
      "488:\tlearn: 0.0003233\ttotal: 7.66s\tremaining: 8.01s\n",
      "489:\tlearn: 0.0003233\ttotal: 7.67s\tremaining: 7.99s\n",
      "490:\tlearn: 0.0003233\ttotal: 7.69s\tremaining: 7.97s\n",
      "491:\tlearn: 0.0003233\ttotal: 7.7s\tremaining: 7.96s\n",
      "492:\tlearn: 0.0003233\ttotal: 7.72s\tremaining: 7.94s\n",
      "493:\tlearn: 0.0003233\ttotal: 7.73s\tremaining: 7.92s\n",
      "494:\tlearn: 0.0003233\ttotal: 7.75s\tremaining: 7.91s\n",
      "495:\tlearn: 0.0003233\ttotal: 7.76s\tremaining: 7.89s\n",
      "496:\tlearn: 0.0003233\ttotal: 7.78s\tremaining: 7.87s\n",
      "497:\tlearn: 0.0003233\ttotal: 7.79s\tremaining: 7.86s\n",
      "498:\tlearn: 0.0003233\ttotal: 7.81s\tremaining: 7.84s\n",
      "499:\tlearn: 0.0003233\ttotal: 7.83s\tremaining: 7.83s\n",
      "500:\tlearn: 0.0003233\ttotal: 7.84s\tremaining: 7.81s\n",
      "501:\tlearn: 0.0003233\ttotal: 7.85s\tremaining: 7.79s\n",
      "502:\tlearn: 0.0003233\ttotal: 7.87s\tremaining: 7.77s\n",
      "503:\tlearn: 0.0003233\ttotal: 7.88s\tremaining: 7.75s\n",
      "504:\tlearn: 0.0003233\ttotal: 7.89s\tremaining: 7.74s\n",
      "505:\tlearn: 0.0003233\ttotal: 7.91s\tremaining: 7.72s\n",
      "506:\tlearn: 0.0003233\ttotal: 7.93s\tremaining: 7.71s\n",
      "507:\tlearn: 0.0003233\ttotal: 7.94s\tremaining: 7.69s\n",
      "508:\tlearn: 0.0003233\ttotal: 7.96s\tremaining: 7.67s\n",
      "509:\tlearn: 0.0003233\ttotal: 7.97s\tremaining: 7.66s\n",
      "510:\tlearn: 0.0003233\ttotal: 7.99s\tremaining: 7.65s\n",
      "511:\tlearn: 0.0003233\ttotal: 8s\tremaining: 7.63s\n",
      "512:\tlearn: 0.0003233\ttotal: 8.02s\tremaining: 7.61s\n",
      "513:\tlearn: 0.0003233\ttotal: 8.03s\tremaining: 7.59s\n",
      "514:\tlearn: 0.0003233\ttotal: 8.04s\tremaining: 7.58s\n",
      "515:\tlearn: 0.0003233\ttotal: 8.06s\tremaining: 7.56s\n",
      "516:\tlearn: 0.0003233\ttotal: 8.07s\tremaining: 7.54s\n",
      "517:\tlearn: 0.0003233\ttotal: 8.09s\tremaining: 7.52s\n",
      "518:\tlearn: 0.0003233\ttotal: 8.1s\tremaining: 7.5s\n",
      "519:\tlearn: 0.0003233\ttotal: 8.12s\tremaining: 7.49s\n",
      "520:\tlearn: 0.0003233\ttotal: 8.13s\tremaining: 7.47s\n",
      "521:\tlearn: 0.0003233\ttotal: 8.14s\tremaining: 7.46s\n",
      "522:\tlearn: 0.0003233\ttotal: 8.16s\tremaining: 7.44s\n",
      "523:\tlearn: 0.0003233\ttotal: 8.17s\tremaining: 7.42s\n",
      "524:\tlearn: 0.0003233\ttotal: 8.19s\tremaining: 7.41s\n",
      "525:\tlearn: 0.0003233\ttotal: 8.21s\tremaining: 7.4s\n",
      "526:\tlearn: 0.0003233\ttotal: 8.22s\tremaining: 7.38s\n",
      "527:\tlearn: 0.0003233\ttotal: 8.23s\tremaining: 7.36s\n",
      "528:\tlearn: 0.0003233\ttotal: 8.25s\tremaining: 7.34s\n",
      "529:\tlearn: 0.0003233\ttotal: 8.26s\tremaining: 7.33s\n",
      "530:\tlearn: 0.0003233\ttotal: 8.28s\tremaining: 7.31s\n",
      "531:\tlearn: 0.0003233\ttotal: 8.29s\tremaining: 7.29s\n",
      "532:\tlearn: 0.0003233\ttotal: 8.3s\tremaining: 7.28s\n",
      "533:\tlearn: 0.0003233\ttotal: 8.32s\tremaining: 7.26s\n",
      "534:\tlearn: 0.0003233\ttotal: 8.34s\tremaining: 7.24s\n",
      "535:\tlearn: 0.0003233\ttotal: 8.35s\tremaining: 7.23s\n",
      "536:\tlearn: 0.0003233\ttotal: 8.36s\tremaining: 7.21s\n",
      "537:\tlearn: 0.0003233\ttotal: 8.38s\tremaining: 7.2s\n",
      "538:\tlearn: 0.0003233\ttotal: 8.39s\tremaining: 7.18s\n",
      "539:\tlearn: 0.0003233\ttotal: 8.41s\tremaining: 7.16s\n",
      "540:\tlearn: 0.0003233\ttotal: 8.44s\tremaining: 7.16s\n",
      "541:\tlearn: 0.0003233\ttotal: 8.45s\tremaining: 7.14s\n",
      "542:\tlearn: 0.0003233\ttotal: 8.46s\tremaining: 7.12s\n",
      "543:\tlearn: 0.0003233\ttotal: 8.48s\tremaining: 7.11s\n",
      "544:\tlearn: 0.0003233\ttotal: 8.49s\tremaining: 7.09s\n",
      "545:\tlearn: 0.0003233\ttotal: 8.51s\tremaining: 7.07s\n",
      "546:\tlearn: 0.0003233\ttotal: 8.52s\tremaining: 7.06s\n",
      "547:\tlearn: 0.0003233\ttotal: 8.54s\tremaining: 7.05s\n",
      "548:\tlearn: 0.0003233\ttotal: 8.56s\tremaining: 7.03s\n",
      "549:\tlearn: 0.0003233\ttotal: 8.57s\tremaining: 7.01s\n",
      "550:\tlearn: 0.0003233\ttotal: 8.59s\tremaining: 7s\n",
      "551:\tlearn: 0.0003233\ttotal: 8.61s\tremaining: 6.99s\n",
      "552:\tlearn: 0.0003233\ttotal: 8.62s\tremaining: 6.97s\n",
      "553:\tlearn: 0.0003233\ttotal: 8.63s\tremaining: 6.95s\n",
      "554:\tlearn: 0.0003233\ttotal: 8.65s\tremaining: 6.93s\n",
      "555:\tlearn: 0.0003233\ttotal: 8.66s\tremaining: 6.92s\n",
      "556:\tlearn: 0.0003233\ttotal: 8.68s\tremaining: 6.9s\n",
      "557:\tlearn: 0.0003233\ttotal: 8.69s\tremaining: 6.88s\n",
      "558:\tlearn: 0.0003233\ttotal: 8.7s\tremaining: 6.87s\n",
      "559:\tlearn: 0.0003233\ttotal: 8.72s\tremaining: 6.85s\n",
      "560:\tlearn: 0.0003233\ttotal: 8.74s\tremaining: 6.84s\n",
      "561:\tlearn: 0.0003233\ttotal: 8.75s\tremaining: 6.82s\n",
      "562:\tlearn: 0.0003233\ttotal: 8.76s\tremaining: 6.8s\n",
      "563:\tlearn: 0.0003233\ttotal: 8.78s\tremaining: 6.79s\n",
      "564:\tlearn: 0.0003233\ttotal: 8.79s\tremaining: 6.77s\n",
      "565:\tlearn: 0.0003233\ttotal: 8.81s\tremaining: 6.76s\n",
      "566:\tlearn: 0.0003233\ttotal: 8.82s\tremaining: 6.74s\n",
      "567:\tlearn: 0.0003233\ttotal: 8.84s\tremaining: 6.72s\n",
      "568:\tlearn: 0.0003233\ttotal: 8.85s\tremaining: 6.71s\n",
      "569:\tlearn: 0.0003233\ttotal: 8.87s\tremaining: 6.69s\n",
      "570:\tlearn: 0.0003233\ttotal: 8.88s\tremaining: 6.67s\n",
      "571:\tlearn: 0.0003233\ttotal: 8.89s\tremaining: 6.66s\n",
      "572:\tlearn: 0.0003233\ttotal: 8.91s\tremaining: 6.64s\n",
      "573:\tlearn: 0.0003233\ttotal: 8.92s\tremaining: 6.62s\n",
      "574:\tlearn: 0.0003233\ttotal: 8.94s\tremaining: 6.61s\n",
      "575:\tlearn: 0.0003233\ttotal: 8.96s\tremaining: 6.59s\n",
      "576:\tlearn: 0.0003233\ttotal: 8.97s\tremaining: 6.58s\n",
      "577:\tlearn: 0.0003233\ttotal: 8.99s\tremaining: 6.56s\n",
      "578:\tlearn: 0.0003233\ttotal: 9.01s\tremaining: 6.55s\n",
      "579:\tlearn: 0.0003233\ttotal: 9.02s\tremaining: 6.53s\n",
      "580:\tlearn: 0.0003233\ttotal: 9.03s\tremaining: 6.51s\n",
      "581:\tlearn: 0.0003233\ttotal: 9.05s\tremaining: 6.5s\n",
      "582:\tlearn: 0.0003233\ttotal: 9.06s\tremaining: 6.48s\n",
      "583:\tlearn: 0.0003233\ttotal: 9.07s\tremaining: 6.46s\n",
      "584:\tlearn: 0.0003233\ttotal: 9.09s\tremaining: 6.45s\n",
      "585:\tlearn: 0.0003233\ttotal: 9.1s\tremaining: 6.43s\n",
      "586:\tlearn: 0.0003233\ttotal: 9.12s\tremaining: 6.41s\n",
      "587:\tlearn: 0.0003233\ttotal: 9.13s\tremaining: 6.4s\n",
      "588:\tlearn: 0.0003233\ttotal: 9.15s\tremaining: 6.38s\n",
      "589:\tlearn: 0.0003233\ttotal: 9.16s\tremaining: 6.37s\n",
      "590:\tlearn: 0.0003233\ttotal: 9.18s\tremaining: 6.35s\n",
      "591:\tlearn: 0.0003233\ttotal: 9.19s\tremaining: 6.33s\n",
      "592:\tlearn: 0.0003233\ttotal: 9.2s\tremaining: 6.32s\n",
      "593:\tlearn: 0.0003233\ttotal: 9.22s\tremaining: 6.3s\n",
      "594:\tlearn: 0.0003233\ttotal: 9.23s\tremaining: 6.29s\n",
      "595:\tlearn: 0.0003233\ttotal: 9.25s\tremaining: 6.27s\n",
      "596:\tlearn: 0.0003233\ttotal: 9.26s\tremaining: 6.25s\n",
      "597:\tlearn: 0.0003233\ttotal: 9.28s\tremaining: 6.24s\n",
      "598:\tlearn: 0.0003233\ttotal: 9.29s\tremaining: 6.22s\n",
      "599:\tlearn: 0.0003233\ttotal: 9.31s\tremaining: 6.21s\n",
      "600:\tlearn: 0.0003233\ttotal: 9.32s\tremaining: 6.19s\n",
      "601:\tlearn: 0.0003233\ttotal: 9.34s\tremaining: 6.17s\n",
      "602:\tlearn: 0.0003233\ttotal: 9.36s\tremaining: 6.16s\n",
      "603:\tlearn: 0.0003233\ttotal: 9.37s\tremaining: 6.14s\n",
      "604:\tlearn: 0.0003233\ttotal: 9.38s\tremaining: 6.13s\n",
      "605:\tlearn: 0.0003233\ttotal: 9.4s\tremaining: 6.11s\n",
      "606:\tlearn: 0.0003233\ttotal: 9.43s\tremaining: 6.1s\n",
      "607:\tlearn: 0.0003233\ttotal: 9.44s\tremaining: 6.09s\n",
      "608:\tlearn: 0.0003233\ttotal: 9.46s\tremaining: 6.07s\n",
      "609:\tlearn: 0.0003233\ttotal: 9.47s\tremaining: 6.05s\n",
      "610:\tlearn: 0.0003233\ttotal: 9.48s\tremaining: 6.04s\n",
      "611:\tlearn: 0.0003233\ttotal: 9.5s\tremaining: 6.02s\n",
      "612:\tlearn: 0.0003233\ttotal: 9.51s\tremaining: 6s\n",
      "613:\tlearn: 0.0003233\ttotal: 9.53s\tremaining: 5.99s\n",
      "614:\tlearn: 0.0003233\ttotal: 9.54s\tremaining: 5.97s\n",
      "615:\tlearn: 0.0003233\ttotal: 9.56s\tremaining: 5.96s\n",
      "616:\tlearn: 0.0003233\ttotal: 9.57s\tremaining: 5.94s\n",
      "617:\tlearn: 0.0003233\ttotal: 9.59s\tremaining: 5.92s\n",
      "618:\tlearn: 0.0003233\ttotal: 9.6s\tremaining: 5.91s\n",
      "619:\tlearn: 0.0003233\ttotal: 9.61s\tremaining: 5.89s\n",
      "620:\tlearn: 0.0003233\ttotal: 9.63s\tremaining: 5.88s\n",
      "621:\tlearn: 0.0003233\ttotal: 9.65s\tremaining: 5.87s\n",
      "622:\tlearn: 0.0003233\ttotal: 9.67s\tremaining: 5.85s\n",
      "623:\tlearn: 0.0003233\ttotal: 9.68s\tremaining: 5.83s\n",
      "624:\tlearn: 0.0003233\ttotal: 9.69s\tremaining: 5.82s\n",
      "625:\tlearn: 0.0003233\ttotal: 9.71s\tremaining: 5.8s\n",
      "626:\tlearn: 0.0003233\ttotal: 9.72s\tremaining: 5.78s\n",
      "627:\tlearn: 0.0003233\ttotal: 9.73s\tremaining: 5.77s\n",
      "628:\tlearn: 0.0003233\ttotal: 9.75s\tremaining: 5.75s\n",
      "629:\tlearn: 0.0003233\ttotal: 9.77s\tremaining: 5.74s\n",
      "630:\tlearn: 0.0003233\ttotal: 9.78s\tremaining: 5.72s\n",
      "631:\tlearn: 0.0003233\ttotal: 9.79s\tremaining: 5.7s\n",
      "632:\tlearn: 0.0003233\ttotal: 9.81s\tremaining: 5.69s\n",
      "633:\tlearn: 0.0003233\ttotal: 9.82s\tremaining: 5.67s\n",
      "634:\tlearn: 0.0003233\ttotal: 9.84s\tremaining: 5.66s\n",
      "635:\tlearn: 0.0003233\ttotal: 9.86s\tremaining: 5.64s\n",
      "636:\tlearn: 0.0003233\ttotal: 9.87s\tremaining: 5.62s\n",
      "637:\tlearn: 0.0003233\ttotal: 9.88s\tremaining: 5.61s\n",
      "638:\tlearn: 0.0003233\ttotal: 9.9s\tremaining: 5.59s\n",
      "639:\tlearn: 0.0003233\ttotal: 9.91s\tremaining: 5.57s\n",
      "640:\tlearn: 0.0003233\ttotal: 9.92s\tremaining: 5.56s\n",
      "641:\tlearn: 0.0003233\ttotal: 9.94s\tremaining: 5.54s\n",
      "642:\tlearn: 0.0003233\ttotal: 9.95s\tremaining: 5.53s\n",
      "643:\tlearn: 0.0003233\ttotal: 9.97s\tremaining: 5.51s\n",
      "644:\tlearn: 0.0003233\ttotal: 9.99s\tremaining: 5.5s\n",
      "645:\tlearn: 0.0003233\ttotal: 10s\tremaining: 5.48s\n",
      "646:\tlearn: 0.0003233\ttotal: 10s\tremaining: 5.46s\n",
      "647:\tlearn: 0.0003233\ttotal: 10s\tremaining: 5.45s\n",
      "648:\tlearn: 0.0003233\ttotal: 10.1s\tremaining: 5.43s\n",
      "649:\tlearn: 0.0003233\ttotal: 10.1s\tremaining: 5.42s\n",
      "650:\tlearn: 0.0003233\ttotal: 10.1s\tremaining: 5.4s\n",
      "651:\tlearn: 0.0003233\ttotal: 10.1s\tremaining: 5.39s\n",
      "652:\tlearn: 0.0003233\ttotal: 10.1s\tremaining: 5.37s\n",
      "653:\tlearn: 0.0003233\ttotal: 10.1s\tremaining: 5.35s\n",
      "654:\tlearn: 0.0003233\ttotal: 10.1s\tremaining: 5.34s\n",
      "655:\tlearn: 0.0003233\ttotal: 10.1s\tremaining: 5.32s\n",
      "656:\tlearn: 0.0003233\ttotal: 10.2s\tremaining: 5.3s\n",
      "657:\tlearn: 0.0003233\ttotal: 10.2s\tremaining: 5.29s\n",
      "658:\tlearn: 0.0003233\ttotal: 10.2s\tremaining: 5.27s\n",
      "659:\tlearn: 0.0003233\ttotal: 10.2s\tremaining: 5.26s\n",
      "660:\tlearn: 0.0003233\ttotal: 10.2s\tremaining: 5.24s\n",
      "661:\tlearn: 0.0003233\ttotal: 10.2s\tremaining: 5.22s\n",
      "662:\tlearn: 0.0003233\ttotal: 10.3s\tremaining: 5.21s\n",
      "663:\tlearn: 0.0003233\ttotal: 10.3s\tremaining: 5.2s\n",
      "664:\tlearn: 0.0003233\ttotal: 10.3s\tremaining: 5.18s\n",
      "665:\tlearn: 0.0003233\ttotal: 10.3s\tremaining: 5.16s\n",
      "666:\tlearn: 0.0003233\ttotal: 10.3s\tremaining: 5.15s\n",
      "667:\tlearn: 0.0003233\ttotal: 10.3s\tremaining: 5.13s\n",
      "668:\tlearn: 0.0003233\ttotal: 10.3s\tremaining: 5.11s\n",
      "669:\tlearn: 0.0003233\ttotal: 10.3s\tremaining: 5.1s\n",
      "670:\tlearn: 0.0003233\ttotal: 10.4s\tremaining: 5.08s\n",
      "671:\tlearn: 0.0003233\ttotal: 10.4s\tremaining: 5.07s\n",
      "672:\tlearn: 0.0003233\ttotal: 10.4s\tremaining: 5.05s\n",
      "673:\tlearn: 0.0003233\ttotal: 10.4s\tremaining: 5.04s\n",
      "674:\tlearn: 0.0003233\ttotal: 10.4s\tremaining: 5.03s\n",
      "675:\tlearn: 0.0003233\ttotal: 10.5s\tremaining: 5.01s\n",
      "676:\tlearn: 0.0003233\ttotal: 10.5s\tremaining: 5s\n",
      "677:\tlearn: 0.0003233\ttotal: 10.5s\tremaining: 4.98s\n",
      "678:\tlearn: 0.0003233\ttotal: 10.5s\tremaining: 4.96s\n",
      "679:\tlearn: 0.0003233\ttotal: 10.5s\tremaining: 4.95s\n",
      "680:\tlearn: 0.0003233\ttotal: 10.5s\tremaining: 4.93s\n",
      "681:\tlearn: 0.0003233\ttotal: 10.5s\tremaining: 4.92s\n",
      "682:\tlearn: 0.0003233\ttotal: 10.6s\tremaining: 4.9s\n",
      "683:\tlearn: 0.0003233\ttotal: 10.6s\tremaining: 4.88s\n",
      "684:\tlearn: 0.0003233\ttotal: 10.6s\tremaining: 4.87s\n",
      "685:\tlearn: 0.0003233\ttotal: 10.6s\tremaining: 4.85s\n",
      "686:\tlearn: 0.0003233\ttotal: 10.6s\tremaining: 4.84s\n",
      "687:\tlearn: 0.0003233\ttotal: 10.6s\tremaining: 4.82s\n",
      "688:\tlearn: 0.0003233\ttotal: 10.6s\tremaining: 4.8s\n",
      "689:\tlearn: 0.0003233\ttotal: 10.7s\tremaining: 4.79s\n",
      "690:\tlearn: 0.0003233\ttotal: 10.7s\tremaining: 4.77s\n",
      "691:\tlearn: 0.0003233\ttotal: 10.7s\tremaining: 4.76s\n",
      "692:\tlearn: 0.0003233\ttotal: 10.7s\tremaining: 4.74s\n",
      "693:\tlearn: 0.0003233\ttotal: 10.7s\tremaining: 4.73s\n",
      "694:\tlearn: 0.0003233\ttotal: 10.7s\tremaining: 4.71s\n",
      "695:\tlearn: 0.0003233\ttotal: 10.8s\tremaining: 4.7s\n",
      "696:\tlearn: 0.0003233\ttotal: 10.8s\tremaining: 4.68s\n",
      "697:\tlearn: 0.0003233\ttotal: 10.8s\tremaining: 4.66s\n",
      "698:\tlearn: 0.0003233\ttotal: 10.8s\tremaining: 4.65s\n",
      "699:\tlearn: 0.0003233\ttotal: 10.8s\tremaining: 4.63s\n",
      "700:\tlearn: 0.0003233\ttotal: 10.8s\tremaining: 4.62s\n",
      "701:\tlearn: 0.0003233\ttotal: 10.8s\tremaining: 4.6s\n",
      "702:\tlearn: 0.0003233\ttotal: 10.9s\tremaining: 4.58s\n",
      "703:\tlearn: 0.0003233\ttotal: 10.9s\tremaining: 4.57s\n",
      "704:\tlearn: 0.0003233\ttotal: 10.9s\tremaining: 4.55s\n",
      "705:\tlearn: 0.0003233\ttotal: 10.9s\tremaining: 4.54s\n",
      "706:\tlearn: 0.0003233\ttotal: 10.9s\tremaining: 4.52s\n",
      "707:\tlearn: 0.0003233\ttotal: 10.9s\tremaining: 4.51s\n",
      "708:\tlearn: 0.0003233\ttotal: 10.9s\tremaining: 4.49s\n",
      "709:\tlearn: 0.0003233\ttotal: 11s\tremaining: 4.47s\n",
      "710:\tlearn: 0.0003233\ttotal: 11s\tremaining: 4.46s\n",
      "711:\tlearn: 0.0003233\ttotal: 11s\tremaining: 4.44s\n",
      "712:\tlearn: 0.0003233\ttotal: 11s\tremaining: 4.43s\n",
      "713:\tlearn: 0.0003233\ttotal: 11s\tremaining: 4.41s\n",
      "714:\tlearn: 0.0003233\ttotal: 11s\tremaining: 4.4s\n",
      "715:\tlearn: 0.0003233\ttotal: 11s\tremaining: 4.38s\n",
      "716:\tlearn: 0.0003233\ttotal: 11.1s\tremaining: 4.37s\n",
      "717:\tlearn: 0.0003233\ttotal: 11.1s\tremaining: 4.35s\n",
      "718:\tlearn: 0.0003233\ttotal: 11.1s\tremaining: 4.34s\n",
      "719:\tlearn: 0.0003233\ttotal: 11.1s\tremaining: 4.32s\n",
      "720:\tlearn: 0.0003233\ttotal: 11.1s\tremaining: 4.3s\n",
      "721:\tlearn: 0.0003233\ttotal: 11.1s\tremaining: 4.29s\n",
      "722:\tlearn: 0.0003233\ttotal: 11.2s\tremaining: 4.27s\n",
      "723:\tlearn: 0.0003233\ttotal: 11.2s\tremaining: 4.26s\n",
      "724:\tlearn: 0.0003233\ttotal: 11.2s\tremaining: 4.24s\n",
      "725:\tlearn: 0.0003233\ttotal: 11.2s\tremaining: 4.22s\n",
      "726:\tlearn: 0.0003233\ttotal: 11.2s\tremaining: 4.21s\n",
      "727:\tlearn: 0.0003233\ttotal: 11.2s\tremaining: 4.2s\n",
      "728:\tlearn: 0.0003233\ttotal: 11.2s\tremaining: 4.18s\n",
      "729:\tlearn: 0.0003233\ttotal: 11.3s\tremaining: 4.16s\n",
      "730:\tlearn: 0.0003233\ttotal: 11.3s\tremaining: 4.15s\n",
      "731:\tlearn: 0.0003233\ttotal: 11.3s\tremaining: 4.13s\n",
      "732:\tlearn: 0.0003233\ttotal: 11.3s\tremaining: 4.12s\n",
      "733:\tlearn: 0.0003233\ttotal: 11.3s\tremaining: 4.1s\n",
      "734:\tlearn: 0.0003233\ttotal: 11.3s\tremaining: 4.09s\n",
      "735:\tlearn: 0.0003233\ttotal: 11.3s\tremaining: 4.07s\n",
      "736:\tlearn: 0.0003233\ttotal: 11.4s\tremaining: 4.05s\n",
      "737:\tlearn: 0.0003233\ttotal: 11.4s\tremaining: 4.04s\n",
      "738:\tlearn: 0.0003233\ttotal: 11.4s\tremaining: 4.02s\n",
      "739:\tlearn: 0.0003233\ttotal: 11.4s\tremaining: 4.01s\n",
      "740:\tlearn: 0.0003233\ttotal: 11.4s\tremaining: 4s\n",
      "741:\tlearn: 0.0003233\ttotal: 11.5s\tremaining: 3.98s\n",
      "742:\tlearn: 0.0003233\ttotal: 11.5s\tremaining: 3.96s\n",
      "743:\tlearn: 0.0003233\ttotal: 11.5s\tremaining: 3.95s\n",
      "744:\tlearn: 0.0003233\ttotal: 11.5s\tremaining: 3.94s\n",
      "745:\tlearn: 0.0003233\ttotal: 11.5s\tremaining: 3.92s\n",
      "746:\tlearn: 0.0003233\ttotal: 11.5s\tremaining: 3.9s\n",
      "747:\tlearn: 0.0003233\ttotal: 11.5s\tremaining: 3.89s\n",
      "748:\tlearn: 0.0003233\ttotal: 11.6s\tremaining: 3.87s\n",
      "749:\tlearn: 0.0003233\ttotal: 11.6s\tremaining: 3.86s\n",
      "750:\tlearn: 0.0003233\ttotal: 11.6s\tremaining: 3.84s\n",
      "751:\tlearn: 0.0003233\ttotal: 11.6s\tremaining: 3.82s\n",
      "752:\tlearn: 0.0003233\ttotal: 11.6s\tremaining: 3.81s\n",
      "753:\tlearn: 0.0003233\ttotal: 11.6s\tremaining: 3.79s\n",
      "754:\tlearn: 0.0003233\ttotal: 11.6s\tremaining: 3.78s\n",
      "755:\tlearn: 0.0003233\ttotal: 11.7s\tremaining: 3.76s\n",
      "756:\tlearn: 0.0003233\ttotal: 11.7s\tremaining: 3.75s\n",
      "757:\tlearn: 0.0003233\ttotal: 11.7s\tremaining: 3.73s\n",
      "758:\tlearn: 0.0003233\ttotal: 11.7s\tremaining: 3.72s\n",
      "759:\tlearn: 0.0003233\ttotal: 11.7s\tremaining: 3.7s\n",
      "760:\tlearn: 0.0003233\ttotal: 11.7s\tremaining: 3.69s\n",
      "761:\tlearn: 0.0003233\ttotal: 11.8s\tremaining: 3.67s\n",
      "762:\tlearn: 0.0003233\ttotal: 11.8s\tremaining: 3.65s\n",
      "763:\tlearn: 0.0003233\ttotal: 11.8s\tremaining: 3.64s\n",
      "764:\tlearn: 0.0003233\ttotal: 11.8s\tremaining: 3.62s\n",
      "765:\tlearn: 0.0003233\ttotal: 11.8s\tremaining: 3.61s\n",
      "766:\tlearn: 0.0003233\ttotal: 11.8s\tremaining: 3.59s\n",
      "767:\tlearn: 0.0003233\ttotal: 11.8s\tremaining: 3.58s\n",
      "768:\tlearn: 0.0003233\ttotal: 11.9s\tremaining: 3.56s\n",
      "769:\tlearn: 0.0003233\ttotal: 11.9s\tremaining: 3.54s\n",
      "770:\tlearn: 0.0003233\ttotal: 11.9s\tremaining: 3.53s\n",
      "771:\tlearn: 0.0003233\ttotal: 11.9s\tremaining: 3.51s\n",
      "772:\tlearn: 0.0003233\ttotal: 11.9s\tremaining: 3.5s\n",
      "773:\tlearn: 0.0003233\ttotal: 11.9s\tremaining: 3.48s\n",
      "774:\tlearn: 0.0003233\ttotal: 11.9s\tremaining: 3.47s\n",
      "775:\tlearn: 0.0003233\ttotal: 12s\tremaining: 3.45s\n",
      "776:\tlearn: 0.0003233\ttotal: 12s\tremaining: 3.44s\n",
      "777:\tlearn: 0.0003233\ttotal: 12s\tremaining: 3.42s\n",
      "778:\tlearn: 0.0003233\ttotal: 12s\tremaining: 3.4s\n",
      "779:\tlearn: 0.0003233\ttotal: 12s\tremaining: 3.39s\n",
      "780:\tlearn: 0.0003233\ttotal: 12s\tremaining: 3.37s\n",
      "781:\tlearn: 0.0003233\ttotal: 12s\tremaining: 3.36s\n",
      "782:\tlearn: 0.0003233\ttotal: 12.1s\tremaining: 3.34s\n",
      "783:\tlearn: 0.0003233\ttotal: 12.1s\tremaining: 3.33s\n",
      "784:\tlearn: 0.0003233\ttotal: 12.1s\tremaining: 3.31s\n",
      "785:\tlearn: 0.0003233\ttotal: 12.1s\tremaining: 3.3s\n",
      "786:\tlearn: 0.0003233\ttotal: 12.1s\tremaining: 3.28s\n",
      "787:\tlearn: 0.0003233\ttotal: 12.1s\tremaining: 3.27s\n",
      "788:\tlearn: 0.0003233\ttotal: 12.2s\tremaining: 3.25s\n",
      "789:\tlearn: 0.0003233\ttotal: 12.2s\tremaining: 3.23s\n",
      "790:\tlearn: 0.0003233\ttotal: 12.2s\tremaining: 3.22s\n",
      "791:\tlearn: 0.0003233\ttotal: 12.2s\tremaining: 3.2s\n",
      "792:\tlearn: 0.0003233\ttotal: 12.2s\tremaining: 3.19s\n",
      "793:\tlearn: 0.0003233\ttotal: 12.2s\tremaining: 3.17s\n",
      "794:\tlearn: 0.0003233\ttotal: 12.2s\tremaining: 3.15s\n",
      "795:\tlearn: 0.0003233\ttotal: 12.2s\tremaining: 3.14s\n",
      "796:\tlearn: 0.0003233\ttotal: 12.3s\tremaining: 3.12s\n",
      "797:\tlearn: 0.0003233\ttotal: 12.3s\tremaining: 3.11s\n",
      "798:\tlearn: 0.0003233\ttotal: 12.3s\tremaining: 3.09s\n",
      "799:\tlearn: 0.0003233\ttotal: 12.3s\tremaining: 3.08s\n",
      "800:\tlearn: 0.0003233\ttotal: 12.3s\tremaining: 3.06s\n",
      "801:\tlearn: 0.0003233\ttotal: 12.3s\tremaining: 3.05s\n",
      "802:\tlearn: 0.0003233\ttotal: 12.4s\tremaining: 3.03s\n",
      "803:\tlearn: 0.0003233\ttotal: 12.4s\tremaining: 3.02s\n",
      "804:\tlearn: 0.0003233\ttotal: 12.4s\tremaining: 3s\n",
      "805:\tlearn: 0.0003233\ttotal: 12.4s\tremaining: 2.98s\n",
      "806:\tlearn: 0.0003233\ttotal: 12.4s\tremaining: 2.97s\n",
      "807:\tlearn: 0.0003233\ttotal: 12.4s\tremaining: 2.95s\n",
      "808:\tlearn: 0.0003233\ttotal: 12.4s\tremaining: 2.94s\n",
      "809:\tlearn: 0.0003233\ttotal: 12.5s\tremaining: 2.92s\n",
      "810:\tlearn: 0.0003233\ttotal: 12.5s\tremaining: 2.91s\n",
      "811:\tlearn: 0.0003233\ttotal: 12.5s\tremaining: 2.89s\n",
      "812:\tlearn: 0.0003233\ttotal: 12.5s\tremaining: 2.88s\n",
      "813:\tlearn: 0.0003233\ttotal: 12.5s\tremaining: 2.86s\n",
      "814:\tlearn: 0.0003233\ttotal: 12.5s\tremaining: 2.85s\n",
      "815:\tlearn: 0.0003233\ttotal: 12.6s\tremaining: 2.83s\n",
      "816:\tlearn: 0.0003233\ttotal: 12.6s\tremaining: 2.81s\n",
      "817:\tlearn: 0.0003233\ttotal: 12.6s\tremaining: 2.8s\n",
      "818:\tlearn: 0.0003233\ttotal: 12.6s\tremaining: 2.78s\n",
      "819:\tlearn: 0.0003233\ttotal: 12.6s\tremaining: 2.77s\n",
      "820:\tlearn: 0.0003233\ttotal: 12.6s\tremaining: 2.75s\n",
      "821:\tlearn: 0.0003233\ttotal: 12.6s\tremaining: 2.74s\n",
      "822:\tlearn: 0.0003233\ttotal: 12.7s\tremaining: 2.72s\n",
      "823:\tlearn: 0.0003233\ttotal: 12.7s\tremaining: 2.71s\n",
      "824:\tlearn: 0.0003233\ttotal: 12.7s\tremaining: 2.69s\n",
      "825:\tlearn: 0.0003233\ttotal: 12.7s\tremaining: 2.67s\n",
      "826:\tlearn: 0.0003233\ttotal: 12.7s\tremaining: 2.66s\n",
      "827:\tlearn: 0.0003233\ttotal: 12.7s\tremaining: 2.64s\n",
      "828:\tlearn: 0.0003233\ttotal: 12.7s\tremaining: 2.63s\n",
      "829:\tlearn: 0.0003233\ttotal: 12.8s\tremaining: 2.61s\n",
      "830:\tlearn: 0.0003233\ttotal: 12.8s\tremaining: 2.6s\n",
      "831:\tlearn: 0.0003233\ttotal: 12.8s\tremaining: 2.58s\n",
      "832:\tlearn: 0.0003233\ttotal: 12.8s\tremaining: 2.57s\n",
      "833:\tlearn: 0.0003233\ttotal: 12.8s\tremaining: 2.55s\n",
      "834:\tlearn: 0.0003233\ttotal: 12.8s\tremaining: 2.53s\n",
      "835:\tlearn: 0.0003233\ttotal: 12.8s\tremaining: 2.52s\n",
      "836:\tlearn: 0.0003233\ttotal: 12.9s\tremaining: 2.5s\n",
      "837:\tlearn: 0.0003233\ttotal: 12.9s\tremaining: 2.49s\n",
      "838:\tlearn: 0.0003233\ttotal: 12.9s\tremaining: 2.47s\n",
      "839:\tlearn: 0.0003233\ttotal: 12.9s\tremaining: 2.46s\n",
      "840:\tlearn: 0.0003233\ttotal: 12.9s\tremaining: 2.44s\n",
      "841:\tlearn: 0.0003233\ttotal: 12.9s\tremaining: 2.43s\n",
      "842:\tlearn: 0.0003233\ttotal: 13s\tremaining: 2.41s\n",
      "843:\tlearn: 0.0003233\ttotal: 13s\tremaining: 2.4s\n",
      "844:\tlearn: 0.0003233\ttotal: 13s\tremaining: 2.38s\n",
      "845:\tlearn: 0.0003233\ttotal: 13s\tremaining: 2.37s\n",
      "846:\tlearn: 0.0003233\ttotal: 13s\tremaining: 2.35s\n",
      "847:\tlearn: 0.0003233\ttotal: 13s\tremaining: 2.33s\n",
      "848:\tlearn: 0.0003233\ttotal: 13s\tremaining: 2.32s\n",
      "849:\tlearn: 0.0003233\ttotal: 13.1s\tremaining: 2.3s\n",
      "850:\tlearn: 0.0003233\ttotal: 13.1s\tremaining: 2.29s\n",
      "851:\tlearn: 0.0003233\ttotal: 13.1s\tremaining: 2.27s\n",
      "852:\tlearn: 0.0003233\ttotal: 13.1s\tremaining: 2.26s\n",
      "853:\tlearn: 0.0003233\ttotal: 13.1s\tremaining: 2.24s\n",
      "854:\tlearn: 0.0003233\ttotal: 13.1s\tremaining: 2.23s\n",
      "855:\tlearn: 0.0003233\ttotal: 13.1s\tremaining: 2.21s\n",
      "856:\tlearn: 0.0003233\ttotal: 13.2s\tremaining: 2.19s\n",
      "857:\tlearn: 0.0003233\ttotal: 13.2s\tremaining: 2.18s\n",
      "858:\tlearn: 0.0003233\ttotal: 13.2s\tremaining: 2.16s\n",
      "859:\tlearn: 0.0003233\ttotal: 13.2s\tremaining: 2.15s\n",
      "860:\tlearn: 0.0003233\ttotal: 13.2s\tremaining: 2.13s\n",
      "861:\tlearn: 0.0003233\ttotal: 13.2s\tremaining: 2.12s\n",
      "862:\tlearn: 0.0003233\ttotal: 13.2s\tremaining: 2.1s\n",
      "863:\tlearn: 0.0003233\ttotal: 13.2s\tremaining: 2.08s\n",
      "864:\tlearn: 0.0003233\ttotal: 13.3s\tremaining: 2.07s\n",
      "865:\tlearn: 0.0003233\ttotal: 13.3s\tremaining: 2.05s\n",
      "866:\tlearn: 0.0003233\ttotal: 13.3s\tremaining: 2.04s\n",
      "867:\tlearn: 0.0003233\ttotal: 13.3s\tremaining: 2.02s\n",
      "868:\tlearn: 0.0003233\ttotal: 13.3s\tremaining: 2.01s\n",
      "869:\tlearn: 0.0003233\ttotal: 13.3s\tremaining: 1.99s\n",
      "870:\tlearn: 0.0003233\ttotal: 13.4s\tremaining: 1.98s\n",
      "871:\tlearn: 0.0003233\ttotal: 13.4s\tremaining: 1.96s\n",
      "872:\tlearn: 0.0003233\ttotal: 13.4s\tremaining: 1.95s\n",
      "873:\tlearn: 0.0003233\ttotal: 13.4s\tremaining: 1.93s\n",
      "874:\tlearn: 0.0003233\ttotal: 13.4s\tremaining: 1.92s\n",
      "875:\tlearn: 0.0003233\ttotal: 13.4s\tremaining: 1.9s\n",
      "876:\tlearn: 0.0003233\ttotal: 13.5s\tremaining: 1.89s\n",
      "877:\tlearn: 0.0003233\ttotal: 13.5s\tremaining: 1.87s\n",
      "878:\tlearn: 0.0003233\ttotal: 13.5s\tremaining: 1.86s\n",
      "879:\tlearn: 0.0003233\ttotal: 13.5s\tremaining: 1.84s\n",
      "880:\tlearn: 0.0003233\ttotal: 13.5s\tremaining: 1.82s\n",
      "881:\tlearn: 0.0003233\ttotal: 13.5s\tremaining: 1.81s\n",
      "882:\tlearn: 0.0003233\ttotal: 13.5s\tremaining: 1.79s\n",
      "883:\tlearn: 0.0003233\ttotal: 13.6s\tremaining: 1.78s\n",
      "884:\tlearn: 0.0003233\ttotal: 13.6s\tremaining: 1.76s\n",
      "885:\tlearn: 0.0003233\ttotal: 13.6s\tremaining: 1.75s\n",
      "886:\tlearn: 0.0003233\ttotal: 13.6s\tremaining: 1.73s\n",
      "887:\tlearn: 0.0003233\ttotal: 13.6s\tremaining: 1.72s\n",
      "888:\tlearn: 0.0003233\ttotal: 13.6s\tremaining: 1.7s\n",
      "889:\tlearn: 0.0003233\ttotal: 13.6s\tremaining: 1.69s\n",
      "890:\tlearn: 0.0003233\ttotal: 13.7s\tremaining: 1.67s\n",
      "891:\tlearn: 0.0003233\ttotal: 13.7s\tremaining: 1.66s\n",
      "892:\tlearn: 0.0003233\ttotal: 13.7s\tremaining: 1.64s\n",
      "893:\tlearn: 0.0003233\ttotal: 13.7s\tremaining: 1.63s\n",
      "894:\tlearn: 0.0003233\ttotal: 13.7s\tremaining: 1.61s\n",
      "895:\tlearn: 0.0003233\ttotal: 13.7s\tremaining: 1.59s\n",
      "896:\tlearn: 0.0003233\ttotal: 13.8s\tremaining: 1.58s\n",
      "897:\tlearn: 0.0003233\ttotal: 13.8s\tremaining: 1.56s\n",
      "898:\tlearn: 0.0003233\ttotal: 13.8s\tremaining: 1.55s\n",
      "899:\tlearn: 0.0003233\ttotal: 13.8s\tremaining: 1.53s\n",
      "900:\tlearn: 0.0003233\ttotal: 13.8s\tremaining: 1.52s\n",
      "901:\tlearn: 0.0003233\ttotal: 13.8s\tremaining: 1.5s\n",
      "902:\tlearn: 0.0003233\ttotal: 13.8s\tremaining: 1.49s\n",
      "903:\tlearn: 0.0003233\ttotal: 13.9s\tremaining: 1.47s\n",
      "904:\tlearn: 0.0003233\ttotal: 13.9s\tremaining: 1.46s\n",
      "905:\tlearn: 0.0003233\ttotal: 13.9s\tremaining: 1.44s\n",
      "906:\tlearn: 0.0003233\ttotal: 13.9s\tremaining: 1.43s\n",
      "907:\tlearn: 0.0003233\ttotal: 13.9s\tremaining: 1.41s\n",
      "908:\tlearn: 0.0003233\ttotal: 13.9s\tremaining: 1.39s\n",
      "909:\tlearn: 0.0003233\ttotal: 13.9s\tremaining: 1.38s\n",
      "910:\tlearn: 0.0003233\ttotal: 14s\tremaining: 1.36s\n",
      "911:\tlearn: 0.0003233\ttotal: 14s\tremaining: 1.35s\n",
      "912:\tlearn: 0.0003233\ttotal: 14s\tremaining: 1.33s\n",
      "913:\tlearn: 0.0003233\ttotal: 14s\tremaining: 1.32s\n",
      "914:\tlearn: 0.0003233\ttotal: 14s\tremaining: 1.3s\n",
      "915:\tlearn: 0.0003233\ttotal: 14s\tremaining: 1.29s\n",
      "916:\tlearn: 0.0003233\ttotal: 14s\tremaining: 1.27s\n",
      "917:\tlearn: 0.0003233\ttotal: 14.1s\tremaining: 1.25s\n",
      "918:\tlearn: 0.0003233\ttotal: 14.1s\tremaining: 1.24s\n",
      "919:\tlearn: 0.0003233\ttotal: 14.1s\tremaining: 1.23s\n",
      "920:\tlearn: 0.0003233\ttotal: 14.1s\tremaining: 1.21s\n",
      "921:\tlearn: 0.0003233\ttotal: 14.1s\tremaining: 1.19s\n",
      "922:\tlearn: 0.0003233\ttotal: 14.1s\tremaining: 1.18s\n",
      "923:\tlearn: 0.0003233\ttotal: 14.1s\tremaining: 1.16s\n",
      "924:\tlearn: 0.0003233\ttotal: 14.2s\tremaining: 1.15s\n",
      "925:\tlearn: 0.0003233\ttotal: 14.2s\tremaining: 1.13s\n",
      "926:\tlearn: 0.0003233\ttotal: 14.2s\tremaining: 1.12s\n",
      "927:\tlearn: 0.0003233\ttotal: 14.2s\tremaining: 1.1s\n",
      "928:\tlearn: 0.0003233\ttotal: 14.2s\tremaining: 1.09s\n",
      "929:\tlearn: 0.0003233\ttotal: 14.2s\tremaining: 1.07s\n",
      "930:\tlearn: 0.0003233\ttotal: 14.2s\tremaining: 1.06s\n",
      "931:\tlearn: 0.0003233\ttotal: 14.3s\tremaining: 1.04s\n",
      "932:\tlearn: 0.0003233\ttotal: 14.3s\tremaining: 1.02s\n",
      "933:\tlearn: 0.0003233\ttotal: 14.3s\tremaining: 1.01s\n",
      "934:\tlearn: 0.0003233\ttotal: 14.3s\tremaining: 994ms\n",
      "935:\tlearn: 0.0003233\ttotal: 14.3s\tremaining: 979ms\n",
      "936:\tlearn: 0.0003233\ttotal: 14.3s\tremaining: 964ms\n",
      "937:\tlearn: 0.0003233\ttotal: 14.4s\tremaining: 949ms\n",
      "938:\tlearn: 0.0003233\ttotal: 14.4s\tremaining: 934ms\n",
      "939:\tlearn: 0.0003233\ttotal: 14.4s\tremaining: 918ms\n",
      "940:\tlearn: 0.0003233\ttotal: 14.4s\tremaining: 904ms\n",
      "941:\tlearn: 0.0003233\ttotal: 14.4s\tremaining: 889ms\n",
      "942:\tlearn: 0.0003233\ttotal: 14.4s\tremaining: 873ms\n",
      "943:\tlearn: 0.0003233\ttotal: 14.5s\tremaining: 858ms\n",
      "944:\tlearn: 0.0003233\ttotal: 14.5s\tremaining: 842ms\n",
      "945:\tlearn: 0.0003233\ttotal: 14.5s\tremaining: 827ms\n",
      "946:\tlearn: 0.0003233\ttotal: 14.5s\tremaining: 812ms\n",
      "947:\tlearn: 0.0003233\ttotal: 14.5s\tremaining: 796ms\n",
      "948:\tlearn: 0.0003233\ttotal: 14.5s\tremaining: 781ms\n",
      "949:\tlearn: 0.0003233\ttotal: 14.5s\tremaining: 766ms\n",
      "950:\tlearn: 0.0003233\ttotal: 14.6s\tremaining: 750ms\n",
      "951:\tlearn: 0.0003233\ttotal: 14.6s\tremaining: 735ms\n",
      "952:\tlearn: 0.0003233\ttotal: 14.6s\tremaining: 720ms\n",
      "953:\tlearn: 0.0003233\ttotal: 14.6s\tremaining: 705ms\n",
      "954:\tlearn: 0.0003233\ttotal: 14.6s\tremaining: 689ms\n",
      "955:\tlearn: 0.0003233\ttotal: 14.6s\tremaining: 674ms\n",
      "956:\tlearn: 0.0003233\ttotal: 14.7s\tremaining: 659ms\n",
      "957:\tlearn: 0.0003233\ttotal: 14.7s\tremaining: 643ms\n",
      "958:\tlearn: 0.0003233\ttotal: 14.7s\tremaining: 628ms\n",
      "959:\tlearn: 0.0003233\ttotal: 14.7s\tremaining: 612ms\n",
      "960:\tlearn: 0.0003233\ttotal: 14.7s\tremaining: 597ms\n",
      "961:\tlearn: 0.0003233\ttotal: 14.7s\tremaining: 582ms\n",
      "962:\tlearn: 0.0003233\ttotal: 14.7s\tremaining: 567ms\n",
      "963:\tlearn: 0.0003233\ttotal: 14.8s\tremaining: 551ms\n",
      "964:\tlearn: 0.0003233\ttotal: 14.8s\tremaining: 536ms\n",
      "965:\tlearn: 0.0003233\ttotal: 14.8s\tremaining: 521ms\n",
      "966:\tlearn: 0.0003233\ttotal: 14.8s\tremaining: 505ms\n",
      "967:\tlearn: 0.0003233\ttotal: 14.8s\tremaining: 490ms\n",
      "968:\tlearn: 0.0003233\ttotal: 14.8s\tremaining: 475ms\n",
      "969:\tlearn: 0.0003233\ttotal: 14.9s\tremaining: 459ms\n",
      "970:\tlearn: 0.0003233\ttotal: 14.9s\tremaining: 444ms\n",
      "971:\tlearn: 0.0003233\ttotal: 14.9s\tremaining: 429ms\n",
      "972:\tlearn: 0.0003233\ttotal: 14.9s\tremaining: 413ms\n",
      "973:\tlearn: 0.0003233\ttotal: 14.9s\tremaining: 398ms\n",
      "974:\tlearn: 0.0003233\ttotal: 14.9s\tremaining: 383ms\n",
      "975:\tlearn: 0.0003233\ttotal: 14.9s\tremaining: 367ms\n",
      "976:\tlearn: 0.0003233\ttotal: 15s\tremaining: 352ms\n",
      "977:\tlearn: 0.0003233\ttotal: 15s\tremaining: 337ms\n",
      "978:\tlearn: 0.0003233\ttotal: 15s\tremaining: 321ms\n",
      "979:\tlearn: 0.0003233\ttotal: 15s\tremaining: 306ms\n",
      "980:\tlearn: 0.0003233\ttotal: 15s\tremaining: 291ms\n",
      "981:\tlearn: 0.0003233\ttotal: 15s\tremaining: 275ms\n",
      "982:\tlearn: 0.0003233\ttotal: 15s\tremaining: 260ms\n",
      "983:\tlearn: 0.0003233\ttotal: 15.1s\tremaining: 245ms\n",
      "984:\tlearn: 0.0003233\ttotal: 15.1s\tremaining: 229ms\n",
      "985:\tlearn: 0.0003233\ttotal: 15.1s\tremaining: 214ms\n",
      "986:\tlearn: 0.0003233\ttotal: 15.1s\tremaining: 199ms\n",
      "987:\tlearn: 0.0003233\ttotal: 15.1s\tremaining: 184ms\n",
      "988:\tlearn: 0.0003233\ttotal: 15.1s\tremaining: 168ms\n",
      "989:\tlearn: 0.0003233\ttotal: 15.1s\tremaining: 153ms\n",
      "990:\tlearn: 0.0003233\ttotal: 15.1s\tremaining: 138ms\n",
      "991:\tlearn: 0.0003233\ttotal: 15.2s\tremaining: 122ms\n",
      "992:\tlearn: 0.0003233\ttotal: 15.2s\tremaining: 107ms\n",
      "993:\tlearn: 0.0003233\ttotal: 15.2s\tremaining: 91.8ms\n",
      "994:\tlearn: 0.0003233\ttotal: 15.2s\tremaining: 76.5ms\n",
      "995:\tlearn: 0.0003233\ttotal: 15.2s\tremaining: 61.2ms\n",
      "996:\tlearn: 0.0003233\ttotal: 15.2s\tremaining: 45.9ms\n",
      "997:\tlearn: 0.0003233\ttotal: 15.3s\tremaining: 30.6ms\n",
      "998:\tlearn: 0.0003233\ttotal: 15.3s\tremaining: 15.3ms\n",
      "999:\tlearn: 0.0003233\ttotal: 15.3s\tremaining: 0us\n",
      "Test score:1.00\n",
      "Train score:1.00\n",
      "\n",
      "Classifcation report:\n",
      "               precision    recall  f1-score   support\n",
      "\n",
      "           0       1.00      1.00      1.00      2833\n",
      "           1       0.83      1.00      0.91         5\n",
      "\n",
      "    accuracy                           1.00      2838\n",
      "   macro avg       0.92      1.00      0.95      2838\n",
      "weighted avg       1.00      1.00      1.00      2838\n",
      "\n",
      "Confusion matrix:\n",
      " [[2832    1]\n",
      " [   0    5]]\n",
      "\n",
      "\n",
      "Accuracy :1.00\n",
      "AUC : 1.00\n",
      "Precision : 0.83\n",
      "Recall : 1.00\n",
      "F1 : 0.91\n",
      "\n",
      "\n"
     ]
    }
   ],
   "source": [
    "#instantiating  and fitting CatBoost Model\n",
    "ctb= CatBoostClassifier()\n",
    "ctb.fit(X_train_ros,y_train_ros)\n",
    "ctb_pred_ros=ctb.predict(X_test)\n",
    "\n",
    "#checking for the test and train accuracies\n",
    "print(\"Test score:{:.2f}\".format(ctb.score(X_test,y_test)))\n",
    "print(\"Train score:{:.2f}\\n\".format(ctb.score(X_train_ros,y_train_ros)))\n",
    "\n",
    "# Obtain the results from the classification report and confusion matrix \n",
    "print('Classifcation report:\\n', classification_report(y_test, ctb_pred_ros))\n",
    "print(\"Confusion matrix:\\n\",confusion_matrix(y_true=y_test, y_pred=ctb_pred_ros))\n",
    "\n",
    "print(\"\\n\")\n",
    "# Obtain metrics\n",
    "print('Accuracy :{0:0.2f}'.format(accuracy_score(ctb_pred_ros , y_test)))\n",
    "print('AUC : {0:0.2f}'.format(roc_auc_score(y_test , ctb_pred_ros)))\n",
    "print('Precision : {0:0.2f}'.format(precision_score(y_test , ctb_pred_ros)))\n",
    "print('Recall : {0:0.2f}'.format(recall_score(y_test , ctb_pred_ros)))\n",
    "print('F1 : {0:0.2f}'.format(f1_score(y_test , ctb_pred_ros)))\n",
    "print(\"\\n\")\n"
   ]
  },
  {
   "cell_type": "markdown",
   "id": "HsL1IkUhoAFY",
   "metadata": {
    "id": "HsL1IkUhoAFY"
   },
   "source": [
    "## Model Selection"
   ]
  },
  {
   "cell_type": "markdown",
   "id": "2t-52NEJpcri",
   "metadata": {
    "id": "2t-52NEJpcri"
   },
   "source": [
    "### Creating a DataFrame with Performance measures"
   ]
  },
  {
   "cell_type": "markdown",
   "id": "qr-JCMIa6t2q",
   "metadata": {
    "id": "qr-JCMIa6t2q"
   },
   "source": [
    "**Accuracy Scores**"
   ]
  },
  {
   "cell_type": "code",
   "execution_count": 30,
   "id": "GCP-G5vE6cuH",
   "metadata": {
    "executionInfo": {
     "elapsed": 30,
     "status": "ok",
     "timestamp": 1669461311454,
     "user": {
      "displayName": "Mohammed Fuseini",
      "userId": "12618026182013098003"
     },
     "user_tz": 0
    },
    "id": "GCP-G5vE6cuH"
   },
   "outputs": [],
   "source": [
    "#Accuracy Scores\n",
    "knn_ros_acc = accuracy_score(knn_y_pred_ros , y_test)\n",
    "logit_ros_acc = accuracy_score(logit_y_pred_ros , y_test)\n",
    "svc_ros_acc = accuracy_score(svc_y_pred_ros , y_test)\n",
    "tree_ros_acc = accuracy_score(tree_y_pred_ros , y_test)\n",
    "rfc_ros_acc = accuracy_score(rfc_y_pred_ros , y_test)\n",
    "bc_ros_acc = accuracy_score(bc_y_pred_ros , y_test)\n",
    "obb_ros_acc = accuracy_score(y_pred_oob_ros , y_test)\n",
    "adb_ros_acc = accuracy_score(adb_y_pred_ros , y_test)\n",
    "gbc_ros_acc = accuracy_score(gbc_y_pred_ros , y_test)\n",
    "vc_ros_acc = accuracy_score(vc_y_pred_ros , y_test)\n",
    "xgb_ros_acc = accuracy_score(xgb_pred_ros , y_test)\n",
    "ctb_ros_acc = accuracy_score(ctb_pred_ros,y_test)"
   ]
  },
  {
   "cell_type": "markdown",
   "id": "5V9YPQn26oWS",
   "metadata": {
    "id": "5V9YPQn26oWS"
   },
   "source": [
    "**Precision Scores**"
   ]
  },
  {
   "cell_type": "code",
   "execution_count": 31,
   "id": "cetXBOAVxWaz",
   "metadata": {
    "executionInfo": {
     "elapsed": 24,
     "status": "ok",
     "timestamp": 1669461311454,
     "user": {
      "displayName": "Mohammed Fuseini",
      "userId": "12618026182013098003"
     },
     "user_tz": 0
    },
    "id": "cetXBOAVxWaz"
   },
   "outputs": [],
   "source": [
    "#Accuracy Scores\n",
    "knn_ros_pre = precision_score(y_test, knn_y_pred_ros)\n",
    "logit_ros_pre = precision_score(y_test, logit_y_pred_ros)\n",
    "svc_ros_pre = precision_score(y_test, svc_y_pred_ros)\n",
    "tree_ros_pre = precision_score(y_test, tree_y_pred_ros)\n",
    "rfc_ros_pre = precision_score(y_test, rfc_y_pred_ros)\n",
    "bc_ros_pre = precision_score(y_test, bc_y_pred_ros)\n",
    "obb_ros_pre = precision_score(y_test, y_pred_oob_ros)\n",
    "adb_ros_pre = precision_score(y_test, adb_y_pred_ros)\n",
    "gbc_ros_pre = precision_score(y_test, gbc_y_pred_ros)\n",
    "vc_ros_pre = precision_score(y_test, vc_y_pred_ros)\n",
    "xgb_ros_pre = precision_score(y_test, xgb_pred_ros)\n",
    "ctb_ros_pre =precision_score(y_test, ctb_pred_ros)"
   ]
  },
  {
   "cell_type": "markdown",
   "id": "KFrmQr-A-mpC",
   "metadata": {
    "id": "KFrmQr-A-mpC"
   },
   "source": [
    "**Recall Scores**"
   ]
  },
  {
   "cell_type": "code",
   "execution_count": 32,
   "id": "qKDT8QCL-bld",
   "metadata": {
    "executionInfo": {
     "elapsed": 24,
     "status": "ok",
     "timestamp": 1669461311455,
     "user": {
      "displayName": "Mohammed Fuseini",
      "userId": "12618026182013098003"
     },
     "user_tz": 0
    },
    "id": "qKDT8QCL-bld"
   },
   "outputs": [],
   "source": [
    " #Recall Scores\n",
    "knn_ros_rcc = recall_score(y_test, knn_y_pred_ros)\n",
    "logit_ros_rcc = recall_score(y_test, logit_y_pred_ros)\n",
    "svc_ros_rcc = recall_score(y_test, svc_y_pred_ros)\n",
    "tree_ros_rcc = recall_score(y_test, tree_y_pred_ros)\n",
    "rfc_ros_rcc = recall_score(y_test, rfc_y_pred_ros)\n",
    "bc_ros_rcc = recall_score(y_test, bc_y_pred_ros)\n",
    "obb_ros_rcc = recall_score(y_test, y_pred_oob_ros)\n",
    "adb_ros_rcc = recall_score(y_test, adb_y_pred_ros)\n",
    "gbc_ros_rcc = recall_score(y_test, gbc_y_pred_ros)\n",
    "vc_ros_rcc = recall_score(y_test, vc_y_pred_ros)\n",
    "xgb_ros_rcc = recall_score(y_test, xgb_pred_ros)\n",
    "ctb_ros_rcc = recall_score(y_test, ctb_pred_ros)\n"
   ]
  },
  {
   "cell_type": "markdown",
   "id": "KY02Jb6-CbLi",
   "metadata": {
    "id": "KY02Jb6-CbLi"
   },
   "source": [
    "**F1 Scores**"
   ]
  },
  {
   "cell_type": "code",
   "execution_count": 33,
   "id": "uQW8_KzOCZ6M",
   "metadata": {
    "executionInfo": {
     "elapsed": 68,
     "status": "ok",
     "timestamp": 1669461312181,
     "user": {
      "displayName": "Mohammed Fuseini",
      "userId": "12618026182013098003"
     },
     "user_tz": 0
    },
    "id": "uQW8_KzOCZ6M"
   },
   "outputs": [],
   "source": [
    "#Recall Scores\n",
    "knn_ros_f1 = f1_score(y_test, knn_y_pred_ros)\n",
    "logit_ros_f1 = f1_score(y_test, logit_y_pred_ros)\n",
    "svc_ros_f1 = f1_score(y_test, svc_y_pred_ros)\n",
    "tree_ros_f1 = f1_score(y_test, tree_y_pred_ros)\n",
    "rfc_ros_f1 = f1_score(y_test, rfc_y_pred_ros)\n",
    "bc_ros_f1 = f1_score(y_test, bc_y_pred_ros)\n",
    "obb_ros_f1 = f1_score(y_test, y_pred_oob_ros)\n",
    "adb_ros_f1 = f1_score(y_test, adb_y_pred_ros)\n",
    "gbc_ros_f1 = f1_score(y_test, gbc_y_pred_ros)\n",
    "vc_ros_f1 = f1_score(y_test, vc_y_pred_ros)\n",
    "xgb_ros_f1 = f1_score(y_test, xgb_pred_ros)\n",
    "ctb_ros_f1 = f1_score(y_test, ctb_pred_ros)"
   ]
  },
  {
   "cell_type": "code",
   "execution_count": 34,
   "id": "s3qccAJ1oIvX",
   "metadata": {
    "executionInfo": {
     "elapsed": 68,
     "status": "ok",
     "timestamp": 1669461312182,
     "user": {
      "displayName": "Mohammed Fuseini",
      "userId": "12618026182013098003"
     },
     "user_tz": 0
    },
    "id": "s3qccAJ1oIvX"
   },
   "outputs": [],
   "source": [
    "#creating the list for models\n",
    "Model = ['KNN', 'Logit', 'SVC', 'Decision Tree','Random Forest', 'Bagging', 'OOB', \n",
    "         'AdaBoost','Gradient Boost','Voting', 'XGBOOST','CATBOOST']\n",
    "\n",
    "Accuracy_Test = [knn_ros_acc, logit_ros_acc, svc_ros_acc, tree_ros_acc, rfc_ros_acc, bc_ros_acc,\n",
    "                 obb_ros_acc, adb_ros_acc, gbc_ros_acc, vc_ros_acc, xgb_ros_acc,ctb_ros_acc]\n",
    "\n",
    "Precision_Test = [knn_ros_pre, logit_ros_pre, svc_ros_pre, tree_ros_pre, rfc_ros_pre, bc_ros_pre,\n",
    "                 obb_ros_pre, adb_ros_pre, gbc_ros_pre, vc_ros_pre, xgb_ros_pre,ctb_ros_pre]\n",
    "\n",
    "Recall_Test = [knn_ros_rcc, logit_ros_rcc, svc_ros_rcc,tree_ros_rcc, rfc_ros_rcc, bc_ros_rcc,\n",
    "                 obb_ros_rcc, adb_ros_rcc, gbc_ros_rcc, vc_ros_rcc, xgb_ros_rcc,ctb_ros_rcc] \n",
    "\n",
    "F1_Test = [knn_ros_f1, logit_ros_f1, svc_ros_f1, tree_ros_f1, rfc_ros_f1, bc_ros_f1,\n",
    "                 obb_ros_f1, adb_ros_f1, gbc_ros_f1,vc_ros_f1, xgb_ros_f1,ctb_ros_f1] "
   ]
  },
  {
   "cell_type": "code",
   "execution_count": 35,
   "id": "_5Utbi8yybBG",
   "metadata": {
    "colab": {
     "base_uri": "https://localhost:8080/",
     "height": 457
    },
    "executionInfo": {
     "elapsed": 68,
     "status": "ok",
     "timestamp": 1669461312183,
     "user": {
      "displayName": "Mohammed Fuseini",
      "userId": "12618026182013098003"
     },
     "user_tz": 0
    },
    "id": "_5Utbi8yybBG",
    "outputId": "f92931bc-083d-44ab-eb38-04fe4f56ceee"
   },
   "outputs": [
    {
     "data": {
      "text/html": [
       "\n",
       "  <div id=\"df-01aa182b-b6a9-40b0-bba8-cb43e7c447dd\">\n",
       "    <div class=\"colab-df-container\">\n",
       "      <div>\n",
       "<style scoped>\n",
       "    .dataframe tbody tr th:only-of-type {\n",
       "        vertical-align: middle;\n",
       "    }\n",
       "\n",
       "    .dataframe tbody tr th {\n",
       "        vertical-align: top;\n",
       "    }\n",
       "\n",
       "    .dataframe thead th {\n",
       "        text-align: right;\n",
       "    }\n",
       "</style>\n",
       "<table border=\"1\" class=\"dataframe\">\n",
       "  <thead>\n",
       "    <tr style=\"text-align: right;\">\n",
       "      <th></th>\n",
       "      <th>Accuracy_Test</th>\n",
       "      <th>Precision_Test</th>\n",
       "      <th>Recall_Test</th>\n",
       "      <th>F1_Test</th>\n",
       "    </tr>\n",
       "    <tr>\n",
       "      <th>Model</th>\n",
       "      <th></th>\n",
       "      <th></th>\n",
       "      <th></th>\n",
       "      <th></th>\n",
       "    </tr>\n",
       "  </thead>\n",
       "  <tbody>\n",
       "    <tr>\n",
       "      <th>KNN</th>\n",
       "      <td>0.998238</td>\n",
       "      <td>0.500000</td>\n",
       "      <td>0.6</td>\n",
       "      <td>0.545455</td>\n",
       "    </tr>\n",
       "    <tr>\n",
       "      <th>Logit</th>\n",
       "      <td>0.997886</td>\n",
       "      <td>0.454545</td>\n",
       "      <td>1.0</td>\n",
       "      <td>0.625000</td>\n",
       "    </tr>\n",
       "    <tr>\n",
       "      <th>SVC</th>\n",
       "      <td>0.998238</td>\n",
       "      <td>0.000000</td>\n",
       "      <td>0.0</td>\n",
       "      <td>0.000000</td>\n",
       "    </tr>\n",
       "    <tr>\n",
       "      <th>Decision Tree</th>\n",
       "      <td>0.977449</td>\n",
       "      <td>0.072464</td>\n",
       "      <td>1.0</td>\n",
       "      <td>0.135135</td>\n",
       "    </tr>\n",
       "    <tr>\n",
       "      <th>Random Forest</th>\n",
       "      <td>0.999648</td>\n",
       "      <td>0.833333</td>\n",
       "      <td>1.0</td>\n",
       "      <td>0.909091</td>\n",
       "    </tr>\n",
       "    <tr>\n",
       "      <th>Bagging</th>\n",
       "      <td>0.998943</td>\n",
       "      <td>0.666667</td>\n",
       "      <td>0.8</td>\n",
       "      <td>0.727273</td>\n",
       "    </tr>\n",
       "    <tr>\n",
       "      <th>OOB</th>\n",
       "      <td>0.999295</td>\n",
       "      <td>0.714286</td>\n",
       "      <td>1.0</td>\n",
       "      <td>0.833333</td>\n",
       "    </tr>\n",
       "    <tr>\n",
       "      <th>AdaBoost</th>\n",
       "      <td>0.998943</td>\n",
       "      <td>0.750000</td>\n",
       "      <td>0.6</td>\n",
       "      <td>0.666667</td>\n",
       "    </tr>\n",
       "    <tr>\n",
       "      <th>Gradient Boost</th>\n",
       "      <td>0.998943</td>\n",
       "      <td>0.625000</td>\n",
       "      <td>1.0</td>\n",
       "      <td>0.769231</td>\n",
       "    </tr>\n",
       "    <tr>\n",
       "      <th>Voting</th>\n",
       "      <td>0.999295</td>\n",
       "      <td>0.800000</td>\n",
       "      <td>0.8</td>\n",
       "      <td>0.800000</td>\n",
       "    </tr>\n",
       "    <tr>\n",
       "      <th>XGBOOST</th>\n",
       "      <td>0.999648</td>\n",
       "      <td>0.833333</td>\n",
       "      <td>1.0</td>\n",
       "      <td>0.909091</td>\n",
       "    </tr>\n",
       "    <tr>\n",
       "      <th>CATBOOST</th>\n",
       "      <td>0.999648</td>\n",
       "      <td>0.833333</td>\n",
       "      <td>1.0</td>\n",
       "      <td>0.909091</td>\n",
       "    </tr>\n",
       "  </tbody>\n",
       "</table>\n",
       "</div>\n",
       "      <button class=\"colab-df-convert\" onclick=\"convertToInteractive('df-01aa182b-b6a9-40b0-bba8-cb43e7c447dd')\"\n",
       "              title=\"Convert this dataframe to an interactive table.\"\n",
       "              style=\"display:none;\">\n",
       "        \n",
       "  <svg xmlns=\"http://www.w3.org/2000/svg\" height=\"24px\"viewBox=\"0 0 24 24\"\n",
       "       width=\"24px\">\n",
       "    <path d=\"M0 0h24v24H0V0z\" fill=\"none\"/>\n",
       "    <path d=\"M18.56 5.44l.94 2.06.94-2.06 2.06-.94-2.06-.94-.94-2.06-.94 2.06-2.06.94zm-11 1L8.5 8.5l.94-2.06 2.06-.94-2.06-.94L8.5 2.5l-.94 2.06-2.06.94zm10 10l.94 2.06.94-2.06 2.06-.94-2.06-.94-.94-2.06-.94 2.06-2.06.94z\"/><path d=\"M17.41 7.96l-1.37-1.37c-.4-.4-.92-.59-1.43-.59-.52 0-1.04.2-1.43.59L10.3 9.45l-7.72 7.72c-.78.78-.78 2.05 0 2.83L4 21.41c.39.39.9.59 1.41.59.51 0 1.02-.2 1.41-.59l7.78-7.78 2.81-2.81c.8-.78.8-2.07 0-2.86zM5.41 20L4 18.59l7.72-7.72 1.47 1.35L5.41 20z\"/>\n",
       "  </svg>\n",
       "      </button>\n",
       "      \n",
       "  <style>\n",
       "    .colab-df-container {\n",
       "      display:flex;\n",
       "      flex-wrap:wrap;\n",
       "      gap: 12px;\n",
       "    }\n",
       "\n",
       "    .colab-df-convert {\n",
       "      background-color: #E8F0FE;\n",
       "      border: none;\n",
       "      border-radius: 50%;\n",
       "      cursor: pointer;\n",
       "      display: none;\n",
       "      fill: #1967D2;\n",
       "      height: 32px;\n",
       "      padding: 0 0 0 0;\n",
       "      width: 32px;\n",
       "    }\n",
       "\n",
       "    .colab-df-convert:hover {\n",
       "      background-color: #E2EBFA;\n",
       "      box-shadow: 0px 1px 2px rgba(60, 64, 67, 0.3), 0px 1px 3px 1px rgba(60, 64, 67, 0.15);\n",
       "      fill: #174EA6;\n",
       "    }\n",
       "\n",
       "    [theme=dark] .colab-df-convert {\n",
       "      background-color: #3B4455;\n",
       "      fill: #D2E3FC;\n",
       "    }\n",
       "\n",
       "    [theme=dark] .colab-df-convert:hover {\n",
       "      background-color: #434B5C;\n",
       "      box-shadow: 0px 1px 3px 1px rgba(0, 0, 0, 0.15);\n",
       "      filter: drop-shadow(0px 1px 2px rgba(0, 0, 0, 0.3));\n",
       "      fill: #FFFFFF;\n",
       "    }\n",
       "  </style>\n",
       "\n",
       "      <script>\n",
       "        const buttonEl =\n",
       "          document.querySelector('#df-01aa182b-b6a9-40b0-bba8-cb43e7c447dd button.colab-df-convert');\n",
       "        buttonEl.style.display =\n",
       "          google.colab.kernel.accessAllowed ? 'block' : 'none';\n",
       "\n",
       "        async function convertToInteractive(key) {\n",
       "          const element = document.querySelector('#df-01aa182b-b6a9-40b0-bba8-cb43e7c447dd');\n",
       "          const dataTable =\n",
       "            await google.colab.kernel.invokeFunction('convertToInteractive',\n",
       "                                                     [key], {});\n",
       "          if (!dataTable) return;\n",
       "\n",
       "          const docLinkHtml = 'Like what you see? Visit the ' +\n",
       "            '<a target=\"_blank\" href=https://colab.research.google.com/notebooks/data_table.ipynb>data table notebook</a>'\n",
       "            + ' to learn more about interactive tables.';\n",
       "          element.innerHTML = '';\n",
       "          dataTable['output_type'] = 'display_data';\n",
       "          await google.colab.output.renderOutput(dataTable, element);\n",
       "          const docLink = document.createElement('div');\n",
       "          docLink.innerHTML = docLinkHtml;\n",
       "          element.appendChild(docLink);\n",
       "        }\n",
       "      </script>\n",
       "    </div>\n",
       "  </div>\n",
       "  "
      ],
      "text/plain": [
       "                Accuracy_Test  Precision_Test  Recall_Test   F1_Test\n",
       "Model                                                               \n",
       "KNN                  0.998238        0.500000          0.6  0.545455\n",
       "Logit                0.997886        0.454545          1.0  0.625000\n",
       "SVC                  0.998238        0.000000          0.0  0.000000\n",
       "Decision Tree        0.977449        0.072464          1.0  0.135135\n",
       "Random Forest        0.999648        0.833333          1.0  0.909091\n",
       "Bagging              0.998943        0.666667          0.8  0.727273\n",
       "OOB                  0.999295        0.714286          1.0  0.833333\n",
       "AdaBoost             0.998943        0.750000          0.6  0.666667\n",
       "Gradient Boost       0.998943        0.625000          1.0  0.769231\n",
       "Voting               0.999295        0.800000          0.8  0.800000\n",
       "XGBOOST              0.999648        0.833333          1.0  0.909091\n",
       "CATBOOST             0.999648        0.833333          1.0  0.909091"
      ]
     },
     "execution_count": 35,
     "metadata": {},
     "output_type": "execute_result"
    }
   ],
   "source": [
    "#Creating the DataFrame\n",
    "\n",
    "performance = pd.DataFrame({'Model':Model,\n",
    "                                        'Accuracy_Test':Accuracy_Test,\n",
    "                                        'Precision_Test':Precision_Test,\n",
    "                                        'Recall_Test':Recall_Test,\n",
    "                                        'F1_Test':F1_Test})\n",
    "performance.set_index('Model')"
   ]
  },
  {
   "cell_type": "code",
   "execution_count": 36,
   "id": "JWaudgPDyQZ_",
   "metadata": {
    "executionInfo": {
     "elapsed": 67,
     "status": "ok",
     "timestamp": 1669461312185,
     "user": {
      "displayName": "Mohammed Fuseini",
      "userId": "12618026182013098003"
     },
     "user_tz": 0
    },
    "id": "JWaudgPDyQZ_"
   },
   "outputs": [],
   "source": [
    "#Sorting by f1_score\n",
    "performance = performance.sort_values(['F1_Test','Recall_Test'],ascending=[False,False])\n",
    "performance = performance.reset_index(drop=True)"
   ]
  },
  {
   "cell_type": "code",
   "execution_count": 37,
   "id": "h3C5SKL4K9Vb",
   "metadata": {
    "colab": {
     "base_uri": "https://localhost:8080/",
     "height": 426
    },
    "executionInfo": {
     "elapsed": 67,
     "status": "ok",
     "timestamp": 1669461312186,
     "user": {
      "displayName": "Mohammed Fuseini",
      "userId": "12618026182013098003"
     },
     "user_tz": 0
    },
    "id": "h3C5SKL4K9Vb",
    "outputId": "cc007724-ce6a-4baa-f63d-7864d64ff258"
   },
   "outputs": [
    {
     "data": {
      "text/html": [
       "\n",
       "  <div id=\"df-11146c34-11c0-42ea-87a1-7469d9bc913f\">\n",
       "    <div class=\"colab-df-container\">\n",
       "      <div>\n",
       "<style scoped>\n",
       "    .dataframe tbody tr th:only-of-type {\n",
       "        vertical-align: middle;\n",
       "    }\n",
       "\n",
       "    .dataframe tbody tr th {\n",
       "        vertical-align: top;\n",
       "    }\n",
       "\n",
       "    .dataframe thead th {\n",
       "        text-align: right;\n",
       "    }\n",
       "</style>\n",
       "<table border=\"1\" class=\"dataframe\">\n",
       "  <thead>\n",
       "    <tr style=\"text-align: right;\">\n",
       "      <th></th>\n",
       "      <th>Model</th>\n",
       "      <th>Accuracy_Test</th>\n",
       "      <th>Precision_Test</th>\n",
       "      <th>Recall_Test</th>\n",
       "      <th>F1_Test</th>\n",
       "    </tr>\n",
       "  </thead>\n",
       "  <tbody>\n",
       "    <tr>\n",
       "      <th>0</th>\n",
       "      <td>Random Forest</td>\n",
       "      <td>0.999648</td>\n",
       "      <td>0.833333</td>\n",
       "      <td>1.0</td>\n",
       "      <td>0.909091</td>\n",
       "    </tr>\n",
       "    <tr>\n",
       "      <th>1</th>\n",
       "      <td>XGBOOST</td>\n",
       "      <td>0.999648</td>\n",
       "      <td>0.833333</td>\n",
       "      <td>1.0</td>\n",
       "      <td>0.909091</td>\n",
       "    </tr>\n",
       "    <tr>\n",
       "      <th>2</th>\n",
       "      <td>CATBOOST</td>\n",
       "      <td>0.999648</td>\n",
       "      <td>0.833333</td>\n",
       "      <td>1.0</td>\n",
       "      <td>0.909091</td>\n",
       "    </tr>\n",
       "    <tr>\n",
       "      <th>3</th>\n",
       "      <td>OOB</td>\n",
       "      <td>0.999295</td>\n",
       "      <td>0.714286</td>\n",
       "      <td>1.0</td>\n",
       "      <td>0.833333</td>\n",
       "    </tr>\n",
       "    <tr>\n",
       "      <th>4</th>\n",
       "      <td>Voting</td>\n",
       "      <td>0.999295</td>\n",
       "      <td>0.800000</td>\n",
       "      <td>0.8</td>\n",
       "      <td>0.800000</td>\n",
       "    </tr>\n",
       "    <tr>\n",
       "      <th>5</th>\n",
       "      <td>Gradient Boost</td>\n",
       "      <td>0.998943</td>\n",
       "      <td>0.625000</td>\n",
       "      <td>1.0</td>\n",
       "      <td>0.769231</td>\n",
       "    </tr>\n",
       "    <tr>\n",
       "      <th>6</th>\n",
       "      <td>Bagging</td>\n",
       "      <td>0.998943</td>\n",
       "      <td>0.666667</td>\n",
       "      <td>0.8</td>\n",
       "      <td>0.727273</td>\n",
       "    </tr>\n",
       "    <tr>\n",
       "      <th>7</th>\n",
       "      <td>AdaBoost</td>\n",
       "      <td>0.998943</td>\n",
       "      <td>0.750000</td>\n",
       "      <td>0.6</td>\n",
       "      <td>0.666667</td>\n",
       "    </tr>\n",
       "    <tr>\n",
       "      <th>8</th>\n",
       "      <td>Logit</td>\n",
       "      <td>0.997886</td>\n",
       "      <td>0.454545</td>\n",
       "      <td>1.0</td>\n",
       "      <td>0.625000</td>\n",
       "    </tr>\n",
       "    <tr>\n",
       "      <th>9</th>\n",
       "      <td>KNN</td>\n",
       "      <td>0.998238</td>\n",
       "      <td>0.500000</td>\n",
       "      <td>0.6</td>\n",
       "      <td>0.545455</td>\n",
       "    </tr>\n",
       "    <tr>\n",
       "      <th>10</th>\n",
       "      <td>Decision Tree</td>\n",
       "      <td>0.977449</td>\n",
       "      <td>0.072464</td>\n",
       "      <td>1.0</td>\n",
       "      <td>0.135135</td>\n",
       "    </tr>\n",
       "    <tr>\n",
       "      <th>11</th>\n",
       "      <td>SVC</td>\n",
       "      <td>0.998238</td>\n",
       "      <td>0.000000</td>\n",
       "      <td>0.0</td>\n",
       "      <td>0.000000</td>\n",
       "    </tr>\n",
       "  </tbody>\n",
       "</table>\n",
       "</div>\n",
       "      <button class=\"colab-df-convert\" onclick=\"convertToInteractive('df-11146c34-11c0-42ea-87a1-7469d9bc913f')\"\n",
       "              title=\"Convert this dataframe to an interactive table.\"\n",
       "              style=\"display:none;\">\n",
       "        \n",
       "  <svg xmlns=\"http://www.w3.org/2000/svg\" height=\"24px\"viewBox=\"0 0 24 24\"\n",
       "       width=\"24px\">\n",
       "    <path d=\"M0 0h24v24H0V0z\" fill=\"none\"/>\n",
       "    <path d=\"M18.56 5.44l.94 2.06.94-2.06 2.06-.94-2.06-.94-.94-2.06-.94 2.06-2.06.94zm-11 1L8.5 8.5l.94-2.06 2.06-.94-2.06-.94L8.5 2.5l-.94 2.06-2.06.94zm10 10l.94 2.06.94-2.06 2.06-.94-2.06-.94-.94-2.06-.94 2.06-2.06.94z\"/><path d=\"M17.41 7.96l-1.37-1.37c-.4-.4-.92-.59-1.43-.59-.52 0-1.04.2-1.43.59L10.3 9.45l-7.72 7.72c-.78.78-.78 2.05 0 2.83L4 21.41c.39.39.9.59 1.41.59.51 0 1.02-.2 1.41-.59l7.78-7.78 2.81-2.81c.8-.78.8-2.07 0-2.86zM5.41 20L4 18.59l7.72-7.72 1.47 1.35L5.41 20z\"/>\n",
       "  </svg>\n",
       "      </button>\n",
       "      \n",
       "  <style>\n",
       "    .colab-df-container {\n",
       "      display:flex;\n",
       "      flex-wrap:wrap;\n",
       "      gap: 12px;\n",
       "    }\n",
       "\n",
       "    .colab-df-convert {\n",
       "      background-color: #E8F0FE;\n",
       "      border: none;\n",
       "      border-radius: 50%;\n",
       "      cursor: pointer;\n",
       "      display: none;\n",
       "      fill: #1967D2;\n",
       "      height: 32px;\n",
       "      padding: 0 0 0 0;\n",
       "      width: 32px;\n",
       "    }\n",
       "\n",
       "    .colab-df-convert:hover {\n",
       "      background-color: #E2EBFA;\n",
       "      box-shadow: 0px 1px 2px rgba(60, 64, 67, 0.3), 0px 1px 3px 1px rgba(60, 64, 67, 0.15);\n",
       "      fill: #174EA6;\n",
       "    }\n",
       "\n",
       "    [theme=dark] .colab-df-convert {\n",
       "      background-color: #3B4455;\n",
       "      fill: #D2E3FC;\n",
       "    }\n",
       "\n",
       "    [theme=dark] .colab-df-convert:hover {\n",
       "      background-color: #434B5C;\n",
       "      box-shadow: 0px 1px 3px 1px rgba(0, 0, 0, 0.15);\n",
       "      filter: drop-shadow(0px 1px 2px rgba(0, 0, 0, 0.3));\n",
       "      fill: #FFFFFF;\n",
       "    }\n",
       "  </style>\n",
       "\n",
       "      <script>\n",
       "        const buttonEl =\n",
       "          document.querySelector('#df-11146c34-11c0-42ea-87a1-7469d9bc913f button.colab-df-convert');\n",
       "        buttonEl.style.display =\n",
       "          google.colab.kernel.accessAllowed ? 'block' : 'none';\n",
       "\n",
       "        async function convertToInteractive(key) {\n",
       "          const element = document.querySelector('#df-11146c34-11c0-42ea-87a1-7469d9bc913f');\n",
       "          const dataTable =\n",
       "            await google.colab.kernel.invokeFunction('convertToInteractive',\n",
       "                                                     [key], {});\n",
       "          if (!dataTable) return;\n",
       "\n",
       "          const docLinkHtml = 'Like what you see? Visit the ' +\n",
       "            '<a target=\"_blank\" href=https://colab.research.google.com/notebooks/data_table.ipynb>data table notebook</a>'\n",
       "            + ' to learn more about interactive tables.';\n",
       "          element.innerHTML = '';\n",
       "          dataTable['output_type'] = 'display_data';\n",
       "          await google.colab.output.renderOutput(dataTable, element);\n",
       "          const docLink = document.createElement('div');\n",
       "          docLink.innerHTML = docLinkHtml;\n",
       "          element.appendChild(docLink);\n",
       "        }\n",
       "      </script>\n",
       "    </div>\n",
       "  </div>\n",
       "  "
      ],
      "text/plain": [
       "             Model  Accuracy_Test  Precision_Test  Recall_Test   F1_Test\n",
       "0    Random Forest       0.999648        0.833333          1.0  0.909091\n",
       "1          XGBOOST       0.999648        0.833333          1.0  0.909091\n",
       "2         CATBOOST       0.999648        0.833333          1.0  0.909091\n",
       "3              OOB       0.999295        0.714286          1.0  0.833333\n",
       "4           Voting       0.999295        0.800000          0.8  0.800000\n",
       "5   Gradient Boost       0.998943        0.625000          1.0  0.769231\n",
       "6          Bagging       0.998943        0.666667          0.8  0.727273\n",
       "7         AdaBoost       0.998943        0.750000          0.6  0.666667\n",
       "8            Logit       0.997886        0.454545          1.0  0.625000\n",
       "9              KNN       0.998238        0.500000          0.6  0.545455\n",
       "10   Decision Tree       0.977449        0.072464          1.0  0.135135\n",
       "11             SVC       0.998238        0.000000          0.0  0.000000"
      ]
     },
     "execution_count": 37,
     "metadata": {},
     "output_type": "execute_result"
    }
   ],
   "source": [
    "performance"
   ]
  },
  {
   "cell_type": "code",
   "execution_count": 69,
   "id": "kMb1oypfdDTO",
   "metadata": {
    "colab": {
     "base_uri": "https://localhost:8080/",
     "height": 335
    },
    "executionInfo": {
     "elapsed": 1542,
     "status": "ok",
     "timestamp": 1669463790895,
     "user": {
      "displayName": "Mohammed Fuseini",
      "userId": "12618026182013098003"
     },
     "user_tz": 0
    },
    "id": "kMb1oypfdDTO",
    "outputId": "6453b1c0-7051-433a-e92c-4e6471979d86"
   },
   "outputs": [
    {
     "data": {
      "image/png": "[encoded data removed]",
      "text/plain": [
       "<Figure size 720x360 with 1 Axes>"
      ]
     },
     "metadata": {
      "needs_background": "light"
     },
     "output_type": "display_data"
    }
   ],
   "source": [
    "plt.figure(figsize=(10,5))\n",
    "ax = sns.barplot(y=\"Model\", x=\"F1_Test\", data = performance, color = \"b\", alpha = 0.4)\n",
    "sns.despine(top=True, right=True, left=False, bottom=True)\n",
    "for rect in ax.patches:\n",
    "    ax.text (rect.get_width(), rect.get_y() + rect.get_height() / 2,\"%.2f\"% rect.get_width(), weight='bold',ha = 'left', va = 'center')\n",
    "plt.show()"
   ]
  },
  {
   "cell_type": "markdown",
   "id": "4VHVDoKg5XD4",
   "metadata": {
    "id": "4VHVDoKg5XD4"
   },
   "source": [
    "### **Best Model**\n",
    "\n",
    "After training each of the models, these are the final results. The scores for XGBOOST and the Random Forest models are very promising for our dataset! Each model has a 100% recall scorce and high F1 score, which is exactly what we’re looking for. This means wthe models capture more fraudulent transactions, but also flag some normal transactions as fraudulent.\n",
    " \n",
    "**Random Forest with Oversampling technique is our final model, as this give highest F1 score of 90.90% on test datasets.**"
   ]
  },
  {
   "cell_type": "markdown",
   "id": "fsr_PBKCWoYT",
   "metadata": {
    "id": "fsr_PBKCWoYT"
   },
   "source": [
    "## **Feature Importance**"
   ]
  },
  {
   "cell_type": "code",
   "execution_count": 39,
   "id": "-qbfZWhcJNdT",
   "metadata": {
    "colab": {
     "base_uri": "https://localhost:8080/"
    },
    "executionInfo": {
     "elapsed": 64,
     "status": "ok",
     "timestamp": 1669461312188,
     "user": {
      "displayName": "Mohammed Fuseini",
      "userId": "12618026182013098003"
     },
     "user_tz": 0
    },
    "id": "-qbfZWhcJNdT",
    "outputId": "a97b4d39-994d-489c-9a08-d26bc5e2400a"
   },
   "outputs": [
    {
     "data": {
      "text/plain": [
       "array([1.66714114e-03, 8.87413101e-03, 7.64997910e-04, 1.02608095e-02,\n",
       "       4.04928625e-02, 5.88834619e-03, 2.31930926e-03, 5.17189909e-02,\n",
       "       1.70984492e-03, 1.41305180e-02, 4.27793894e-02, 7.84848730e-02,\n",
       "       1.42413799e-01, 3.42201751e-03, 2.92380768e-01, 2.76462412e-04,\n",
       "       6.77735634e-02, 1.54926563e-01, 1.46025667e-03, 7.72203103e-03,\n",
       "       1.07744583e-03, 6.55237232e-03, 2.02144857e-03, 9.50026283e-04,\n",
       "       3.97651913e-03, 2.83767024e-04, 5.29537437e-06, 0.00000000e+00,\n",
       "       4.45648463e-02, 1.11016045e-02])"
      ]
     },
     "execution_count": 39,
     "metadata": {},
     "output_type": "execute_result"
    }
   ],
   "source": [
    "rfc.feature_importances_"
   ]
  },
  {
   "cell_type": "code",
   "execution_count": 40,
   "id": "UevVXmdgYRAX",
   "metadata": {
    "executionInfo": {
     "elapsed": 55,
     "status": "ok",
     "timestamp": 1669461312189,
     "user": {
      "displayName": "Mohammed Fuseini",
      "userId": "12618026182013098003"
     },
     "user_tz": 0
    },
    "id": "UevVXmdgYRAX"
   },
   "outputs": [],
   "source": [
    "feature_importances = pd.DataFrame({\"Features\":X_train_ros.columns,\"Importance\":rfc.feature_importances_})"
   ]
  },
  {
   "cell_type": "code",
   "execution_count": 41,
   "id": "9ZV7A57pY0Y4",
   "metadata": {
    "executionInfo": {
     "elapsed": 55,
     "status": "ok",
     "timestamp": 1669461312190,
     "user": {
      "displayName": "Mohammed Fuseini",
      "userId": "12618026182013098003"
     },
     "user_tz": 0
    },
    "id": "9ZV7A57pY0Y4"
   },
   "outputs": [],
   "source": [
    "feature_importances = feature_importances.sort_values(by = 'Importance',ascending = False)"
   ]
  },
  {
   "cell_type": "code",
   "execution_count": 71,
   "id": "EDCSgOdFZLfp",
   "metadata": {
    "colab": {
     "base_uri": "https://localhost:8080/",
     "height": 606
    },
    "executionInfo": {
     "elapsed": 1015,
     "status": "ok",
     "timestamp": 1669463931006,
     "user": {
      "displayName": "Mohammed Fuseini",
      "userId": "12618026182013098003"
     },
     "user_tz": 0
    },
    "id": "EDCSgOdFZLfp",
    "outputId": "0fb13b3e-8636-48b6-eb81-207e582e414e"
   },
   "outputs": [
    {
     "data": {
      "image/png": "[encoded data removed]",
      "text/plain": [
       "<Figure size 720x720 with 1 Axes>"
      ]
     },
     "metadata": {
      "needs_background": "light"
     },
     "output_type": "display_data"
    }
   ],
   "source": [
    "plt.figure(figsize=(10,10))\n",
    "ax = sns.barplot(x='Importance',y='Features',data = feature_importances, color = 'g',alpha = 0.4)\n",
    "sns.despine(top=True, right=True, left=False, bottom=True)\n",
    "\n",
    "for rect in ax.patches:\n",
    "    ax.text (rect.get_width(), rect.get_y() + rect.get_height() / 2,\"%.2f%%\"% rect.get_width(), weight='bold',ha = 'left', va = 'center')\n",
    "\n",
    "\n",
    "plt.show()"
   ]
  },
  {
   "cell_type": "markdown",
   "id": "HqTfI2Z2bp4o",
   "metadata": {
    "id": "HqTfI2Z2bp4o"
   },
   "source": [
    "From the plot above, the first 3 importance features include:\n",
    "\n",
    "1. V14\n",
    "2. V17\n",
    "3. V12\n",
    "4. V16\n",
    "5. V7\n"
   ]
  },
  {
   "cell_type": "markdown",
   "id": "_UytGSNWcGC7",
   "metadata": {
    "id": "_UytGSNWcGC7"
   },
   "source": [
    "**THANK YOU**"
   ]
  }
 ],
 "metadata": {
  "accelerator": "TPU",
  "colab": {
   "collapsed_sections": [
    "5tJgIcUq7qeB",
    "2d27558c",
    "addd248e",
    "9a1a045e",
    "8Set8rp0NnPx",
    "M0_SJCMwLFMR",
    "Re3yg9STjOdg",
    "gKYHABkPTQ0T",
    "ve1MdLhCSyCP",
    "3DdH-Lpx_tuH",
    "cZUhAVf03L0t",
    "wdkd3d033ngo",
    "MMsRauKQ4xOl",
    "1hhKAqsR7lTq",
    "kjzdwFBX8opH",
    "L13a0K2-KZDy",
    "hAGxDeMpF3z_",
    "iyA7Ls1_GKd5",
    "nsa_sK0WGX9h",
    "y6RzQCkpGrcy",
    "gZQ2eMvbLs_G",
    "A8X8s-BkLmin",
    "rhdaw2wnL5a8",
    "EpYYScEzMFDh",
    "YupALLV2LfOK",
    "xq9fuYx5eWw5",
    "Hp5zPNuoftL1"
   ],
   "provenance": []
  },
  "gpuClass": "standard",
  "kernelspec": {
   "display_name": "Python 3",
   "language": "python",
   "name": "python3"
  },
  "language_info": {
   "codemirror_mode": {
    "name": "ipython",
    "version": 3
   },
   "file_extension": ".py",
   "mimetype": "text/x-python",
   "name": "python",
   "nbconvert_exporter": "python",
   "pygments_lexer": "ipython3",
   "version": "3.8.8"
  }
 },
 "nbformat": 4,
 "nbformat_minor": 5
}
